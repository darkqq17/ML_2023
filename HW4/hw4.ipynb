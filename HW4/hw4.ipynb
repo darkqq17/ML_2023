{
  "cells": [
    {
      "cell_type": "markdown",
      "metadata": {
        "id": "C_jdZ5vHJ4A9"
      },
      "source": [
        "# Task description\n",
        "- Classify the speakers of given features.\n",
        "- Main goal: Learn how to use transformer.\n",
        "- Baselines:\n",
        "  - Easy: Run sample code and know how to use transformer.\n",
        "  - Medium: Know how to adjust parameters of transformer.\n",
        "  - Strong: Construct [conformer](https://arxiv.org/abs/2005.08100) which is a variety of transformer. \n",
        "  - Boss: Implement [Self-Attention Pooling](https://arxiv.org/pdf/2008.01077v1.pdf) & [Additive Margin Softmax](https://arxiv.org/pdf/1801.05599.pdf) to further boost the performance.\n",
        "\n",
        "- Other links\n",
        "  - Competiton: [link](https://www.kaggle.com/t/49ea0c385a974db5919ec67299ba2e6b)\n",
        "  - Slide: [link](https://docs.google.com/presentation/d/1LDAW0GGrC9B6D7dlNdYzQL6D60-iKgFr/edit?usp=sharing&ouid=104280564485377739218&rtpof=true&sd=true)\n",
        "  - Data: [link](https://github.com/googly-mingto/ML2023HW4/releases)\n",
        "\n"
      ]
    },
    {
      "cell_type": "code",
      "execution_count": 10,
      "metadata": {
        "id": "E6burzCXIyuA"
      },
      "outputs": [],
      "source": [
        "import numpy as np\n",
        "import torch\n",
        "import random\n",
        "\n",
        "def set_seed(seed):\n",
        "    np.random.seed(seed)\n",
        "    random.seed(seed)\n",
        "    torch.manual_seed(seed)\n",
        "    if torch.cuda.is_available():\n",
        "        torch.cuda.manual_seed(seed)\n",
        "        torch.cuda.manual_seed_all(seed)\n",
        "    torch.backends.cudnn.benchmark = False\n",
        "    torch.backends.cudnn.deterministic = True\n",
        "\n",
        "set_seed(87)"
      ]
    },
    {
      "cell_type": "markdown",
      "metadata": {
        "id": "k7dVbxW2LASN"
      },
      "source": [
        "# Data\n",
        "\n",
        "## Dataset\n",
        "- Original dataset is [Voxceleb2](https://www.robots.ox.ac.uk/~vgg/data/voxceleb/vox2.html).\n",
        "- The [license](https://creativecommons.org/licenses/by/4.0/) and [complete version](https://www.robots.ox.ac.uk/~vgg/data/voxceleb/files/license.txt) of Voxceleb2.\n",
        "- We randomly select 600 speakers from Voxceleb2.\n",
        "- Then preprocess the raw waveforms into mel-spectrograms.\n",
        "\n",
        "- Args:\n",
        "  - data_dir: The path to the data directory.\n",
        "  - metadata_path: The path to the metadata.\n",
        "  - segment_len: The length of audio segment for training. \n",
        "- The architecture of data directory \\\\\n",
        "  - data directory \\\\\n",
        "  |---- metadata.json \\\\\n",
        "  |---- testdata.json \\\\\n",
        "  |---- mapping.json \\\\\n",
        "  |---- uttr-{random string}.pt \\\\\n",
        "\n",
        "- The information in metadata\n",
        "  - \"n_mels\": The dimention of mel-spectrogram.\n",
        "  - \"speakers\": A dictionary. \n",
        "    - Key: speaker ids.\n",
        "    - value: \"feature_path\" and \"mel_len\"\n",
        "\n",
        "\n",
        "For efficiency, we segment the mel-spectrograms into segments in the traing step."
      ]
    },
    {
      "cell_type": "code",
      "execution_count": 11,
      "metadata": {
        "id": "KpuGxl4CI2pr"
      },
      "outputs": [],
      "source": [
        "import os\n",
        "import json\n",
        "import torch\n",
        "import random\n",
        "from pathlib import Path\n",
        "from torch.utils.data import Dataset\n",
        "from torch.nn.utils.rnn import pad_sequence\n",
        " \n",
        " \n",
        "class myDataset(Dataset):\n",
        "\tdef __init__(self, data_dir, segment_len=128):\n",
        "\t\tself.data_dir = data_dir\n",
        "\t\tself.segment_len = segment_len\n",
        "\t\n",
        "\t\t# Load the mapping from speaker neme to their corresponding id. \n",
        "\t\tmapping_path = Path(data_dir) / \"mapping.json\"\n",
        "\t\tmapping = json.load(mapping_path.open())\n",
        "\t\tself.speaker2id = mapping[\"speaker2id\"]\n",
        "\t\n",
        "\t\t# Load metadata of training data.\n",
        "\t\tmetadata_path = Path(data_dir) / \"metadata.json\"\n",
        "\t\tmetadata = json.load(open(metadata_path))[\"speakers\"]\n",
        "\t\n",
        "\t\t# Get the total number of speaker.\n",
        "\t\tself.speaker_num = len(metadata.keys())\n",
        "\t\tself.data = []\n",
        "\t\tfor speaker in metadata.keys():\n",
        "\t\t\tfor utterances in metadata[speaker]:\n",
        "\t\t\t\tself.data.append([utterances[\"feature_path\"], self.speaker2id[speaker]])\n",
        " \n",
        "\tdef __len__(self):\n",
        "\t\t\treturn len(self.data)\n",
        " \n",
        "\tdef __getitem__(self, index):\n",
        "\t\tfeat_path, speaker = self.data[index]\n",
        "\t\t# Load preprocessed mel-spectrogram.\n",
        "\t\tmel = torch.load(os.path.join(self.data_dir, feat_path))\n",
        "\n",
        "\t\t# Segmemt mel-spectrogram into \"segment_len\" frames.\n",
        "\t\tif len(mel) > self.segment_len:\n",
        "\t\t\t# Randomly get the starting point of the segment.\n",
        "\t\t\tstart = random.randint(0, len(mel) - self.segment_len)\n",
        "\t\t\t# Get a segment with \"segment_len\" frames.\n",
        "\t\t\tmel = torch.FloatTensor(mel[start:start+self.segment_len])\n",
        "\t\telse:\n",
        "\t\t\tmel = torch.FloatTensor(mel)\n",
        "\t\t# Turn the speaker id into long for computing loss later.\n",
        "\t\tspeaker = torch.FloatTensor([speaker]).long()\n",
        "\t\treturn mel, speaker\n",
        " \n",
        "\tdef get_speaker_number(self):\n",
        "\t\treturn self.speaker_num"
      ]
    },
    {
      "cell_type": "markdown",
      "metadata": {
        "id": "668hverTMlGN"
      },
      "source": [
        "## Dataloader\n",
        "- Split dataset into training dataset(90%) and validation dataset(10%).\n",
        "- Create dataloader to iterate the data."
      ]
    },
    {
      "cell_type": "code",
      "execution_count": 12,
      "metadata": {
        "id": "B7c2gZYoJDRS"
      },
      "outputs": [],
      "source": [
        "import torch\n",
        "from torch.utils.data import DataLoader, random_split\n",
        "from torch.nn.utils.rnn import pad_sequence\n",
        "\n",
        "\n",
        "def collate_batch(batch):\n",
        "\t# Process features within a batch.\n",
        "\t\"\"\"Collate a batch of data.\"\"\"\n",
        "\tmel, speaker = zip(*batch)\n",
        "\t# Because we train the model batch by batch, we need to pad the features in the same batch to make their lengths the same.\n",
        "\tmel = pad_sequence(mel, batch_first=True, padding_value=-20)    # pad log 10^(-20) which is very small value.\n",
        "\t# mel: (batch size, length, 40)\n",
        "\treturn mel, torch.FloatTensor(speaker).long()\n",
        "\n",
        "\n",
        "def get_dataloader(data_dir, batch_size, n_workers):\n",
        "\t\"\"\"Generate dataloader\"\"\"\n",
        "\tdataset = myDataset(data_dir)\n",
        "\tspeaker_num = dataset.get_speaker_number()\n",
        "\t# Split dataset into training dataset and validation dataset\n",
        "\ttrainlen = int(0.9 * len(dataset))\n",
        "\tlengths = [trainlen, len(dataset) - trainlen]\n",
        "\ttrainset, validset = random_split(dataset, lengths)\n",
        "\n",
        "\ttrain_loader = DataLoader(\n",
        "\t\ttrainset,\n",
        "\t\tbatch_size=batch_size,\n",
        "\t\tshuffle=True,\n",
        "\t\tdrop_last=True,\n",
        "\t\tnum_workers=n_workers,\n",
        "\t\tpin_memory=True,\n",
        "\t\tcollate_fn=collate_batch,\n",
        "\t)\n",
        "\tvalid_loader = DataLoader(\n",
        "\t\tvalidset,\n",
        "\t\tbatch_size=batch_size,\n",
        "\t\tnum_workers=n_workers,\n",
        "\t\tdrop_last=True,\n",
        "\t\tpin_memory=True,\n",
        "\t\tcollate_fn=collate_batch,\n",
        "\t)\n",
        "\n",
        "\treturn train_loader, valid_loader, speaker_num"
      ]
    },
    {
      "cell_type": "markdown",
      "metadata": {
        "id": "5FOSZYxrMqhc"
      },
      "source": [
        "# Model\n",
        "- TransformerEncoderLayer:\n",
        "  - Base transformer encoder layer in [Attention Is All You Need](https://arxiv.org/abs/1706.03762)\n",
        "  - Parameters:\n",
        "    - d_model: the number of expected features of the input (required).\n",
        "\n",
        "    - nhead: the number of heads of the multiheadattention models (required).\n",
        "\n",
        "    - dim_feedforward: the dimension of the feedforward network model (default=2048).\n",
        "\n",
        "    - dropout: the dropout value (default=0.1).\n",
        "\n",
        "    - activation: the activation function of intermediate layer, relu or gelu (default=relu).\n",
        "\n",
        "- TransformerEncoder:\n",
        "  - TransformerEncoder is a stack of N transformer encoder layers\n",
        "  - Parameters:\n",
        "    - encoder_layer: an instance of the TransformerEncoderLayer() class (required).\n",
        "\n",
        "    - num_layers: the number of sub-encoder-layers in the encoder (required).\n",
        "\n",
        "    - norm: the layer normalization component (optional)."
      ]
    },
    {
      "cell_type": "code",
      "execution_count": 13,
      "metadata": {
        "id": "iXZ5B0EKJGs8"
      },
      "outputs": [],
      "source": [
        "import torch\n",
        "import torch.nn as nn\n",
        "import torch.nn.functional as F\n",
        "from conformer import ConformerBlock\n",
        "\n",
        "# ref : https://github.com/lucidrains/conformer\n",
        "class Classifier(nn.Module):\n",
        "\tdef __init__(self, d_model=500, n_spks=600, dropout=0.1):\n",
        "\t\tsuper().__init__()\n",
        "\t\t# Project the dimension of features from that of input into d_model.\n",
        "\t\tself.prenet = nn.Linear(40, d_model)\n",
        "\t\t# TODO:\n",
        "\t\t#   Change Transformer to Conformer.\n",
        "\t\t#   https://arxiv.org/abs/2005.08100\n",
        "\t\tself.conformer = ConformerBlock(\n",
        "\t\t\tdim=d_model, \n",
        "\t\t\tdim_head=64, \n",
        "\t\t\tconv_kernel_size=31, \n",
        "\t\t\tff_mult=4, \n",
        "\t\t\theads=8, \n",
        "\t\t\tconv_expansion_factor=2, \n",
        "\t\t\tattn_dropout = 0.2,\n",
        "\t\t\tff_dropout = 0.2,\n",
        "\t\t\tconv_dropout = 0.2,\n",
        "\t\t)\n",
        "\t\tself.pooling = Self_Attentive_Pooling(d_model)\n",
        "\t\t# self.encoder_layer = nn.TransformerEncoderLayer(\n",
        "\t\t# \td_model=d_model, dim_feedforward=256, nhead=2\n",
        "\t\t# )\n",
        "\t\t# self.encoder = nn.TransformerEncoder(self.encoder_layer, num_layers=2)\n",
        "\n",
        "\t\t# Project the the dimension of features from d_model into speaker nums.\n",
        "\t\tself.pred_layer = nn.Sequential(\n",
        "\t\t\tnn.Linear(d_model, d_model),\n",
        "\t\t\tnn.Sigmoid(),\n",
        "\t\t\tnn.Linear(d_model, n_spks),\n",
        "\t\t)\n",
        "\n",
        "\tdef forward(self, mels):\n",
        "\t\t\"\"\"\n",
        "\t\targs:\n",
        "\t\t\tmels: (batch size, length, 40)\n",
        "\t\treturn:\n",
        "\t\t\tout: (batch size, n_spks)\n",
        "\t\t\"\"\"\n",
        "\t\t# out: (batch size, length, d_model)\n",
        "\t\tout = self.prenet(mels)\n",
        "\t\t# out: (length, batch size, d_model)\n",
        "\t\tout = out.permute(1, 0, 2)\n",
        "\t\t# The encoder layer expect features in the shape of (length, batch size, d_model).\n",
        "\t\tout = self.conformer(out)\n",
        "\t\t# out: (batch size, length, d_model)\n",
        "\t\tout = out.transpose(0, 1)\n",
        "\t\t# mean pooling\n",
        "\t\tstats = out.mean(dim=1)\n",
        "\n",
        "\t\t# out: (batch, n_spks)\n",
        "\t\tout = self.pred_layer(stats)\n",
        "\t\treturn out"
      ]
    },
    {
      "cell_type": "markdown",
      "metadata": {
        "id": "W7yX8JinM5Ly"
      },
      "source": [
        "# Learning rate schedule\n",
        "- For transformer architecture, the design of learning rate schedule is different from that of CNN.\n",
        "- Previous works show that the warmup of learning rate is useful for training models with transformer architectures.\n",
        "- The warmup schedule\n",
        "  - Set learning rate to 0 in the beginning.\n",
        "  - The learning rate increases linearly from 0 to initial learning rate during warmup period."
      ]
    },
    {
      "cell_type": "code",
      "execution_count": 14,
      "metadata": {
        "id": "ykt0N1nVJJi2"
      },
      "outputs": [],
      "source": [
        "import math\n",
        "\n",
        "import torch\n",
        "from torch.optim import Optimizer\n",
        "from torch.optim.lr_scheduler import LambdaLR\n",
        "\n",
        "\n",
        "def get_cosine_schedule_with_warmup(\n",
        "\toptimizer: Optimizer,\n",
        "\tnum_warmup_steps: int,\n",
        "\tnum_training_steps: int,\n",
        "\tnum_cycles: float = 0.5,\n",
        "\tlast_epoch: int = -1,\n",
        "):\n",
        "\t\"\"\"\n",
        "\tCreate a schedule with a learning rate that decreases following the values of the cosine function between the\n",
        "\tinitial lr set in the optimizer to 0, after a warmup period during which it increases linearly between 0 and the\n",
        "\tinitial lr set in the optimizer.\n",
        "\n",
        "\tArgs:\n",
        "\t\toptimizer (:class:`~torch.optim.Optimizer`):\n",
        "\t\tThe optimizer for which to schedule the learning rate.\n",
        "\t\tnum_warmup_steps (:obj:`int`):\n",
        "\t\tThe number of steps for the warmup phase.\n",
        "\t\tnum_training_steps (:obj:`int`):\n",
        "\t\tThe total number of training steps.\n",
        "\t\tnum_cycles (:obj:`float`, `optional`, defaults to 0.5):\n",
        "\t\tThe number of waves in the cosine schedule (the defaults is to just decrease from the max value to 0\n",
        "\t\tfollowing a half-cosine).\n",
        "\t\tlast_epoch (:obj:`int`, `optional`, defaults to -1):\n",
        "\t\tThe index of the last epoch when resuming training.\n",
        "\n",
        "\tReturn:\n",
        "\t\t:obj:`torch.optim.lr_scheduler.LambdaLR` with the appropriate schedule.\n",
        "\t\"\"\"\n",
        "\tdef lr_lambda(current_step):\n",
        "\t\t# Warmup\n",
        "\t\tif current_step < num_warmup_steps:\n",
        "\t\t\treturn float(current_step) / float(max(1, num_warmup_steps))\n",
        "\t\t# decadence\n",
        "\t\tprogress = float(current_step - num_warmup_steps) / float(\n",
        "\t\t\tmax(1, num_training_steps - num_warmup_steps)\n",
        "\t\t)\n",
        "\t\treturn max(\n",
        "\t\t\t0.0, 0.5 * (1.0 + math.cos(math.pi * float(num_cycles) * 2.0 * progress))\n",
        "\t\t)\n",
        "\n",
        "\treturn LambdaLR(optimizer, lr_lambda, last_epoch)"
      ]
    },
    {
      "cell_type": "markdown",
      "metadata": {
        "id": "-LN2XkteM_uH"
      },
      "source": [
        "# Model Function\n",
        "- Model forward function."
      ]
    },
    {
      "cell_type": "code",
      "execution_count": 15,
      "metadata": {
        "id": "N-rr8529JMz0"
      },
      "outputs": [],
      "source": [
        "import torch\n",
        "\n",
        "\n",
        "def model_fn(batch, model, criterion, device):\n",
        "\t\"\"\"Forward a batch through the model.\"\"\"\n",
        "\n",
        "\tmels, labels = batch\n",
        "\tmels = mels.to(device)\n",
        "\tlabels = labels.to(device)\n",
        "\n",
        "\touts = model(mels)\n",
        "\n",
        "\tloss = criterion(outs, labels)\n",
        "\n",
        "\t# Get the speaker id with highest probability.\n",
        "\tpreds = outs.argmax(1)\n",
        "\t# Compute accuracy.\n",
        "\taccuracy = torch.mean((preds == labels).float())\n",
        "\n",
        "\treturn loss, accuracy"
      ]
    },
    {
      "cell_type": "markdown",
      "metadata": {
        "id": "cwM_xyOtNCI2"
      },
      "source": [
        "# Validate\n",
        "- Calculate accuracy of the validation set."
      ]
    },
    {
      "cell_type": "code",
      "execution_count": 16,
      "metadata": {
        "id": "YAiv6kpdJRTJ"
      },
      "outputs": [],
      "source": [
        "from tqdm import tqdm\n",
        "import torch\n",
        "\n",
        "\n",
        "def valid(dataloader, model, criterion, device): \n",
        "\t\"\"\"Validate on validation set.\"\"\"\n",
        "\n",
        "\tmodel.eval()\n",
        "\trunning_loss = 0.0\n",
        "\trunning_accuracy = 0.0\n",
        "\tpbar = tqdm(total=len(dataloader.dataset), ncols=0, desc=\"Valid\", unit=\" uttr\")\n",
        "\n",
        "\tfor i, batch in enumerate(dataloader):\n",
        "\t\twith torch.no_grad():\n",
        "\t\t\tloss, accuracy = model_fn(batch, model, criterion, device)\n",
        "\t\t\trunning_loss += loss.item()\n",
        "\t\t\trunning_accuracy += accuracy.item()\n",
        "\n",
        "\t\tpbar.update(dataloader.batch_size)\n",
        "\t\tpbar.set_postfix(\n",
        "\t\t\tloss=f\"{running_loss / (i+1):.2f}\",\n",
        "\t\t\taccuracy=f\"{running_accuracy / (i+1):.2f}\",\n",
        "\t\t)\n",
        "\n",
        "\tpbar.close()\n",
        "\tmodel.train()\n",
        "\n",
        "\treturn running_accuracy / len(dataloader)"
      ]
    },
    {
      "cell_type": "markdown",
      "metadata": {
        "id": "g6ne9G-eNEdG"
      },
      "source": [
        "# Main function"
      ]
    },
    {
      "cell_type": "code",
      "execution_count": 17,
      "metadata": {
        "colab": {
          "base_uri": "https://localhost:8080/"
        },
        "id": "Usv9s-CuJSG7",
        "outputId": "f4f6a983-3559-4f36-efae-402bbf790473"
      },
      "outputs": [
        {
          "name": "stdout",
          "output_type": "stream",
          "text": [
            "[Info]: Use cuda now!\n",
            "[Info]: Finish loading data!\n",
            "[Info]: Finish creating model!\n"
          ]
        },
        {
          "name": "stderr",
          "output_type": "stream",
          "text": [
            "Train: 100% 2000/2000 [00:36<00:00, 54.75 step/s, accuracy=0.06, loss=4.89, step=2000]\n",
            "Valid: 100% 5664/5667 [00:01<00:00, 4732.58 uttr/s, accuracy=0.11, loss=4.45]\n",
            "Train: 100% 2000/2000 [00:36<00:00, 54.28 step/s, accuracy=0.22, loss=3.18, step=4000]\n",
            "Valid: 100% 5664/5667 [00:01<00:00, 4744.73 uttr/s, accuracy=0.21, loss=3.71]\n",
            "Train: 100% 2000/2000 [00:36<00:00, 54.15 step/s, accuracy=0.25, loss=3.39, step=6000]\n",
            "Valid: 100% 5664/5667 [00:01<00:00, 4722.71 uttr/s, accuracy=0.30, loss=3.23]\n",
            "Train: 100% 2000/2000 [00:37<00:00, 53.81 step/s, accuracy=0.34, loss=2.90, step=8000]\n",
            "Valid: 100% 5664/5667 [00:01<00:00, 4727.50 uttr/s, accuracy=0.35, loss=2.90]\n",
            "Train: 100% 2000/2000 [00:37<00:00, 54.02 step/s, accuracy=0.44, loss=2.28, step=1e+4]\n",
            "Valid: 100% 5664/5667 [00:01<00:00, 4719.57 uttr/s, accuracy=0.39, loss=2.72]\n",
            "                                                                                       \n",
            "Train:   6% 123/2000 [06:10<00:35, 52.68 step/s, accuracy=0.47, loss=2.54, step=242123]"
          ]
        },
        {
          "name": "stdout",
          "output_type": "stream",
          "text": [
            "Step 10000, best model saved. (accuracy=0.3946)\n"
          ]
        },
        {
          "name": "stderr",
          "output_type": "stream",
          "text": [
            "Train: 100% 2000/2000 [00:37<00:00, 53.83 step/s, accuracy=0.56, loss=1.77, step=12000]\n",
            "Valid: 100% 5664/5667 [00:01<00:00, 4751.17 uttr/s, accuracy=0.43, loss=2.57]\n",
            "Train: 100% 2000/2000 [00:37<00:00, 53.92 step/s, accuracy=0.53, loss=1.89, step=14000]\n",
            "Valid: 100% 5664/5667 [00:01<00:00, 4586.97 uttr/s, accuracy=0.48, loss=2.34]\n",
            "Train: 100% 2000/2000 [00:37<00:00, 53.58 step/s, accuracy=0.47, loss=1.82, step=16000]\n",
            "Valid: 100% 5664/5667 [00:01<00:00, 4695.58 uttr/s, accuracy=0.49, loss=2.25]\n",
            "Train: 100% 2000/2000 [00:37<00:00, 53.90 step/s, accuracy=0.59, loss=1.55, step=18000]\n",
            "Valid: 100% 5664/5667 [00:01<00:00, 4732.12 uttr/s, accuracy=0.53, loss=2.06]\n",
            "Train: 100% 2000/2000 [00:37<00:00, 53.90 step/s, accuracy=0.56, loss=1.83, step=2e+4]\n",
            "Valid: 100% 5664/5667 [00:01<00:00, 4676.44 uttr/s, accuracy=0.54, loss=2.01]\n",
            "                                                                                       \n",
            "Train:   6% 123/2000 [09:22<00:35, 52.68 step/s, accuracy=0.47, loss=2.54, step=242123]"
          ]
        },
        {
          "name": "stdout",
          "output_type": "stream",
          "text": [
            "Step 20000, best model saved. (accuracy=0.5415)\n"
          ]
        },
        {
          "name": "stderr",
          "output_type": "stream",
          "text": [
            "Train: 100% 2000/2000 [00:37<00:00, 53.82 step/s, accuracy=0.72, loss=1.22, step=22000]\n",
            "Valid: 100% 5664/5667 [00:01<00:00, 4751.04 uttr/s, accuracy=0.55, loss=1.97]\n",
            "Train: 100% 2000/2000 [00:37<00:00, 53.59 step/s, accuracy=0.50, loss=1.87, step=24000]\n",
            "Valid: 100% 5664/5667 [00:01<00:00, 4683.38 uttr/s, accuracy=0.58, loss=1.86]\n",
            "Train: 100% 2000/2000 [00:37<00:00, 53.83 step/s, accuracy=0.69, loss=1.20, step=26000]\n",
            "Valid: 100% 5664/5667 [00:01<00:00, 4755.86 uttr/s, accuracy=0.58, loss=1.82]\n",
            "Train: 100% 2000/2000 [00:37<00:00, 53.90 step/s, accuracy=0.66, loss=1.45, step=28000]\n",
            "Valid: 100% 5664/5667 [00:01<00:00, 4700.32 uttr/s, accuracy=0.59, loss=1.79]\n",
            "Train: 100% 2000/2000 [00:37<00:00, 53.87 step/s, accuracy=0.69, loss=1.40, step=3e+4]\n",
            "Valid: 100% 5664/5667 [00:01<00:00, 4742.13 uttr/s, accuracy=0.60, loss=1.75]\n",
            "                                                                                       \n",
            "Train:   6% 123/2000 [12:34<00:35, 52.68 step/s, accuracy=0.47, loss=2.54, step=242123]"
          ]
        },
        {
          "name": "stdout",
          "output_type": "stream",
          "text": [
            "Step 30000, best model saved. (accuracy=0.5996)\n"
          ]
        },
        {
          "name": "stderr",
          "output_type": "stream",
          "text": [
            "Train: 100% 2000/2000 [00:37<00:00, 53.59 step/s, accuracy=0.59, loss=1.29, step=32000]\n",
            "Valid: 100% 5664/5667 [00:01<00:00, 4693.47 uttr/s, accuracy=0.61, loss=1.71]\n",
            "Train: 100% 2000/2000 [00:37<00:00, 53.92 step/s, accuracy=0.91, loss=0.51, step=34000]\n",
            "Valid: 100% 5664/5667 [00:01<00:00, 4701.31 uttr/s, accuracy=0.62, loss=1.65]\n",
            "Train: 100% 2000/2000 [00:37<00:00, 53.92 step/s, accuracy=0.78, loss=0.92, step=36000]\n",
            "Valid: 100% 5664/5667 [00:01<00:00, 4738.32 uttr/s, accuracy=0.64, loss=1.55]\n",
            "Train: 100% 2000/2000 [00:37<00:00, 53.93 step/s, accuracy=0.62, loss=1.28, step=38000]\n",
            "Valid: 100% 5664/5667 [00:01<00:00, 4715.43 uttr/s, accuracy=0.64, loss=1.55]\n",
            "Train: 100% 2000/2000 [00:37<00:00, 53.65 step/s, accuracy=0.72, loss=0.93, step=4e+4]\n",
            "Valid: 100% 5664/5667 [00:01<00:00, 4732.01 uttr/s, accuracy=0.66, loss=1.51]\n",
            "                                                                                       \n",
            "Train:   6% 123/2000 [15:46<00:35, 52.68 step/s, accuracy=0.47, loss=2.54, step=242123]"
          ]
        },
        {
          "name": "stdout",
          "output_type": "stream",
          "text": [
            "Step 40000, best model saved. (accuracy=0.6619)\n"
          ]
        },
        {
          "name": "stderr",
          "output_type": "stream",
          "text": [
            "Train: 100% 2000/2000 [00:37<00:00, 53.84 step/s, accuracy=0.78, loss=1.05, step=42000]\n",
            "Valid: 100% 5664/5667 [00:01<00:00, 4655.51 uttr/s, accuracy=0.67, loss=1.44]\n",
            "Train: 100% 2000/2000 [00:37<00:00, 53.88 step/s, accuracy=0.69, loss=1.19, step=44000]\n",
            "Valid: 100% 5664/5667 [00:01<00:00, 4700.73 uttr/s, accuracy=0.67, loss=1.49]\n",
            "Train: 100% 2000/2000 [00:37<00:00, 53.91 step/s, accuracy=0.75, loss=0.95, step=46000]\n",
            "Valid: 100% 5664/5667 [00:01<00:00, 4703.18 uttr/s, accuracy=0.66, loss=1.47]\n",
            "Train: 100% 2000/2000 [00:37<00:00, 53.65 step/s, accuracy=0.84, loss=0.62, step=48000]\n",
            "Valid: 100% 5664/5667 [00:01<00:00, 4727.77 uttr/s, accuracy=0.68, loss=1.41]\n",
            "Train: 100% 2000/2000 [00:37<00:00, 53.92 step/s, accuracy=0.81, loss=0.78, step=5e+4]\n",
            "Valid: 100% 5664/5667 [00:01<00:00, 4688.08 uttr/s, accuracy=0.69, loss=1.39]\n",
            "                                                                                       \n",
            "Train:   6% 123/2000 [18:57<00:35, 52.68 step/s, accuracy=0.47, loss=2.54, step=242123]"
          ]
        },
        {
          "name": "stdout",
          "output_type": "stream",
          "text": [
            "Step 50000, best model saved. (accuracy=0.6859)\n"
          ]
        },
        {
          "name": "stderr",
          "output_type": "stream",
          "text": [
            "Train: 100% 2000/2000 [00:37<00:00, 53.82 step/s, accuracy=0.84, loss=0.57, step=52000]\n",
            "Valid: 100% 5664/5667 [00:01<00:00, 4693.88 uttr/s, accuracy=0.69, loss=1.37]\n",
            "Train: 100% 2000/2000 [00:37<00:00, 53.89 step/s, accuracy=0.84, loss=0.67, step=54000]\n",
            "Valid: 100% 5664/5667 [00:01<00:00, 4712.72 uttr/s, accuracy=0.69, loss=1.33]\n",
            "Train: 100% 2000/2000 [00:37<00:00, 53.67 step/s, accuracy=0.81, loss=0.74, step=56000]\n",
            "Valid: 100% 5664/5667 [00:01<00:00, 4680.19 uttr/s, accuracy=0.70, loss=1.30]\n",
            "Train: 100% 2000/2000 [00:37<00:00, 53.88 step/s, accuracy=0.88, loss=0.52, step=58000]\n",
            "Valid: 100% 5664/5667 [00:01<00:00, 4731.86 uttr/s, accuracy=0.71, loss=1.29]\n",
            "Train: 100% 2000/2000 [00:37<00:00, 53.87 step/s, accuracy=0.88, loss=0.57, step=6e+4]\n",
            "Valid: 100% 5664/5667 [00:01<00:00, 4729.78 uttr/s, accuracy=0.71, loss=1.27]\n",
            "                                                                                       \n",
            "Train:   6% 123/2000 [22:09<00:35, 52.68 step/s, accuracy=0.47, loss=2.54, step=242123]"
          ]
        },
        {
          "name": "stdout",
          "output_type": "stream",
          "text": [
            "Step 60000, best model saved. (accuracy=0.7143)\n"
          ]
        },
        {
          "name": "stderr",
          "output_type": "stream",
          "text": [
            "Train: 100% 2000/2000 [00:37<00:00, 53.80 step/s, accuracy=0.94, loss=0.24, step=62000]\n",
            "Valid: 100% 5664/5667 [00:01<00:00, 4734.27 uttr/s, accuracy=0.72, loss=1.24]\n",
            "Train: 100% 2000/2000 [00:37<00:00, 53.66 step/s, accuracy=0.88, loss=0.52, step=64000]\n",
            "Valid: 100% 5664/5667 [00:01<00:00, 4716.28 uttr/s, accuracy=0.71, loss=1.26]\n",
            "Train: 100% 2000/2000 [00:37<00:00, 53.84 step/s, accuracy=0.81, loss=0.60, step=66000]\n",
            "Valid: 100% 5664/5667 [00:01<00:00, 4654.79 uttr/s, accuracy=0.73, loss=1.20]\n",
            "Train: 100% 2000/2000 [00:37<00:00, 53.90 step/s, accuracy=0.91, loss=0.54, step=68000]\n",
            "Valid: 100% 5664/5667 [00:01<00:00, 4737.88 uttr/s, accuracy=0.72, loss=1.25]\n",
            "Train: 100% 2000/2000 [00:37<00:00, 53.88 step/s, accuracy=0.91, loss=0.38, step=7e+4]\n",
            "Valid: 100% 5664/5667 [00:01<00:00, 4720.21 uttr/s, accuracy=0.73, loss=1.20]\n",
            "                                                                                       \n",
            "Train:   6% 123/2000 [25:21<00:35, 52.68 step/s, accuracy=0.47, loss=2.54, step=242123]"
          ]
        },
        {
          "name": "stdout",
          "output_type": "stream",
          "text": [
            "Step 70000, best model saved. (accuracy=0.7318)\n"
          ]
        },
        {
          "name": "stderr",
          "output_type": "stream",
          "text": [
            "Train: 100% 2000/2000 [00:37<00:00, 53.59 step/s, accuracy=0.84, loss=0.62, step=72000]\n",
            "Valid: 100% 5664/5667 [00:01<00:00, 4745.58 uttr/s, accuracy=0.72, loss=1.21]\n",
            "Train: 100% 2000/2000 [00:37<00:00, 53.93 step/s, accuracy=0.97, loss=0.26, step=74000]\n",
            "Valid: 100% 5664/5667 [00:01<00:00, 4718.27 uttr/s, accuracy=0.73, loss=1.18]\n",
            "Train: 100% 2000/2000 [00:37<00:00, 53.92 step/s, accuracy=0.84, loss=0.46, step=76000]\n",
            "Valid: 100% 5664/5667 [00:01<00:00, 4736.41 uttr/s, accuracy=0.72, loss=1.27]\n",
            "Train: 100% 2000/2000 [00:37<00:00, 53.90 step/s, accuracy=0.84, loss=0.62, step=78000]\n",
            "Valid: 100% 5664/5667 [00:01<00:00, 4697.06 uttr/s, accuracy=0.73, loss=1.18]\n",
            "Train: 100% 2000/2000 [00:37<00:00, 53.65 step/s, accuracy=0.78, loss=0.52, step=8e+4]\n",
            "Valid: 100% 5664/5667 [00:01<00:00, 4716.72 uttr/s, accuracy=0.74, loss=1.18]\n",
            "                                                                                       \n",
            "Train:   6% 123/2000 [28:33<00:35, 52.68 step/s, accuracy=0.47, loss=2.54, step=242123]"
          ]
        },
        {
          "name": "stdout",
          "output_type": "stream",
          "text": [
            "Step 80000, best model saved. (accuracy=0.7435)\n"
          ]
        },
        {
          "name": "stderr",
          "output_type": "stream",
          "text": [
            "Train: 100% 2000/2000 [00:37<00:00, 53.83 step/s, accuracy=0.88, loss=0.46, step=82000]\n",
            "Valid: 100% 5664/5667 [00:01<00:00, 4706.15 uttr/s, accuracy=0.74, loss=1.15]\n",
            "Train: 100% 2000/2000 [00:37<00:00, 53.87 step/s, accuracy=0.88, loss=0.58, step=84000]\n",
            "Valid: 100% 5664/5667 [00:01<00:00, 4725.82 uttr/s, accuracy=0.74, loss=1.20]\n",
            "Train: 100% 2000/2000 [00:37<00:00, 53.90 step/s, accuracy=0.88, loss=0.41, step=86000]\n",
            "Valid: 100% 5664/5667 [00:01<00:00, 4687.86 uttr/s, accuracy=0.74, loss=1.13]\n",
            "Train: 100% 2000/2000 [00:37<00:00, 53.65 step/s, accuracy=0.88, loss=0.42, step=88000]\n",
            "Valid: 100% 5664/5667 [00:01<00:00, 4720.27 uttr/s, accuracy=0.75, loss=1.13]\n",
            "Train: 100% 2000/2000 [00:37<00:00, 53.91 step/s, accuracy=0.88, loss=0.40, step=9e+4]\n",
            "Valid: 100% 5664/5667 [00:01<00:00, 4704.78 uttr/s, accuracy=0.75, loss=1.10]\n",
            "                                                                                       \n",
            "Train:   6% 123/2000 [31:45<00:35, 52.68 step/s, accuracy=0.47, loss=2.54, step=242123]"
          ]
        },
        {
          "name": "stdout",
          "output_type": "stream",
          "text": [
            "Step 90000, best model saved. (accuracy=0.7549)\n"
          ]
        },
        {
          "name": "stderr",
          "output_type": "stream",
          "text": [
            "Train: 100% 2000/2000 [00:37<00:00, 53.85 step/s, accuracy=0.91, loss=0.29, step=92000]\n",
            "Valid: 100% 5664/5667 [00:01<00:00, 4714.41 uttr/s, accuracy=0.76, loss=1.12]\n",
            "Train: 100% 2000/2000 [00:37<00:00, 53.64 step/s, accuracy=0.91, loss=0.31, step=94000]\n",
            "Valid: 100% 5664/5667 [00:01<00:00, 4714.79 uttr/s, accuracy=0.75, loss=1.12]\n",
            "Train: 100% 2000/2000 [00:37<00:00, 53.90 step/s, accuracy=0.88, loss=0.46, step=96000]\n",
            "Valid: 100% 5664/5667 [00:01<00:00, 4625.13 uttr/s, accuracy=0.77, loss=1.06]\n",
            "Train: 100% 2000/2000 [00:37<00:00, 53.89 step/s, accuracy=0.97, loss=0.20, step=98000]\n",
            "Valid: 100% 5664/5667 [00:01<00:00, 4762.05 uttr/s, accuracy=0.75, loss=1.12]\n",
            "Train: 100% 2000/2000 [00:37<00:00, 53.87 step/s, accuracy=0.97, loss=0.12, step=1e+5]\n",
            "Valid: 100% 5664/5667 [00:01<00:00, 4727.38 uttr/s, accuracy=0.76, loss=1.08]\n",
            "                                                                                       \n",
            "Train:   6% 123/2000 [34:57<00:35, 52.68 step/s, accuracy=0.47, loss=2.54, step=242123]"
          ]
        },
        {
          "name": "stdout",
          "output_type": "stream",
          "text": [
            "Step 100000, best model saved. (accuracy=0.7680)\n"
          ]
        },
        {
          "name": "stderr",
          "output_type": "stream",
          "text": [
            "Train: 100% 2000/2000 [00:37<00:00, 53.58 step/s, accuracy=0.91, loss=0.20, step=102000]\n",
            "Valid: 100% 5664/5667 [00:01<00:00, 4733.82 uttr/s, accuracy=0.78, loss=1.06]\n",
            "Train: 100% 2000/2000 [00:37<00:00, 53.90 step/s, accuracy=0.88, loss=0.34, step=104000]\n",
            "Valid: 100% 5664/5667 [00:01<00:00, 4721.42 uttr/s, accuracy=0.75, loss=1.10]\n",
            "Train: 100% 2000/2000 [00:37<00:00, 53.91 step/s, accuracy=0.97, loss=0.25, step=106000]\n",
            "Valid: 100% 5664/5667 [00:01<00:00, 4711.21 uttr/s, accuracy=0.77, loss=1.07]\n",
            "Train: 100% 2000/2000 [00:37<00:00, 53.87 step/s, accuracy=0.78, loss=0.57, step=108000]\n",
            "Valid: 100% 5664/5667 [00:01<00:00, 4690.15 uttr/s, accuracy=0.77, loss=1.03]\n",
            "Train: 100% 2000/2000 [00:37<00:00, 53.61 step/s, accuracy=0.94, loss=0.32, step=110000]\n",
            "Valid: 100% 5664/5667 [00:01<00:00, 4686.32 uttr/s, accuracy=0.77, loss=1.08]\n",
            "                                                                                       \n",
            "Train:   6% 123/2000 [38:09<00:35, 52.68 step/s, accuracy=0.47, loss=2.54, step=242123]"
          ]
        },
        {
          "name": "stdout",
          "output_type": "stream",
          "text": [
            "Step 110000, best model saved. (accuracy=0.7768)\n"
          ]
        },
        {
          "name": "stderr",
          "output_type": "stream",
          "text": [
            "Train: 100% 2000/2000 [00:37<00:00, 53.80 step/s, accuracy=0.91, loss=0.30, step=112000]\n",
            "Valid: 100% 5664/5667 [00:01<00:00, 4716.76 uttr/s, accuracy=0.76, loss=1.08]\n",
            "Train: 100% 2000/2000 [00:37<00:00, 53.90 step/s, accuracy=0.88, loss=0.40, step=114000]\n",
            "Valid: 100% 5664/5667 [00:01<00:00, 4740.31 uttr/s, accuracy=0.77, loss=1.05]\n",
            "Train: 100% 2000/2000 [00:37<00:00, 53.88 step/s, accuracy=0.91, loss=0.28, step=116000]\n",
            "Valid: 100% 5664/5667 [00:01<00:00, 4687.90 uttr/s, accuracy=0.76, loss=1.08]\n",
            "Train: 100% 2000/2000 [00:37<00:00, 53.63 step/s, accuracy=0.94, loss=0.22, step=118000]\n",
            "Valid: 100% 5664/5667 [00:01<00:00, 4607.18 uttr/s, accuracy=0.77, loss=1.05]\n",
            "Train: 100% 2000/2000 [00:37<00:00, 53.83 step/s, accuracy=1.00, loss=0.14, step=120000]\n",
            "Valid: 100% 5664/5667 [00:01<00:00, 4722.72 uttr/s, accuracy=0.78, loss=1.01]\n",
            "                                                                                       \n",
            "Train:   6% 123/2000 [41:20<00:35, 52.68 step/s, accuracy=0.47, loss=2.54, step=242123]"
          ]
        },
        {
          "name": "stdout",
          "output_type": "stream",
          "text": [
            "Step 120000, best model saved. (accuracy=0.7781)\n"
          ]
        },
        {
          "name": "stderr",
          "output_type": "stream",
          "text": [
            "Train: 100% 2000/2000 [00:37<00:00, 53.82 step/s, accuracy=0.91, loss=0.30, step=122000]\n",
            "Valid: 100% 5664/5667 [00:01<00:00, 4659.00 uttr/s, accuracy=0.78, loss=1.01]\n",
            "Train: 100% 2000/2000 [00:37<00:00, 53.86 step/s, accuracy=0.97, loss=0.29, step=124000]\n",
            "Valid: 100% 5664/5667 [00:01<00:00, 4713.20 uttr/s, accuracy=0.76, loss=1.08]\n",
            "Train: 100% 2000/2000 [00:37<00:00, 53.62 step/s, accuracy=0.91, loss=0.29, step=126000]\n",
            "Valid: 100% 5664/5667 [00:01<00:00, 4713.93 uttr/s, accuracy=0.77, loss=1.08]\n",
            "Train: 100% 2000/2000 [00:37<00:00, 53.88 step/s, accuracy=0.94, loss=0.16, step=128000]\n",
            "Valid: 100% 5664/5667 [00:01<00:00, 4683.84 uttr/s, accuracy=0.78, loss=1.05]\n",
            "Train: 100% 2000/2000 [00:37<00:00, 53.87 step/s, accuracy=0.91, loss=0.30, step=130000]\n",
            "Valid: 100% 5664/5667 [00:01<00:00, 4723.07 uttr/s, accuracy=0.78, loss=1.02]\n",
            "                                                                                       \n",
            "Train:   6% 123/2000 [44:32<00:35, 52.68 step/s, accuracy=0.47, loss=2.54, step=242123]"
          ]
        },
        {
          "name": "stdout",
          "output_type": "stream",
          "text": [
            "Step 130000, best model saved. (accuracy=0.7846)\n"
          ]
        },
        {
          "name": "stderr",
          "output_type": "stream",
          "text": [
            "Train: 100% 2000/2000 [00:37<00:00, 53.82 step/s, accuracy=0.97, loss=0.10, step=132000]\n",
            "Valid: 100% 5664/5667 [00:01<00:00, 4723.80 uttr/s, accuracy=0.79, loss=0.99]\n",
            "Train: 100% 2000/2000 [00:37<00:00, 53.64 step/s, accuracy=0.94, loss=0.27, step=134000]\n",
            "Valid: 100% 5664/5667 [00:01<00:00, 4689.57 uttr/s, accuracy=0.78, loss=1.01]\n",
            "Train: 100% 2000/2000 [00:37<00:00, 53.89 step/s, accuracy=0.94, loss=0.15, step=136000]\n",
            "Valid: 100% 5664/5667 [00:01<00:00, 4673.88 uttr/s, accuracy=0.78, loss=1.01]\n",
            "Train: 100% 2000/2000 [00:37<00:00, 53.91 step/s, accuracy=0.88, loss=0.35, step=138000]\n",
            "Valid: 100% 5664/5667 [00:01<00:00, 4718.20 uttr/s, accuracy=0.79, loss=1.01]\n",
            "Train: 100% 2000/2000 [00:37<00:00, 53.87 step/s, accuracy=0.91, loss=0.45, step=140000]\n",
            "Valid: 100% 5664/5667 [00:01<00:00, 4695.54 uttr/s, accuracy=0.77, loss=1.07]\n",
            "                                                                                       \n",
            "Train:   6% 123/2000 [47:44<00:35, 52.68 step/s, accuracy=0.47, loss=2.54, step=242123]"
          ]
        },
        {
          "name": "stdout",
          "output_type": "stream",
          "text": [
            "Step 140000, best model saved. (accuracy=0.7873)\n"
          ]
        },
        {
          "name": "stderr",
          "output_type": "stream",
          "text": [
            "Train: 100% 2000/2000 [00:37<00:00, 53.60 step/s, accuracy=0.97, loss=0.19, step=142000]\n",
            "Valid: 100% 5664/5667 [00:01<00:00, 4714.28 uttr/s, accuracy=0.79, loss=1.00]\n",
            "Train: 100% 2000/2000 [00:37<00:00, 53.89 step/s, accuracy=0.94, loss=0.15, step=144000]\n",
            "Valid: 100% 5664/5667 [00:01<00:00, 4691.56 uttr/s, accuracy=0.79, loss=1.00]\n",
            "Train: 100% 2000/2000 [00:37<00:00, 53.90 step/s, accuracy=0.97, loss=0.27, step=146000]\n",
            "Valid: 100% 5664/5667 [00:01<00:00, 4706.14 uttr/s, accuracy=0.78, loss=0.97]\n",
            "Train: 100% 2000/2000 [00:37<00:00, 53.90 step/s, accuracy=0.97, loss=0.16, step=148000]\n",
            "Valid: 100% 5664/5667 [00:01<00:00, 4683.36 uttr/s, accuracy=0.79, loss=0.99]\n",
            "Train: 100% 2000/2000 [00:37<00:00, 53.63 step/s, accuracy=0.97, loss=0.12, step=150000]\n",
            "Valid: 100% 5664/5667 [00:01<00:00, 4752.67 uttr/s, accuracy=0.79, loss=1.00]\n",
            "                                                                                       \n",
            "Train:   6% 123/2000 [50:56<00:35, 52.68 step/s, accuracy=0.47, loss=2.54, step=242123]"
          ]
        },
        {
          "name": "stdout",
          "output_type": "stream",
          "text": [
            "Step 150000, best model saved. (accuracy=0.7899)\n"
          ]
        },
        {
          "name": "stderr",
          "output_type": "stream",
          "text": [
            "Train: 100% 2000/2000 [00:37<00:00, 53.84 step/s, accuracy=0.94, loss=0.20, step=152000]\n",
            "Valid: 100% 5664/5667 [00:01<00:00, 4740.67 uttr/s, accuracy=0.79, loss=0.98]\n",
            "Train: 100% 2000/2000 [00:37<00:00, 53.92 step/s, accuracy=0.94, loss=0.27, step=154000]\n",
            "Valid: 100% 5664/5667 [00:01<00:00, 4729.63 uttr/s, accuracy=0.79, loss=0.98]\n",
            "Train: 100% 2000/2000 [00:37<00:00, 53.87 step/s, accuracy=0.94, loss=0.19, step=156000]\n",
            "Valid: 100% 5664/5667 [00:01<00:00, 4629.78 uttr/s, accuracy=0.79, loss=1.00]\n",
            "Train: 100% 2000/2000 [00:37<00:00, 53.66 step/s, accuracy=0.91, loss=0.21, step=158000]\n",
            "Valid: 100% 5664/5667 [00:01<00:00, 4717.73 uttr/s, accuracy=0.79, loss=1.00]\n",
            "Train: 100% 2000/2000 [00:37<00:00, 53.88 step/s, accuracy=0.94, loss=0.20, step=160000]\n",
            "Valid: 100% 5664/5667 [00:01<00:00, 4664.90 uttr/s, accuracy=0.80, loss=0.95]\n",
            "                                                                                       \n",
            "Train:   6% 123/2000 [54:08<00:35, 52.68 step/s, accuracy=0.47, loss=2.54, step=242123]"
          ]
        },
        {
          "name": "stdout",
          "output_type": "stream",
          "text": [
            "Step 160000, best model saved. (accuracy=0.7950)\n"
          ]
        },
        {
          "name": "stderr",
          "output_type": "stream",
          "text": [
            "Train: 100% 2000/2000 [00:37<00:00, 53.87 step/s, accuracy=0.94, loss=0.33, step=162000]\n",
            "Valid: 100% 5664/5667 [00:01<00:00, 4743.42 uttr/s, accuracy=0.79, loss=0.97]\n",
            "Train: 100% 2000/2000 [00:37<00:00, 53.87 step/s, accuracy=0.88, loss=0.29, step=164000]\n",
            "Valid: 100% 5664/5667 [00:01<00:00, 4688.85 uttr/s, accuracy=0.79, loss=0.96]\n",
            "Train: 100% 2000/2000 [00:37<00:00, 53.64 step/s, accuracy=0.88, loss=0.38, step=166000]\n",
            "Valid: 100% 5664/5667 [00:01<00:00, 4712.66 uttr/s, accuracy=0.80, loss=0.96]\n",
            "Train: 100% 2000/2000 [00:37<00:00, 53.89 step/s, accuracy=0.94, loss=0.18, step=168000]\n",
            "Valid: 100% 5664/5667 [00:01<00:00, 4726.45 uttr/s, accuracy=0.79, loss=1.00]\n",
            "Train: 100% 2000/2000 [00:37<00:00, 53.84 step/s, accuracy=0.94, loss=0.24, step=170000]\n",
            "Valid: 100% 5664/5667 [00:01<00:00, 4737.60 uttr/s, accuracy=0.79, loss=0.97]\n",
            "                                                                                       \n",
            "Train:   6% 123/2000 [57:20<00:35, 52.68 step/s, accuracy=0.47, loss=2.54, step=242123]"
          ]
        },
        {
          "name": "stdout",
          "output_type": "stream",
          "text": [
            "Step 170000, best model saved. (accuracy=0.8001)\n"
          ]
        },
        {
          "name": "stderr",
          "output_type": "stream",
          "text": [
            "Train: 100% 2000/2000 [00:37<00:00, 53.86 step/s, accuracy=0.91, loss=0.33, step=172000]\n",
            "Valid: 100% 5664/5667 [00:01<00:00, 4745.48 uttr/s, accuracy=0.81, loss=0.92]\n",
            "Train: 100% 2000/2000 [00:37<00:00, 53.68 step/s, accuracy=0.88, loss=0.34, step=174000]\n",
            "Valid: 100% 5664/5667 [00:01<00:00, 4726.00 uttr/s, accuracy=0.80, loss=0.99]\n",
            "Train: 100% 2000/2000 [00:37<00:00, 53.89 step/s, accuracy=1.00, loss=0.07, step=176000]\n",
            "Valid: 100% 5664/5667 [00:01<00:00, 4745.95 uttr/s, accuracy=0.79, loss=1.02]\n",
            "Train: 100% 2000/2000 [00:37<00:00, 53.91 step/s, accuracy=1.00, loss=0.07, step=178000]\n",
            "Valid: 100% 5664/5667 [00:01<00:00, 4728.76 uttr/s, accuracy=0.80, loss=0.95]\n",
            "Train: 100% 2000/2000 [00:37<00:00, 53.88 step/s, accuracy=1.00, loss=0.12, step=180000]\n",
            "Valid: 100% 5664/5667 [00:01<00:00, 4745.05 uttr/s, accuracy=0.80, loss=0.93]\n",
            "                                                                                       \n",
            "Train:   6% 123/2000 [1:00:31<00:35, 52.68 step/s, accuracy=0.47, loss=2.54, step=242123]"
          ]
        },
        {
          "name": "stdout",
          "output_type": "stream",
          "text": [
            "Step 180000, best model saved. (accuracy=0.8076)\n"
          ]
        },
        {
          "name": "stderr",
          "output_type": "stream",
          "text": [
            "Train: 100% 2000/2000 [00:37<00:00, 53.58 step/s, accuracy=0.88, loss=0.36, step=182000]\n",
            "Valid: 100% 5664/5667 [00:01<00:00, 4699.85 uttr/s, accuracy=0.80, loss=0.96]\n",
            "Train: 100% 2000/2000 [00:37<00:00, 53.88 step/s, accuracy=1.00, loss=0.12, step=184000]\n",
            "Valid: 100% 5664/5667 [00:01<00:00, 4718.00 uttr/s, accuracy=0.80, loss=0.98]\n",
            "Train: 100% 2000/2000 [00:37<00:00, 53.88 step/s, accuracy=0.97, loss=0.12, step=186000]\n",
            "Valid: 100% 5664/5667 [00:01<00:00, 4694.45 uttr/s, accuracy=0.80, loss=0.91]\n",
            "Train: 100% 2000/2000 [00:37<00:00, 53.62 step/s, accuracy=0.81, loss=0.60, step=188000]\n",
            "Valid: 100% 5664/5667 [00:01<00:00, 4699.86 uttr/s, accuracy=0.79, loss=0.96]\n",
            "Train: 100% 2000/2000 [00:37<00:00, 53.86 step/s, accuracy=0.94, loss=0.17, step=190000]\n",
            "Valid: 100% 5664/5667 [00:01<00:00, 4711.93 uttr/s, accuracy=0.80, loss=0.93]\n",
            "                                                                                         \n",
            "Train:   6% 123/2000 [1:03:43<00:35, 52.68 step/s, accuracy=0.47, loss=2.54, step=242123]"
          ]
        },
        {
          "name": "stdout",
          "output_type": "stream",
          "text": [
            "Step 190000, best model saved. (accuracy=0.8076)\n"
          ]
        },
        {
          "name": "stderr",
          "output_type": "stream",
          "text": [
            "Train: 100% 2000/2000 [00:37<00:00, 53.76 step/s, accuracy=1.00, loss=0.05, step=192000]\n",
            "Valid: 100% 5664/5667 [00:01<00:00, 4725.35 uttr/s, accuracy=0.80, loss=0.93]\n",
            "Train: 100% 2000/2000 [00:37<00:00, 53.87 step/s, accuracy=1.00, loss=0.07, step=194000]\n",
            "Valid: 100% 5664/5667 [00:01<00:00, 4674.39 uttr/s, accuracy=0.80, loss=0.97]\n",
            "Train: 100% 2000/2000 [00:37<00:00, 53.61 step/s, accuracy=1.00, loss=0.06, step=196000]\n",
            "Valid: 100% 5664/5667 [00:01<00:00, 4658.81 uttr/s, accuracy=0.80, loss=0.93]\n",
            "Train: 100% 2000/2000 [00:37<00:00, 53.86 step/s, accuracy=0.97, loss=0.14, step=198000]\n",
            "Valid: 100% 5664/5667 [00:01<00:00, 4691.70 uttr/s, accuracy=0.80, loss=0.96]\n",
            "Train: 100% 2000/2000 [00:37<00:00, 53.86 step/s, accuracy=0.94, loss=0.16, step=2e+5]\n",
            "Valid: 100% 5664/5667 [00:01<00:00, 4690.32 uttr/s, accuracy=0.81, loss=0.91]\n",
            "                                                                                         \n",
            "Train:   6% 123/2000 [1:06:55<00:35, 52.68 step/s, accuracy=0.47, loss=2.54, step=242123]"
          ]
        },
        {
          "name": "stdout",
          "output_type": "stream",
          "text": [
            "Step 200000, best model saved. (accuracy=0.8076)\n"
          ]
        },
        {
          "name": "stderr",
          "output_type": "stream",
          "text": [
            "Train: 100% 2000/2000 [00:37<00:00, 53.85 step/s, accuracy=0.91, loss=0.21, step=202000]\n",
            "Valid: 100% 5664/5667 [00:01<00:00, 4736.60 uttr/s, accuracy=0.81, loss=0.93]\n",
            "Train: 100% 2000/2000 [00:37<00:00, 53.64 step/s, accuracy=1.00, loss=0.06, step=204000]\n",
            "Valid: 100% 5664/5667 [00:01<00:00, 4672.63 uttr/s, accuracy=0.81, loss=0.90]\n",
            "Train: 100% 2000/2000 [00:37<00:00, 53.87 step/s, accuracy=0.97, loss=0.18, step=206000]\n",
            "Valid: 100% 5664/5667 [00:01<00:00, 4671.28 uttr/s, accuracy=0.80, loss=0.92]\n",
            "Train: 100% 2000/2000 [00:37<00:00, 53.91 step/s, accuracy=0.97, loss=0.14, step=208000]\n",
            "Valid: 100% 5664/5667 [00:01<00:00, 4739.20 uttr/s, accuracy=0.81, loss=0.95]\n",
            "Train: 100% 2000/2000 [00:37<00:00, 53.88 step/s, accuracy=0.94, loss=0.11, step=210000]\n",
            "Valid: 100% 5664/5667 [00:01<00:00, 4730.47 uttr/s, accuracy=0.80, loss=0.93]\n",
            "                                                                                         \n",
            "Train:   6% 123/2000 [1:10:07<00:35, 52.68 step/s, accuracy=0.47, loss=2.54, step=242123]"
          ]
        },
        {
          "name": "stdout",
          "output_type": "stream",
          "text": [
            "Step 210000, best model saved. (accuracy=0.8137)\n"
          ]
        },
        {
          "name": "stderr",
          "output_type": "stream",
          "text": [
            "Train: 100% 2000/2000 [00:37<00:00, 53.58 step/s, accuracy=1.00, loss=0.04, step=212000]\n",
            "Valid: 100% 5664/5667 [00:01<00:00, 4727.20 uttr/s, accuracy=0.81, loss=0.93]\n",
            "Train: 100% 2000/2000 [00:37<00:00, 53.87 step/s, accuracy=1.00, loss=0.06, step=214000]\n",
            "Valid: 100% 5664/5667 [00:01<00:00, 4724.57 uttr/s, accuracy=0.80, loss=0.93]\n",
            "Train: 100% 2000/2000 [00:37<00:00, 53.90 step/s, accuracy=0.97, loss=0.10, step=216000]\n",
            "Valid: 100% 5664/5667 [00:01<00:00, 4719.60 uttr/s, accuracy=0.82, loss=0.89]\n",
            "Train: 100% 2000/2000 [00:37<00:00, 53.88 step/s, accuracy=0.91, loss=0.27, step=218000]\n",
            "Valid: 100% 5664/5667 [00:01<00:00, 4650.29 uttr/s, accuracy=0.80, loss=0.93]\n",
            "Train: 100% 2000/2000 [00:37<00:00, 53.64 step/s, accuracy=0.97, loss=0.20, step=220000]\n",
            "Valid: 100% 5664/5667 [00:01<00:00, 4712.03 uttr/s, accuracy=0.81, loss=0.90]\n",
            "                                                                                         \n",
            "Train:   6% 123/2000 [1:13:19<00:35, 52.68 step/s, accuracy=0.47, loss=2.54, step=242123]"
          ]
        },
        {
          "name": "stdout",
          "output_type": "stream",
          "text": [
            "Step 220000, best model saved. (accuracy=0.8178)\n"
          ]
        },
        {
          "name": "stderr",
          "output_type": "stream",
          "text": [
            "Train: 100% 2000/2000 [00:37<00:00, 53.75 step/s, accuracy=0.94, loss=0.18, step=222000]\n",
            "Valid: 100% 5664/5667 [00:01<00:00, 4730.22 uttr/s, accuracy=0.81, loss=0.93]\n",
            "Train: 100% 2000/2000 [00:37<00:00, 53.93 step/s, accuracy=0.91, loss=0.36, step=224000]\n",
            "Valid: 100% 5664/5667 [00:01<00:00, 4743.42 uttr/s, accuracy=0.81, loss=0.91]\n",
            "Train: 100% 2000/2000 [00:37<00:00, 53.84 step/s, accuracy=0.94, loss=0.27, step=226000]\n",
            "Valid: 100% 5664/5667 [00:01<00:00, 4741.99 uttr/s, accuracy=0.82, loss=0.90]\n",
            "Train: 100% 2000/2000 [00:37<00:00, 53.66 step/s, accuracy=0.97, loss=0.28, step=228000]\n",
            "Valid: 100% 5664/5667 [00:01<00:00, 4708.85 uttr/s, accuracy=0.82, loss=0.90]\n",
            "Train: 100% 2000/2000 [00:37<00:00, 53.92 step/s, accuracy=0.91, loss=0.24, step=230000]\n",
            "Valid: 100% 5664/5667 [00:01<00:00, 4632.27 uttr/s, accuracy=0.80, loss=0.95]\n",
            "                                                                                         \n",
            "Train:   6% 123/2000 [1:16:31<00:35, 52.68 step/s, accuracy=0.47, loss=2.54, step=242123]"
          ]
        },
        {
          "name": "stdout",
          "output_type": "stream",
          "text": [
            "Step 230000, best model saved. (accuracy=0.8178)\n"
          ]
        },
        {
          "name": "stderr",
          "output_type": "stream",
          "text": [
            "Train: 100% 2000/2000 [00:37<00:00, 53.81 step/s, accuracy=1.00, loss=0.04, step=232000]\n",
            "Valid: 100% 5664/5667 [00:01<00:00, 4704.77 uttr/s, accuracy=0.80, loss=0.93]\n",
            "Train: 100% 2000/2000 [00:37<00:00, 53.90 step/s, accuracy=0.97, loss=0.12, step=234000]\n",
            "Valid: 100% 5664/5667 [00:01<00:00, 4723.42 uttr/s, accuracy=0.82, loss=0.90]\n",
            "Train: 100% 2000/2000 [00:37<00:00, 53.62 step/s, accuracy=0.97, loss=0.07, step=236000]\n",
            "Valid: 100% 5664/5667 [00:01<00:00, 4741.27 uttr/s, accuracy=0.82, loss=0.86]\n",
            "Train: 100% 2000/2000 [00:37<00:00, 53.90 step/s, accuracy=1.00, loss=0.09, step=238000]\n",
            "Valid: 100% 5664/5667 [00:01<00:00, 4755.24 uttr/s, accuracy=0.80, loss=0.95]\n",
            "Train: 100% 2000/2000 [00:37<00:00, 53.86 step/s, accuracy=0.94, loss=0.25, step=240000]\n",
            "Valid: 100% 5664/5667 [00:01<00:00, 4720.57 uttr/s, accuracy=0.81, loss=0.91]\n",
            "                                                                                         \n",
            "Train:   6% 123/2000 [1:19:43<00:35, 52.68 step/s, accuracy=0.47, loss=2.54, step=242123]"
          ]
        },
        {
          "name": "stdout",
          "output_type": "stream",
          "text": [
            "Step 240000, best model saved. (accuracy=0.8187)\n"
          ]
        },
        {
          "name": "stderr",
          "output_type": "stream",
          "text": [
            "Train: 100% 2000/2000 [00:37<00:00, 53.80 step/s, accuracy=0.97, loss=0.06, step=242000]\n",
            "Valid: 100% 5664/5667 [00:01<00:00, 4706.64 uttr/s, accuracy=0.81, loss=0.93]\n",
            "Train: 100% 2000/2000 [00:37<00:00, 53.61 step/s, accuracy=1.00, loss=0.07, step=244000]\n",
            "Valid: 100% 5664/5667 [00:01<00:00, 4718.62 uttr/s, accuracy=0.82, loss=0.86]\n",
            "Train: 100% 2000/2000 [00:37<00:00, 53.89 step/s, accuracy=0.94, loss=0.28, step=246000]\n",
            "Valid: 100% 5664/5667 [00:01<00:00, 4731.97 uttr/s, accuracy=0.81, loss=0.92]\n",
            "Train: 100% 2000/2000 [00:37<00:00, 53.89 step/s, accuracy=0.97, loss=0.12, step=248000]\n",
            "Valid: 100% 5664/5667 [00:01<00:00, 4765.05 uttr/s, accuracy=0.81, loss=0.92]\n",
            "Train: 100% 2000/2000 [00:37<00:00, 53.93 step/s, accuracy=0.94, loss=0.24, step=250000]\n",
            "Valid: 100% 5664/5667 [00:01<00:00, 4732.31 uttr/s, accuracy=0.81, loss=0.90]\n",
            "                                                                                         \n",
            "Train:   6% 123/2000 [1:22:55<00:35, 52.68 step/s, accuracy=0.47, loss=2.54, step=242123]"
          ]
        },
        {
          "name": "stdout",
          "output_type": "stream",
          "text": [
            "Step 250000, best model saved. (accuracy=0.8192)\n"
          ]
        },
        {
          "name": "stderr",
          "output_type": "stream",
          "text": [
            "Train: 100% 2000/2000 [00:37<00:00, 53.60 step/s, accuracy=0.91, loss=0.34, step=252000]\n",
            "Valid: 100% 5664/5667 [00:01<00:00, 4697.98 uttr/s, accuracy=0.82, loss=0.88]\n",
            "Train: 100% 2000/2000 [00:37<00:00, 53.87 step/s, accuracy=0.97, loss=0.07, step=254000]\n",
            "Valid: 100% 5664/5667 [00:01<00:00, 4720.24 uttr/s, accuracy=0.82, loss=0.88]\n",
            "Train: 100% 2000/2000 [00:37<00:00, 53.88 step/s, accuracy=1.00, loss=0.06, step=256000]\n",
            "Valid: 100% 5664/5667 [00:01<00:00, 4731.87 uttr/s, accuracy=0.81, loss=0.90]\n",
            "Train: 100% 2000/2000 [00:37<00:00, 53.89 step/s, accuracy=0.97, loss=0.14, step=258000]\n",
            "Valid: 100% 5664/5667 [00:01<00:00, 4719.39 uttr/s, accuracy=0.82, loss=0.88]\n",
            "Train: 100% 2000/2000 [00:37<00:00, 53.64 step/s, accuracy=1.00, loss=0.06, step=260000]\n",
            "Valid: 100% 5664/5667 [00:01<00:00, 4694.60 uttr/s, accuracy=0.82, loss=0.89]\n",
            "                                                                                         \n",
            "Train:   6% 123/2000 [1:26:07<00:35, 52.68 step/s, accuracy=0.47, loss=2.54, step=242123]"
          ]
        },
        {
          "name": "stdout",
          "output_type": "stream",
          "text": [
            "Step 260000, best model saved. (accuracy=0.8197)\n"
          ]
        },
        {
          "name": "stderr",
          "output_type": "stream",
          "text": [
            "Train: 100% 2000/2000 [00:37<00:00, 53.83 step/s, accuracy=1.00, loss=0.03, step=262000]\n",
            "Valid: 100% 5664/5667 [00:01<00:00, 4741.50 uttr/s, accuracy=0.81, loss=0.90]\n",
            "Train: 100% 2000/2000 [00:37<00:00, 53.89 step/s, accuracy=0.97, loss=0.11, step=264000]\n",
            "Valid: 100% 5664/5667 [00:01<00:00, 4670.45 uttr/s, accuracy=0.82, loss=0.86]\n",
            "Train: 100% 2000/2000 [00:37<00:00, 53.87 step/s, accuracy=0.97, loss=0.08, step=266000]\n",
            "Valid: 100% 5664/5667 [00:01<00:00, 4720.35 uttr/s, accuracy=0.80, loss=0.95]\n",
            "Train: 100% 2000/2000 [00:37<00:00, 53.63 step/s, accuracy=1.00, loss=0.04, step=268000]\n",
            "Valid: 100% 5664/5667 [00:01<00:00, 4700.69 uttr/s, accuracy=0.81, loss=0.88]\n",
            "Train: 100% 2000/2000 [00:37<00:00, 53.91 step/s, accuracy=1.00, loss=0.08, step=270000]\n",
            "Valid: 100% 5664/5667 [00:01<00:00, 4744.61 uttr/s, accuracy=0.81, loss=0.90]\n",
            "                                                                                         \n",
            "Train:   6% 123/2000 [1:29:18<00:35, 52.68 step/s, accuracy=0.47, loss=2.54, step=242123]"
          ]
        },
        {
          "name": "stdout",
          "output_type": "stream",
          "text": [
            "Step 270000, best model saved. (accuracy=0.8217)\n"
          ]
        },
        {
          "name": "stderr",
          "output_type": "stream",
          "text": [
            "Train: 100% 2000/2000 [00:37<00:00, 53.87 step/s, accuracy=0.97, loss=0.14, step=272000]\n",
            "Valid: 100% 5664/5667 [00:01<00:00, 4695.78 uttr/s, accuracy=0.82, loss=0.87]\n",
            "Train: 100% 2000/2000 [00:37<00:00, 53.71 step/s, accuracy=0.94, loss=0.12, step=274000]\n",
            "Valid: 100% 5664/5667 [00:01<00:00, 4717.95 uttr/s, accuracy=0.81, loss=0.90]\n",
            "Train: 100% 2000/2000 [00:37<00:00, 53.86 step/s, accuracy=1.00, loss=0.05, step=276000]\n",
            "Valid: 100% 5664/5667 [00:01<00:00, 4736.21 uttr/s, accuracy=0.81, loss=0.90]\n",
            "Train: 100% 2000/2000 [00:37<00:00, 53.90 step/s, accuracy=0.94, loss=0.24, step=278000]\n",
            "Valid: 100% 5664/5667 [00:01<00:00, 4694.73 uttr/s, accuracy=0.80, loss=0.96]\n",
            "Train: 100% 2000/2000 [00:37<00:00, 53.91 step/s, accuracy=0.97, loss=0.06, step=280000]\n",
            "Valid: 100% 5664/5667 [00:01<00:00, 4731.26 uttr/s, accuracy=0.82, loss=0.86]\n",
            "                                                                                         \n",
            "Train:   6% 123/2000 [1:32:30<00:35, 52.68 step/s, accuracy=0.47, loss=2.54, step=242123]"
          ]
        },
        {
          "name": "stdout",
          "output_type": "stream",
          "text": [
            "Step 280000, best model saved. (accuracy=0.8224)\n"
          ]
        },
        {
          "name": "stderr",
          "output_type": "stream",
          "text": [
            "Train: 100% 2000/2000 [00:37<00:00, 53.65 step/s, accuracy=0.94, loss=0.13, step=282000]\n",
            "Valid: 100% 5664/5667 [00:01<00:00, 4715.70 uttr/s, accuracy=0.82, loss=0.89]\n",
            "Train: 100% 2000/2000 [00:37<00:00, 53.87 step/s, accuracy=1.00, loss=0.05, step=284000]\n",
            "Valid: 100% 5664/5667 [00:01<00:00, 4727.27 uttr/s, accuracy=0.83, loss=0.84]\n",
            "Train: 100% 2000/2000 [00:37<00:00, 53.89 step/s, accuracy=1.00, loss=0.03, step=286000]\n",
            "Valid: 100% 5664/5667 [00:01<00:00, 4750.05 uttr/s, accuracy=0.82, loss=0.87]\n",
            "Train: 100% 2000/2000 [00:37<00:00, 53.88 step/s, accuracy=0.97, loss=0.08, step=288000]\n",
            "Valid: 100% 5664/5667 [00:01<00:00, 4717.18 uttr/s, accuracy=0.82, loss=0.87]\n",
            "Train: 100% 2000/2000 [00:37<00:00, 53.68 step/s, accuracy=1.00, loss=0.08, step=290000]\n",
            "Valid: 100% 5664/5667 [00:01<00:00, 4739.99 uttr/s, accuracy=0.83, loss=0.84]\n",
            "                                                                                         \n",
            "Train:   6% 123/2000 [1:35:42<00:35, 52.68 step/s, accuracy=0.47, loss=2.54, step=242123]"
          ]
        },
        {
          "name": "stdout",
          "output_type": "stream",
          "text": [
            "Step 290000, best model saved. (accuracy=0.8307)\n"
          ]
        },
        {
          "name": "stderr",
          "output_type": "stream",
          "text": [
            "Train: 100% 2000/2000 [00:37<00:00, 53.83 step/s, accuracy=0.97, loss=0.17, step=292000]\n",
            "Valid: 100% 5664/5667 [00:01<00:00, 4726.50 uttr/s, accuracy=0.82, loss=0.87]\n",
            "Train: 100% 2000/2000 [00:37<00:00, 53.88 step/s, accuracy=1.00, loss=0.07, step=294000]\n",
            "Valid: 100% 5664/5667 [00:01<00:00, 4724.77 uttr/s, accuracy=0.83, loss=0.86]\n",
            "Train: 100% 2000/2000 [00:37<00:00, 53.90 step/s, accuracy=0.97, loss=0.16, step=296000]\n",
            "Valid: 100% 5664/5667 [00:01<00:00, 4691.32 uttr/s, accuracy=0.82, loss=0.88]\n",
            "Train: 100% 2000/2000 [00:37<00:00, 53.65 step/s, accuracy=0.97, loss=0.13, step=298000]\n",
            "Valid: 100% 5664/5667 [00:01<00:00, 4720.13 uttr/s, accuracy=0.83, loss=0.85]\n",
            "Train: 100% 2000/2000 [00:37<00:00, 53.86 step/s, accuracy=0.97, loss=0.17, step=3e+5]\n",
            "Valid: 100% 5664/5667 [00:01<00:00, 4740.35 uttr/s, accuracy=0.82, loss=0.87]\n",
            "                                                                                         \n",
            "Train:   6% 123/2000 [1:38:54<00:35, 52.68 step/s, accuracy=0.47, loss=2.54, step=242123]"
          ]
        },
        {
          "name": "stdout",
          "output_type": "stream",
          "text": [
            "Step 300000, best model saved. (accuracy=0.8307)\n"
          ]
        },
        {
          "name": "stderr",
          "output_type": "stream",
          "text": [
            "Train: 100% 2000/2000 [00:37<00:00, 53.86 step/s, accuracy=0.97, loss=0.12, step=302000]\n",
            "Valid: 100% 5664/5667 [00:01<00:00, 4693.00 uttr/s, accuracy=0.83, loss=0.86]\n",
            "Train: 100% 2000/2000 [00:37<00:00, 53.88 step/s, accuracy=0.97, loss=0.04, step=304000]\n",
            "Valid: 100% 5664/5667 [00:01<00:00, 4693.72 uttr/s, accuracy=0.81, loss=0.89]\n",
            "Train: 100% 2000/2000 [00:37<00:00, 53.65 step/s, accuracy=0.97, loss=0.05, step=306000]\n",
            "Valid: 100% 5664/5667 [00:01<00:00, 4732.23 uttr/s, accuracy=0.82, loss=0.87]\n",
            "Train: 100% 2000/2000 [00:37<00:00, 53.85 step/s, accuracy=1.00, loss=0.06, step=308000]\n",
            "Valid: 100% 5664/5667 [00:01<00:00, 4719.37 uttr/s, accuracy=0.83, loss=0.82]\n",
            "Train: 100% 2000/2000 [00:37<00:00, 53.87 step/s, accuracy=0.97, loss=0.13, step=310000]\n",
            "Valid: 100% 5664/5667 [00:01<00:00, 4704.19 uttr/s, accuracy=0.82, loss=0.87]\n",
            "                                                                                         \n",
            "Train:   6% 123/2000 [1:42:06<00:35, 52.68 step/s, accuracy=0.47, loss=2.54, step=242123]"
          ]
        },
        {
          "name": "stdout",
          "output_type": "stream",
          "text": [
            "Step 310000, best model saved. (accuracy=0.8307)\n"
          ]
        },
        {
          "name": "stderr",
          "output_type": "stream",
          "text": [
            "Train: 100% 2000/2000 [00:37<00:00, 53.82 step/s, accuracy=1.00, loss=0.03, step=312000]\n",
            "Valid: 100% 5664/5667 [00:01<00:00, 4741.98 uttr/s, accuracy=0.82, loss=0.89]\n",
            "Train: 100% 2000/2000 [00:37<00:00, 53.63 step/s, accuracy=1.00, loss=0.03, step=314000]\n",
            "Valid: 100% 5664/5667 [00:01<00:00, 4712.05 uttr/s, accuracy=0.82, loss=0.84]\n",
            "Train: 100% 2000/2000 [00:37<00:00, 53.87 step/s, accuracy=0.94, loss=0.15, step=316000]\n",
            "Valid: 100% 5664/5667 [00:01<00:00, 4702.09 uttr/s, accuracy=0.82, loss=0.82]\n",
            "Train: 100% 2000/2000 [00:37<00:00, 53.89 step/s, accuracy=0.91, loss=0.18, step=318000]\n",
            "Valid: 100% 5664/5667 [00:01<00:00, 4733.34 uttr/s, accuracy=0.83, loss=0.83]\n",
            "Train: 100% 2000/2000 [00:37<00:00, 53.91 step/s, accuracy=0.97, loss=0.08, step=320000]\n",
            "Valid: 100% 5664/5667 [00:01<00:00, 4725.14 uttr/s, accuracy=0.83, loss=0.82]\n",
            "                                                                                         \n",
            "Train:   6% 123/2000 [1:45:17<00:35, 52.68 step/s, accuracy=0.47, loss=2.54, step=242123]"
          ]
        },
        {
          "name": "stdout",
          "output_type": "stream",
          "text": [
            "Step 320000, best model saved. (accuracy=0.8321)\n"
          ]
        },
        {
          "name": "stderr",
          "output_type": "stream",
          "text": [
            "Train: 100% 2000/2000 [00:37<00:00, 53.61 step/s, accuracy=0.97, loss=0.19, step=322000]\n",
            "Valid: 100% 5664/5667 [00:01<00:00, 4681.47 uttr/s, accuracy=0.82, loss=0.88]\n",
            "Train: 100% 2000/2000 [00:37<00:00, 53.90 step/s, accuracy=0.97, loss=0.21, step=324000]\n",
            "Valid: 100% 5664/5667 [00:01<00:00, 4727.63 uttr/s, accuracy=0.83, loss=0.85]\n",
            "Train: 100% 2000/2000 [00:37<00:00, 53.90 step/s, accuracy=0.97, loss=0.17, step=326000]\n",
            "Valid: 100% 5664/5667 [00:01<00:00, 4747.55 uttr/s, accuracy=0.83, loss=0.83]\n",
            "Train: 100% 2000/2000 [00:37<00:00, 53.90 step/s, accuracy=1.00, loss=0.07, step=328000]\n",
            "Valid: 100% 5664/5667 [00:01<00:00, 4712.99 uttr/s, accuracy=0.82, loss=0.85]\n",
            "Train: 100% 2000/2000 [00:37<00:00, 53.55 step/s, accuracy=0.94, loss=0.21, step=330000]\n",
            "Valid: 100% 5664/5667 [00:01<00:00, 4751.45 uttr/s, accuracy=0.83, loss=0.84]\n",
            "                                                                                         \n",
            "Train:   6% 123/2000 [1:48:29<00:35, 52.68 step/s, accuracy=0.47, loss=2.54, step=242123]"
          ]
        },
        {
          "name": "stdout",
          "output_type": "stream",
          "text": [
            "Step 330000, best model saved. (accuracy=0.8323)\n"
          ]
        },
        {
          "name": "stderr",
          "output_type": "stream",
          "text": [
            "Train: 100% 2000/2000 [00:37<00:00, 53.83 step/s, accuracy=0.97, loss=0.08, step=332000]\n",
            "Valid: 100% 5664/5667 [00:01<00:00, 4738.95 uttr/s, accuracy=0.84, loss=0.81]\n",
            "Train: 100% 2000/2000 [00:37<00:00, 53.89 step/s, accuracy=0.97, loss=0.24, step=334000]\n",
            "Valid: 100% 5664/5667 [00:01<00:00, 4717.44 uttr/s, accuracy=0.82, loss=0.85]\n",
            "Train: 100% 2000/2000 [00:37<00:00, 53.88 step/s, accuracy=0.91, loss=0.17, step=336000]\n",
            "Valid: 100% 5664/5667 [00:01<00:00, 4743.41 uttr/s, accuracy=0.82, loss=0.90]\n",
            "Train: 100% 2000/2000 [00:37<00:00, 53.68 step/s, accuracy=0.97, loss=0.14, step=338000]\n",
            "Valid: 100% 5664/5667 [00:01<00:00, 4732.17 uttr/s, accuracy=0.83, loss=0.84]\n",
            "Train: 100% 2000/2000 [00:37<00:00, 53.91 step/s, accuracy=0.97, loss=0.07, step=340000]\n",
            "Valid: 100% 5664/5667 [00:01<00:00, 4722.93 uttr/s, accuracy=0.83, loss=0.83]\n",
            "                                                                                         \n",
            "Train:   6% 123/2000 [1:51:41<00:35, 52.68 step/s, accuracy=0.47, loss=2.54, step=242123]"
          ]
        },
        {
          "name": "stdout",
          "output_type": "stream",
          "text": [
            "Step 340000, best model saved. (accuracy=0.8381)\n"
          ]
        },
        {
          "name": "stderr",
          "output_type": "stream",
          "text": [
            "Train: 100% 2000/2000 [00:37<00:00, 53.80 step/s, accuracy=1.00, loss=0.12, step=342000]\n",
            "Valid: 100% 5664/5667 [00:01<00:00, 4679.97 uttr/s, accuracy=0.83, loss=0.83]\n",
            "Train: 100% 2000/2000 [00:37<00:00, 53.90 step/s, accuracy=0.97, loss=0.12, step=344000]\n",
            "Valid: 100% 5664/5667 [00:01<00:00, 4743.76 uttr/s, accuracy=0.84, loss=0.81]\n",
            "Train: 100% 2000/2000 [00:37<00:00, 53.66 step/s, accuracy=0.91, loss=0.25, step=346000]\n",
            "Valid: 100% 5664/5667 [00:01<00:00, 4736.59 uttr/s, accuracy=0.83, loss=0.85]\n",
            "Train: 100% 2000/2000 [00:37<00:00, 53.93 step/s, accuracy=0.97, loss=0.06, step=348000]\n",
            "Valid: 100% 5664/5667 [00:01<00:00, 4684.16 uttr/s, accuracy=0.83, loss=0.82]\n",
            "Train: 100% 2000/2000 [00:37<00:00, 53.86 step/s, accuracy=1.00, loss=0.03, step=350000]\n",
            "Valid: 100% 5664/5667 [00:01<00:00, 4737.44 uttr/s, accuracy=0.83, loss=0.83]\n",
            "                                                                                         \n",
            "Train:   6% 123/2000 [1:54:53<00:35, 52.68 step/s, accuracy=0.47, loss=2.54, step=242123]"
          ]
        },
        {
          "name": "stdout",
          "output_type": "stream",
          "text": [
            "Step 350000, best model saved. (accuracy=0.8381)\n"
          ]
        },
        {
          "name": "stderr",
          "output_type": "stream",
          "text": [
            "Train: 100% 2000/2000 [00:37<00:00, 53.83 step/s, accuracy=1.00, loss=0.08, step=352000]\n",
            "Valid: 100% 5664/5667 [00:01<00:00, 4700.11 uttr/s, accuracy=0.83, loss=0.81]\n",
            "Train: 100% 2000/2000 [00:37<00:00, 53.66 step/s, accuracy=0.97, loss=0.09, step=354000]\n",
            "Valid: 100% 5664/5667 [00:01<00:00, 4726.44 uttr/s, accuracy=0.83, loss=0.86]\n",
            "Train: 100% 2000/2000 [00:37<00:00, 53.88 step/s, accuracy=1.00, loss=0.03, step=356000]\n",
            "Valid: 100% 5664/5667 [00:01<00:00, 4722.57 uttr/s, accuracy=0.82, loss=0.86]\n",
            "Train: 100% 2000/2000 [00:37<00:00, 53.86 step/s, accuracy=1.00, loss=0.06, step=358000]\n",
            "Valid: 100% 5664/5667 [00:01<00:00, 4735.07 uttr/s, accuracy=0.84, loss=0.80]\n",
            "Train: 100% 2000/2000 [00:37<00:00, 53.90 step/s, accuracy=0.97, loss=0.13, step=360000]\n",
            "Valid: 100% 5664/5667 [00:01<00:00, 4703.65 uttr/s, accuracy=0.83, loss=0.84]\n",
            "                                                                                         \n",
            "Train:   6% 123/2000 [1:58:05<00:35, 52.68 step/s, accuracy=0.47, loss=2.54, step=242123]"
          ]
        },
        {
          "name": "stdout",
          "output_type": "stream",
          "text": [
            "Step 360000, best model saved. (accuracy=0.8381)\n"
          ]
        },
        {
          "name": "stderr",
          "output_type": "stream",
          "text": [
            "Train: 100% 2000/2000 [00:37<00:00, 53.62 step/s, accuracy=0.94, loss=0.19, step=362000]\n",
            "Valid: 100% 5664/5667 [00:01<00:00, 4708.10 uttr/s, accuracy=0.83, loss=0.87]\n",
            "Train: 100% 2000/2000 [00:37<00:00, 53.88 step/s, accuracy=1.00, loss=0.06, step=364000]\n",
            "Valid: 100% 5664/5667 [00:01<00:00, 4707.43 uttr/s, accuracy=0.83, loss=0.85]\n",
            "Train: 100% 2000/2000 [00:37<00:00, 53.89 step/s, accuracy=0.94, loss=0.18, step=366000]\n",
            "Valid: 100% 5664/5667 [00:01<00:00, 4699.18 uttr/s, accuracy=0.83, loss=0.84]\n",
            "Train: 100% 2000/2000 [00:37<00:00, 53.63 step/s, accuracy=1.00, loss=0.02, step=368000]\n",
            "Valid: 100% 5664/5667 [00:01<00:00, 4715.31 uttr/s, accuracy=0.83, loss=0.83]\n",
            "Train: 100% 2000/2000 [00:37<00:00, 53.87 step/s, accuracy=1.00, loss=0.03, step=370000]\n",
            "Valid: 100% 5664/5667 [00:01<00:00, 4726.40 uttr/s, accuracy=0.83, loss=0.82]\n",
            "                                                                                         \n",
            "Train:   6% 123/2000 [2:01:17<00:35, 52.68 step/s, accuracy=0.47, loss=2.54, step=242123]"
          ]
        },
        {
          "name": "stdout",
          "output_type": "stream",
          "text": [
            "Step 370000, best model saved. (accuracy=0.8381)\n"
          ]
        },
        {
          "name": "stderr",
          "output_type": "stream",
          "text": [
            "Train: 100% 2000/2000 [00:37<00:00, 53.84 step/s, accuracy=1.00, loss=0.05, step=372000]\n",
            "Valid: 100% 5664/5667 [00:01<00:00, 4700.04 uttr/s, accuracy=0.83, loss=0.81]\n",
            "Train: 100% 2000/2000 [00:37<00:00, 53.89 step/s, accuracy=0.97, loss=0.12, step=374000]\n",
            "Valid: 100% 5664/5667 [00:01<00:00, 4741.74 uttr/s, accuracy=0.83, loss=0.80]\n",
            "Train: 100% 2000/2000 [00:37<00:00, 53.65 step/s, accuracy=0.97, loss=0.13, step=376000]\n",
            "Valid: 100% 5664/5667 [00:01<00:00, 4722.30 uttr/s, accuracy=0.83, loss=0.82]\n",
            "Train: 100% 2000/2000 [00:37<00:00, 53.92 step/s, accuracy=1.00, loss=0.02, step=378000]\n",
            "Valid: 100% 5664/5667 [00:01<00:00, 4691.33 uttr/s, accuracy=0.84, loss=0.77]\n",
            "Train: 100% 2000/2000 [00:37<00:00, 53.87 step/s, accuracy=0.94, loss=0.16, step=380000]\n",
            "Valid: 100% 5664/5667 [00:01<00:00, 4700.45 uttr/s, accuracy=0.84, loss=0.82]\n",
            "                                                                                         \n",
            "Train:   6% 123/2000 [2:04:29<00:35, 52.68 step/s, accuracy=0.47, loss=2.54, step=242123]"
          ]
        },
        {
          "name": "stdout",
          "output_type": "stream",
          "text": [
            "Step 380000, best model saved. (accuracy=0.8393)\n"
          ]
        },
        {
          "name": "stderr",
          "output_type": "stream",
          "text": [
            "Train: 100% 2000/2000 [00:37<00:00, 53.78 step/s, accuracy=0.97, loss=0.06, step=382000]\n",
            "Valid: 100% 5664/5667 [00:01<00:00, 4701.00 uttr/s, accuracy=0.83, loss=0.84]\n",
            "Train: 100% 2000/2000 [00:37<00:00, 53.66 step/s, accuracy=0.94, loss=0.12, step=384000]\n",
            "Valid: 100% 5664/5667 [00:01<00:00, 4688.54 uttr/s, accuracy=0.83, loss=0.80]\n",
            "Train: 100% 2000/2000 [00:37<00:00, 53.91 step/s, accuracy=1.00, loss=0.03, step=386000]\n",
            "Valid: 100% 5664/5667 [00:01<00:00, 4693.74 uttr/s, accuracy=0.83, loss=0.80]\n",
            "Train: 100% 2000/2000 [00:37<00:00, 53.91 step/s, accuracy=1.00, loss=0.06, step=388000]\n",
            "Valid: 100% 5664/5667 [00:01<00:00, 4710.55 uttr/s, accuracy=0.83, loss=0.81]\n",
            "Train: 100% 2000/2000 [00:37<00:00, 53.92 step/s, accuracy=1.00, loss=0.06, step=390000]\n",
            "Valid: 100% 5664/5667 [00:01<00:00, 4734.16 uttr/s, accuracy=0.83, loss=0.84]\n",
            "                                                                                         \n",
            "Train:   6% 123/2000 [2:07:40<00:35, 52.68 step/s, accuracy=0.47, loss=2.54, step=242123]"
          ]
        },
        {
          "name": "stdout",
          "output_type": "stream",
          "text": [
            "Step 390000, best model saved. (accuracy=0.8393)\n"
          ]
        },
        {
          "name": "stderr",
          "output_type": "stream",
          "text": [
            "Train: 100% 2000/2000 [00:37<00:00, 53.63 step/s, accuracy=1.00, loss=0.05, step=392000]\n",
            "Valid: 100% 5664/5667 [00:01<00:00, 4732.11 uttr/s, accuracy=0.84, loss=0.80]\n",
            "Train: 100% 2000/2000 [00:37<00:00, 53.90 step/s, accuracy=0.97, loss=0.12, step=394000]\n",
            "Valid: 100% 5664/5667 [00:01<00:00, 4711.53 uttr/s, accuracy=0.83, loss=0.82]\n",
            "Train: 100% 2000/2000 [00:37<00:00, 53.87 step/s, accuracy=0.97, loss=0.07, step=396000]\n",
            "Valid: 100% 5664/5667 [00:01<00:00, 4719.92 uttr/s, accuracy=0.83, loss=0.82]\n",
            "Train: 100% 2000/2000 [00:37<00:00, 53.87 step/s, accuracy=1.00, loss=0.04, step=398000]\n",
            "Valid: 100% 5664/5667 [00:01<00:00, 4696.70 uttr/s, accuracy=0.84, loss=0.80]\n",
            "Train: 100% 2000/2000 [00:37<00:00, 53.66 step/s, accuracy=0.97, loss=0.14, step=4e+5]\n",
            "Valid: 100% 5664/5667 [00:01<00:00, 4662.92 uttr/s, accuracy=0.84, loss=0.80]\n",
            "                                                                                         \n",
            "Train:   6% 123/2000 [2:10:52<00:35, 52.68 step/s, accuracy=0.47, loss=2.54, step=242123]"
          ]
        },
        {
          "name": "stdout",
          "output_type": "stream",
          "text": [
            "Step 400000, best model saved. (accuracy=0.8393)\n"
          ]
        },
        {
          "name": "stderr",
          "output_type": "stream",
          "text": [
            "Train: 100% 2000/2000 [00:37<00:00, 53.82 step/s, accuracy=1.00, loss=0.04, step=402000]\n",
            "Valid: 100% 5664/5667 [00:01<00:00, 4616.65 uttr/s, accuracy=0.85, loss=0.77]\n",
            "Train: 100% 2000/2000 [00:37<00:00, 53.86 step/s, accuracy=1.00, loss=0.03, step=404000]\n",
            "Valid: 100% 5664/5667 [00:01<00:00, 4735.16 uttr/s, accuracy=0.84, loss=0.80]\n",
            "Train: 100% 2000/2000 [00:37<00:00, 53.89 step/s, accuracy=0.97, loss=0.08, step=406000]\n",
            "Valid: 100% 5664/5667 [00:01<00:00, 4714.08 uttr/s, accuracy=0.84, loss=0.80]\n",
            "Train: 100% 2000/2000 [00:37<00:00, 53.64 step/s, accuracy=1.00, loss=0.06, step=408000]\n",
            "Valid: 100% 5664/5667 [00:01<00:00, 4713.92 uttr/s, accuracy=0.83, loss=0.84]\n",
            "Train: 100% 2000/2000 [00:37<00:00, 53.89 step/s, accuracy=1.00, loss=0.09, step=410000]\n",
            "Valid: 100% 5664/5667 [00:01<00:00, 4724.67 uttr/s, accuracy=0.84, loss=0.80]\n",
            "                                                                                         \n",
            "Train:   6% 123/2000 [2:14:04<00:35, 52.68 step/s, accuracy=0.47, loss=2.54, step=242123]"
          ]
        },
        {
          "name": "stdout",
          "output_type": "stream",
          "text": [
            "Step 410000, best model saved. (accuracy=0.8459)\n"
          ]
        },
        {
          "name": "stderr",
          "output_type": "stream",
          "text": [
            "Train: 100% 2000/2000 [00:37<00:00, 53.82 step/s, accuracy=1.00, loss=0.02, step=412000]\n",
            "Valid: 100% 5664/5667 [00:01<00:00, 4690.70 uttr/s, accuracy=0.84, loss=0.77]\n",
            "Train: 100% 2000/2000 [00:37<00:00, 53.88 step/s, accuracy=0.97, loss=0.07, step=414000]\n",
            "Valid: 100% 5664/5667 [00:01<00:00, 4692.82 uttr/s, accuracy=0.85, loss=0.80]\n",
            "Train: 100% 2000/2000 [00:37<00:00, 53.62 step/s, accuracy=0.94, loss=0.18, step=416000]\n",
            "Valid: 100% 5664/5667 [00:01<00:00, 4678.52 uttr/s, accuracy=0.83, loss=0.81]\n",
            "Train: 100% 2000/2000 [00:37<00:00, 53.92 step/s, accuracy=1.00, loss=0.06, step=418000]\n",
            "Valid: 100% 5664/5667 [00:01<00:00, 4716.39 uttr/s, accuracy=0.84, loss=0.80]\n",
            "Train: 100% 2000/2000 [00:37<00:00, 53.90 step/s, accuracy=0.97, loss=0.08, step=420000]\n",
            "Valid: 100% 5664/5667 [00:01<00:00, 4696.51 uttr/s, accuracy=0.84, loss=0.78]\n",
            "                                                                                         \n",
            "Train:   6% 123/2000 [2:17:16<00:35, 52.68 step/s, accuracy=0.47, loss=2.54, step=242123]"
          ]
        },
        {
          "name": "stdout",
          "output_type": "stream",
          "text": [
            "Step 420000, best model saved. (accuracy=0.8459)\n"
          ]
        },
        {
          "name": "stderr",
          "output_type": "stream",
          "text": [
            "Train: 100% 2000/2000 [00:37<00:00, 53.82 step/s, accuracy=1.00, loss=0.02, step=422000]\n",
            "Valid: 100% 5664/5667 [00:01<00:00, 4725.93 uttr/s, accuracy=0.83, loss=0.84]\n",
            "Train: 100% 2000/2000 [00:37<00:00, 53.65 step/s, accuracy=0.94, loss=0.12, step=424000]\n",
            "Valid: 100% 5664/5667 [00:01<00:00, 4701.29 uttr/s, accuracy=0.84, loss=0.79]\n",
            "Train: 100% 2000/2000 [00:37<00:00, 53.91 step/s, accuracy=1.00, loss=0.04, step=426000]\n",
            "Valid: 100% 5664/5667 [00:01<00:00, 4712.37 uttr/s, accuracy=0.83, loss=0.82]\n",
            "Train: 100% 2000/2000 [00:37<00:00, 53.87 step/s, accuracy=1.00, loss=0.02, step=428000]\n",
            "Valid: 100% 5664/5667 [00:01<00:00, 4674.87 uttr/s, accuracy=0.85, loss=0.73]\n",
            "Train: 100% 2000/2000 [00:37<00:00, 53.87 step/s, accuracy=1.00, loss=0.04, step=430000]\n",
            "Valid: 100% 5664/5667 [00:01<00:00, 4742.15 uttr/s, accuracy=0.84, loss=0.82]\n",
            "                                                                                         \n",
            "Train:   6% 123/2000 [2:20:28<00:35, 52.68 step/s, accuracy=0.47, loss=2.54, step=242123]"
          ]
        },
        {
          "name": "stdout",
          "output_type": "stream",
          "text": [
            "Step 430000, best model saved. (accuracy=0.8506)\n"
          ]
        },
        {
          "name": "stderr",
          "output_type": "stream",
          "text": [
            "Train: 100% 2000/2000 [00:37<00:00, 53.62 step/s, accuracy=0.97, loss=0.07, step=432000]\n",
            "Valid: 100% 5664/5667 [00:01<00:00, 4738.16 uttr/s, accuracy=0.84, loss=0.78]\n",
            "Train: 100% 2000/2000 [00:37<00:00, 53.90 step/s, accuracy=1.00, loss=0.03, step=434000]\n",
            "Valid: 100% 5664/5667 [00:01<00:00, 4604.61 uttr/s, accuracy=0.84, loss=0.78]\n",
            "Train: 100% 2000/2000 [00:37<00:00, 53.84 step/s, accuracy=1.00, loss=0.04, step=436000]\n",
            "Valid: 100% 5664/5667 [00:01<00:00, 4734.44 uttr/s, accuracy=0.84, loss=0.76]\n",
            "Train: 100% 2000/2000 [00:37<00:00, 53.91 step/s, accuracy=1.00, loss=0.04, step=438000]\n",
            "Valid: 100% 5664/5667 [00:01<00:00, 4707.22 uttr/s, accuracy=0.84, loss=0.76]\n",
            "Train: 100% 2000/2000 [00:37<00:00, 53.66 step/s, accuracy=1.00, loss=0.04, step=440000]\n",
            "Valid: 100% 5664/5667 [00:01<00:00, 4724.85 uttr/s, accuracy=0.84, loss=0.76]\n",
            "                                                                                         \n",
            "Train:   6% 123/2000 [2:23:40<00:35, 52.68 step/s, accuracy=0.47, loss=2.54, step=242123]"
          ]
        },
        {
          "name": "stdout",
          "output_type": "stream",
          "text": [
            "Step 440000, best model saved. (accuracy=0.8506)\n"
          ]
        },
        {
          "name": "stderr",
          "output_type": "stream",
          "text": [
            "Train: 100% 2000/2000 [00:37<00:00, 53.84 step/s, accuracy=1.00, loss=0.02, step=442000]\n",
            "Valid: 100% 5664/5667 [00:01<00:00, 4712.35 uttr/s, accuracy=0.84, loss=0.81]\n",
            "Train: 100% 2000/2000 [00:37<00:00, 53.88 step/s, accuracy=1.00, loss=0.04, step=444000]\n",
            "Valid: 100% 5664/5667 [00:01<00:00, 4714.04 uttr/s, accuracy=0.84, loss=0.77]\n",
            "Train: 100% 2000/2000 [00:37<00:00, 53.90 step/s, accuracy=1.00, loss=0.04, step=446000]\n",
            "Valid: 100% 5664/5667 [00:01<00:00, 4722.18 uttr/s, accuracy=0.85, loss=0.75]\n",
            "Train: 100% 2000/2000 [00:37<00:00, 53.64 step/s, accuracy=1.00, loss=0.02, step=448000]\n",
            "Valid: 100% 5664/5667 [00:01<00:00, 4715.05 uttr/s, accuracy=0.85, loss=0.77]\n",
            "Train: 100% 2000/2000 [00:37<00:00, 53.89 step/s, accuracy=1.00, loss=0.01, step=450000]\n",
            "Valid: 100% 5664/5667 [00:01<00:00, 4743.05 uttr/s, accuracy=0.84, loss=0.79]\n",
            "                                                                                         \n",
            "Train:   6% 123/2000 [2:26:51<00:35, 52.68 step/s, accuracy=0.47, loss=2.54, step=242123]"
          ]
        },
        {
          "name": "stdout",
          "output_type": "stream",
          "text": [
            "Step 450000, best model saved. (accuracy=0.8506)\n"
          ]
        },
        {
          "name": "stderr",
          "output_type": "stream",
          "text": [
            "Train: 100% 2000/2000 [00:37<00:00, 53.84 step/s, accuracy=1.00, loss=0.03, step=452000]\n",
            "Valid: 100% 5664/5667 [00:01<00:00, 4643.41 uttr/s, accuracy=0.84, loss=0.77]\n",
            "Train: 100% 2000/2000 [00:37<00:00, 53.90 step/s, accuracy=1.00, loss=0.03, step=454000]\n",
            "Valid: 100% 5664/5667 [00:01<00:00, 4666.81 uttr/s, accuracy=0.84, loss=0.77]\n",
            "Train: 100% 2000/2000 [00:37<00:00, 53.65 step/s, accuracy=1.00, loss=0.01, step=456000]\n",
            "Valid: 100% 5664/5667 [00:01<00:00, 4735.39 uttr/s, accuracy=0.85, loss=0.76]\n",
            "Train: 100% 2000/2000 [00:37<00:00, 53.93 step/s, accuracy=0.97, loss=0.05, step=458000]\n",
            "Valid: 100% 5664/5667 [00:01<00:00, 4674.28 uttr/s, accuracy=0.84, loss=0.76]\n",
            "Train: 100% 2000/2000 [00:37<00:00, 53.87 step/s, accuracy=1.00, loss=0.06, step=460000]\n",
            "Valid: 100% 5664/5667 [00:01<00:00, 4701.36 uttr/s, accuracy=0.84, loss=0.79]\n",
            "                                                                                         \n",
            "Train:   6% 123/2000 [2:30:03<00:35, 52.68 step/s, accuracy=0.47, loss=2.54, step=242123]"
          ]
        },
        {
          "name": "stdout",
          "output_type": "stream",
          "text": [
            "Step 460000, best model saved. (accuracy=0.8506)\n"
          ]
        },
        {
          "name": "stderr",
          "output_type": "stream",
          "text": [
            "Train: 100% 2000/2000 [00:37<00:00, 53.56 step/s, accuracy=0.97, loss=0.07, step=462000]\n",
            "Valid: 100% 5664/5667 [00:01<00:00, 4686.54 uttr/s, accuracy=0.85, loss=0.75]\n",
            "Train: 100% 2000/2000 [00:37<00:00, 53.89 step/s, accuracy=0.97, loss=0.10, step=464000]\n",
            "Valid: 100% 5664/5667 [00:01<00:00, 4703.46 uttr/s, accuracy=0.85, loss=0.77]\n",
            "Train: 100% 2000/2000 [00:37<00:00, 53.87 step/s, accuracy=1.00, loss=0.04, step=466000]\n",
            "Valid: 100% 5664/5667 [00:01<00:00, 4696.91 uttr/s, accuracy=0.84, loss=0.80]\n",
            "Train: 100% 2000/2000 [00:37<00:00, 53.91 step/s, accuracy=0.97, loss=0.07, step=468000]\n",
            "Valid: 100% 5664/5667 [00:01<00:00, 4685.93 uttr/s, accuracy=0.85, loss=0.74]\n",
            "Train: 100% 2000/2000 [00:37<00:00, 53.69 step/s, accuracy=1.00, loss=0.03, step=470000]\n",
            "Valid: 100% 5664/5667 [00:01<00:00, 4716.82 uttr/s, accuracy=0.84, loss=0.75]\n",
            "                                                                                         \n",
            "Train:   6% 123/2000 [2:33:15<00:35, 52.68 step/s, accuracy=0.47, loss=2.54, step=242123]"
          ]
        },
        {
          "name": "stdout",
          "output_type": "stream",
          "text": [
            "Step 470000, best model saved. (accuracy=0.8519)\n"
          ]
        },
        {
          "name": "stderr",
          "output_type": "stream",
          "text": [
            "Train: 100% 2000/2000 [00:37<00:00, 53.83 step/s, accuracy=0.97, loss=0.04, step=472000]\n",
            "Valid: 100% 5664/5667 [00:01<00:00, 4699.68 uttr/s, accuracy=0.85, loss=0.72]\n",
            "Train: 100% 2000/2000 [00:37<00:00, 53.90 step/s, accuracy=0.91, loss=0.28, step=474000]\n",
            "Valid: 100% 5664/5667 [00:01<00:00, 4709.84 uttr/s, accuracy=0.85, loss=0.77]\n",
            "Train: 100% 2000/2000 [00:37<00:00, 53.89 step/s, accuracy=1.00, loss=0.11, step=476000]\n",
            "Valid: 100% 5664/5667 [00:01<00:00, 4727.58 uttr/s, accuracy=0.84, loss=0.77]\n",
            "Train: 100% 2000/2000 [00:37<00:00, 53.62 step/s, accuracy=1.00, loss=0.03, step=478000]\n",
            "Valid: 100% 5664/5667 [00:01<00:00, 4724.46 uttr/s, accuracy=0.85, loss=0.76]\n",
            "Train: 100% 2000/2000 [00:37<00:00, 53.89 step/s, accuracy=1.00, loss=0.05, step=480000]\n",
            "Valid: 100% 5664/5667 [00:01<00:00, 4721.03 uttr/s, accuracy=0.84, loss=0.76]\n",
            "                                                                                         \n",
            "Train:   6% 123/2000 [2:36:27<00:35, 52.68 step/s, accuracy=0.47, loss=2.54, step=242123]"
          ]
        },
        {
          "name": "stdout",
          "output_type": "stream",
          "text": [
            "Step 480000, best model saved. (accuracy=0.8547)\n"
          ]
        },
        {
          "name": "stderr",
          "output_type": "stream",
          "text": [
            "Train: 100% 2000/2000 [00:37<00:00, 53.84 step/s, accuracy=0.97, loss=0.04, step=482000]\n",
            "Valid: 100% 5664/5667 [00:01<00:00, 4690.32 uttr/s, accuracy=0.85, loss=0.79]\n",
            "Train: 100% 2000/2000 [00:37<00:00, 53.87 step/s, accuracy=0.97, loss=0.08, step=484000]\n",
            "Valid: 100% 5664/5667 [00:01<00:00, 4731.13 uttr/s, accuracy=0.84, loss=0.78]\n",
            "Train: 100% 2000/2000 [00:37<00:00, 53.66 step/s, accuracy=0.97, loss=0.07, step=486000]\n",
            "Valid: 100% 5664/5667 [00:01<00:00, 4578.99 uttr/s, accuracy=0.85, loss=0.76]\n",
            "Train: 100% 2000/2000 [00:37<00:00, 53.86 step/s, accuracy=1.00, loss=0.03, step=488000]\n",
            "Valid: 100% 5664/5667 [00:01<00:00, 4692.01 uttr/s, accuracy=0.85, loss=0.79]\n",
            "Train: 100% 2000/2000 [00:37<00:00, 53.89 step/s, accuracy=1.00, loss=0.01, step=490000]\n",
            "Valid: 100% 5664/5667 [00:01<00:00, 4717.31 uttr/s, accuracy=0.85, loss=0.75]\n",
            "                                                                                         \n",
            "Train:   6% 123/2000 [2:39:39<00:35, 52.68 step/s, accuracy=0.47, loss=2.54, step=242123]"
          ]
        },
        {
          "name": "stdout",
          "output_type": "stream",
          "text": [
            "Step 490000, best model saved. (accuracy=0.8547)\n"
          ]
        },
        {
          "name": "stderr",
          "output_type": "stream",
          "text": [
            "Train: 100% 2000/2000 [00:37<00:00, 53.83 step/s, accuracy=1.00, loss=0.10, step=492000]\n",
            "Valid: 100% 5664/5667 [00:01<00:00, 4704.20 uttr/s, accuracy=0.85, loss=0.75]\n",
            "Train: 100% 2000/2000 [00:37<00:00, 53.64 step/s, accuracy=0.97, loss=0.09, step=494000]\n",
            "Valid: 100% 5664/5667 [00:01<00:00, 4760.59 uttr/s, accuracy=0.86, loss=0.70]\n",
            "Train: 100% 2000/2000 [00:37<00:00, 53.94 step/s, accuracy=0.97, loss=0.13, step=496000]\n",
            "Valid: 100% 5664/5667 [00:01<00:00, 4723.27 uttr/s, accuracy=0.85, loss=0.74]\n",
            "Train: 100% 2000/2000 [00:37<00:00, 53.93 step/s, accuracy=1.00, loss=0.04, step=498000]\n",
            "Valid: 100% 5664/5667 [00:01<00:00, 4717.99 uttr/s, accuracy=0.85, loss=0.73]\n",
            "Train: 100% 2000/2000 [00:37<00:00, 53.91 step/s, accuracy=1.00, loss=0.03, step=5e+5]\n",
            "Valid: 100% 5664/5667 [00:01<00:00, 4678.04 uttr/s, accuracy=0.86, loss=0.74]\n",
            "                                                                                         \n",
            "Train:   6% 123/2000 [2:42:51<00:35, 52.68 step/s, accuracy=0.47, loss=2.54, step=242123]"
          ]
        },
        {
          "name": "stdout",
          "output_type": "stream",
          "text": [
            "Step 500000, best model saved. (accuracy=0.8568)\n"
          ]
        },
        {
          "name": "stderr",
          "output_type": "stream",
          "text": [
            "Train: 100% 2000/2000 [00:37<00:00, 53.63 step/s, accuracy=1.00, loss=0.02, step=502000]\n",
            "Valid: 100% 5664/5667 [00:01<00:00, 4735.39 uttr/s, accuracy=0.86, loss=0.73]\n",
            "Train: 100% 2000/2000 [00:37<00:00, 53.88 step/s, accuracy=1.00, loss=0.01, step=504000]\n",
            "Valid: 100% 5664/5667 [00:01<00:00, 4709.38 uttr/s, accuracy=0.85, loss=0.76]\n",
            "Train: 100% 2000/2000 [00:37<00:00, 53.89 step/s, accuracy=0.97, loss=0.08, step=506000]\n",
            "Valid: 100% 5664/5667 [00:01<00:00, 4706.35 uttr/s, accuracy=0.85, loss=0.75]\n",
            "Train: 100% 2000/2000 [00:37<00:00, 53.91 step/s, accuracy=1.00, loss=0.03, step=508000]\n",
            "Valid: 100% 5664/5667 [00:01<00:00, 4745.85 uttr/s, accuracy=0.84, loss=0.80]\n",
            "Train: 100% 2000/2000 [00:37<00:00, 53.63 step/s, accuracy=1.00, loss=0.01, step=510000]\n",
            "Valid: 100% 5664/5667 [00:01<00:00, 4720.70 uttr/s, accuracy=0.85, loss=0.74]\n",
            "                                                                                         \n",
            "Train:   6% 123/2000 [2:46:03<00:35, 52.68 step/s, accuracy=0.47, loss=2.54, step=242123]"
          ]
        },
        {
          "name": "stdout",
          "output_type": "stream",
          "text": [
            "Step 510000, best model saved. (accuracy=0.8568)\n"
          ]
        },
        {
          "name": "stderr",
          "output_type": "stream",
          "text": [
            "Train: 100% 2000/2000 [00:37<00:00, 53.86 step/s, accuracy=0.97, loss=0.06, step=512000]\n",
            "Valid: 100% 5664/5667 [00:01<00:00, 4738.28 uttr/s, accuracy=0.84, loss=0.81]\n",
            "Train: 100% 2000/2000 [00:37<00:00, 53.91 step/s, accuracy=1.00, loss=0.10, step=514000]\n",
            "Valid: 100% 5664/5667 [00:01<00:00, 4697.38 uttr/s, accuracy=0.85, loss=0.74]\n",
            "Train: 100% 2000/2000 [00:37<00:00, 53.89 step/s, accuracy=1.00, loss=0.02, step=516000]\n",
            "Valid: 100% 5664/5667 [00:01<00:00, 4670.25 uttr/s, accuracy=0.85, loss=0.72]\n",
            "Train: 100% 2000/2000 [00:37<00:00, 53.65 step/s, accuracy=1.00, loss=0.02, step=518000]\n",
            "Valid: 100% 5664/5667 [00:01<00:00, 4698.86 uttr/s, accuracy=0.84, loss=0.76]\n",
            "Train: 100% 2000/2000 [00:37<00:00, 53.89 step/s, accuracy=1.00, loss=0.06, step=520000]\n",
            "Valid: 100% 5664/5667 [00:01<00:00, 4757.48 uttr/s, accuracy=0.85, loss=0.72]\n",
            "                                                                                         \n",
            "Train:   6% 123/2000 [2:49:14<00:35, 52.68 step/s, accuracy=0.47, loss=2.54, step=242123]"
          ]
        },
        {
          "name": "stdout",
          "output_type": "stream",
          "text": [
            "Step 520000, best model saved. (accuracy=0.8568)\n"
          ]
        },
        {
          "name": "stderr",
          "output_type": "stream",
          "text": [
            "Train: 100% 2000/2000 [00:37<00:00, 53.86 step/s, accuracy=1.00, loss=0.05, step=522000]\n",
            "Valid: 100% 5664/5667 [00:01<00:00, 4715.19 uttr/s, accuracy=0.84, loss=0.77]\n",
            "Train: 100% 2000/2000 [00:37<00:00, 53.92 step/s, accuracy=1.00, loss=0.10, step=524000]\n",
            "Valid: 100% 5664/5667 [00:01<00:00, 4734.13 uttr/s, accuracy=0.85, loss=0.73]\n",
            "Train: 100% 2000/2000 [00:37<00:00, 53.64 step/s, accuracy=1.00, loss=0.02, step=526000]\n",
            "Valid: 100% 5664/5667 [00:01<00:00, 4653.81 uttr/s, accuracy=0.85, loss=0.74]\n",
            "Train: 100% 2000/2000 [00:37<00:00, 53.89 step/s, accuracy=0.97, loss=0.05, step=528000]\n",
            "Valid: 100% 5664/5667 [00:01<00:00, 4704.62 uttr/s, accuracy=0.85, loss=0.73]\n",
            "Train: 100% 2000/2000 [00:37<00:00, 53.88 step/s, accuracy=1.00, loss=0.06, step=530000]\n",
            "Valid: 100% 5664/5667 [00:01<00:00, 4725.79 uttr/s, accuracy=0.85, loss=0.75]\n",
            "                                                                                         \n",
            "Train:   6% 123/2000 [2:52:26<00:35, 52.68 step/s, accuracy=0.47, loss=2.54, step=242123]"
          ]
        },
        {
          "name": "stdout",
          "output_type": "stream",
          "text": [
            "Step 530000, best model saved. (accuracy=0.8568)\n"
          ]
        },
        {
          "name": "stderr",
          "output_type": "stream",
          "text": [
            "Train: 100% 2000/2000 [00:37<00:00, 53.83 step/s, accuracy=1.00, loss=0.05, step=532000]\n",
            "Valid: 100% 5664/5667 [00:01<00:00, 4686.32 uttr/s, accuracy=0.84, loss=0.79]\n",
            "Train: 100% 2000/2000 [00:37<00:00, 53.55 step/s, accuracy=1.00, loss=0.03, step=534000]\n",
            "Valid: 100% 5664/5667 [00:01<00:00, 4734.56 uttr/s, accuracy=0.85, loss=0.74]\n",
            "Train: 100% 2000/2000 [00:37<00:00, 53.96 step/s, accuracy=1.00, loss=0.02, step=536000]\n",
            "Valid: 100% 5664/5667 [00:01<00:00, 4722.39 uttr/s, accuracy=0.86, loss=0.72]\n",
            "Train: 100% 2000/2000 [00:37<00:00, 53.89 step/s, accuracy=1.00, loss=0.02, step=538000]\n",
            "Valid: 100% 5664/5667 [00:01<00:00, 4732.58 uttr/s, accuracy=0.85, loss=0.74]\n",
            "Train: 100% 2000/2000 [00:37<00:00, 53.91 step/s, accuracy=1.00, loss=0.01, step=540000]\n",
            "Valid: 100% 5664/5667 [00:01<00:00, 4704.34 uttr/s, accuracy=0.86, loss=0.72]\n",
            "                                                                                         \n",
            "Train:   6% 123/2000 [2:55:38<00:35, 52.68 step/s, accuracy=0.47, loss=2.54, step=242123]"
          ]
        },
        {
          "name": "stdout",
          "output_type": "stream",
          "text": [
            "Step 540000, best model saved. (accuracy=0.8584)\n"
          ]
        },
        {
          "name": "stderr",
          "output_type": "stream",
          "text": [
            "Train: 100% 2000/2000 [00:37<00:00, 53.53 step/s, accuracy=1.00, loss=0.03, step=542000]\n",
            "Valid: 100% 5664/5667 [00:01<00:00, 4669.56 uttr/s, accuracy=0.86, loss=0.71]\n",
            "Train: 100% 2000/2000 [00:37<00:00, 53.88 step/s, accuracy=1.00, loss=0.02, step=544000]\n",
            "Valid: 100% 5664/5667 [00:01<00:00, 4727.54 uttr/s, accuracy=0.86, loss=0.70]\n",
            "Train: 100% 2000/2000 [00:37<00:00, 53.87 step/s, accuracy=1.00, loss=0.04, step=546000]\n",
            "Valid: 100% 5664/5667 [00:01<00:00, 4632.68 uttr/s, accuracy=0.86, loss=0.70]\n",
            "Train: 100% 2000/2000 [00:37<00:00, 53.65 step/s, accuracy=1.00, loss=0.05, step=548000]\n",
            "Valid: 100% 5664/5667 [00:01<00:00, 4697.60 uttr/s, accuracy=0.85, loss=0.75]\n",
            "Train: 100% 2000/2000 [00:37<00:00, 53.90 step/s, accuracy=1.00, loss=0.08, step=550000]\n",
            "Valid: 100% 5664/5667 [00:01<00:00, 4624.72 uttr/s, accuracy=0.85, loss=0.73]\n",
            "                                                                                         \n",
            "Train:   6% 123/2000 [2:58:50<00:35, 52.68 step/s, accuracy=0.47, loss=2.54, step=242123]"
          ]
        },
        {
          "name": "stdout",
          "output_type": "stream",
          "text": [
            "Step 550000, best model saved. (accuracy=0.8623)\n"
          ]
        },
        {
          "name": "stderr",
          "output_type": "stream",
          "text": [
            "Train: 100% 2000/2000 [00:37<00:00, 53.85 step/s, accuracy=0.97, loss=0.17, step=552000]\n",
            "Valid: 100% 5664/5667 [00:01<00:00, 4631.01 uttr/s, accuracy=0.85, loss=0.74]\n",
            "Train: 100% 2000/2000 [00:37<00:00, 53.90 step/s, accuracy=0.97, loss=0.04, step=554000]\n",
            "Valid: 100% 5664/5667 [00:01<00:00, 4730.97 uttr/s, accuracy=0.86, loss=0.69]\n",
            "Train: 100% 2000/2000 [00:37<00:00, 53.64 step/s, accuracy=1.00, loss=0.01, step=556000]\n",
            "Valid: 100% 5664/5667 [00:01<00:00, 4734.02 uttr/s, accuracy=0.86, loss=0.70]\n",
            "Train: 100% 2000/2000 [00:37<00:00, 53.90 step/s, accuracy=1.00, loss=0.04, step=558000]\n",
            "Valid: 100% 5664/5667 [00:01<00:00, 4624.07 uttr/s, accuracy=0.85, loss=0.73]\n",
            "Train: 100% 2000/2000 [00:37<00:00, 53.90 step/s, accuracy=0.97, loss=0.09, step=560000]\n",
            "Valid: 100% 5664/5667 [00:01<00:00, 4733.64 uttr/s, accuracy=0.86, loss=0.71]\n",
            "                                                                                         \n",
            "Train:   6% 123/2000 [3:02:02<00:35, 52.68 step/s, accuracy=0.47, loss=2.54, step=242123]"
          ]
        },
        {
          "name": "stdout",
          "output_type": "stream",
          "text": [
            "Step 560000, best model saved. (accuracy=0.8632)\n"
          ]
        },
        {
          "name": "stderr",
          "output_type": "stream",
          "text": [
            "Train: 100% 2000/2000 [00:37<00:00, 53.83 step/s, accuracy=1.00, loss=0.02, step=562000]\n",
            "Valid: 100% 5664/5667 [00:01<00:00, 4709.10 uttr/s, accuracy=0.85, loss=0.72]\n",
            "Train: 100% 2000/2000 [00:37<00:00, 53.62 step/s, accuracy=1.00, loss=0.03, step=564000]\n",
            "Valid: 100% 5664/5667 [00:01<00:00, 4727.47 uttr/s, accuracy=0.86, loss=0.69]\n",
            "Train: 100% 2000/2000 [00:37<00:00, 53.91 step/s, accuracy=1.00, loss=0.06, step=566000]\n",
            "Valid: 100% 5664/5667 [00:01<00:00, 4610.03 uttr/s, accuracy=0.86, loss=0.72]\n",
            "Train: 100% 2000/2000 [00:37<00:00, 53.88 step/s, accuracy=1.00, loss=0.05, step=568000]\n",
            "Valid: 100% 5664/5667 [00:01<00:00, 4672.98 uttr/s, accuracy=0.86, loss=0.71]\n",
            "Train: 100% 2000/2000 [00:37<00:00, 53.92 step/s, accuracy=0.97, loss=0.07, step=570000]\n",
            "Valid: 100% 5664/5667 [00:01<00:00, 4694.32 uttr/s, accuracy=0.86, loss=0.74]\n",
            "                                                                                         \n",
            "Train:   6% 123/2000 [3:05:14<00:35, 52.68 step/s, accuracy=0.47, loss=2.54, step=242123]"
          ]
        },
        {
          "name": "stdout",
          "output_type": "stream",
          "text": [
            "Step 570000, best model saved. (accuracy=0.8632)\n"
          ]
        },
        {
          "name": "stderr",
          "output_type": "stream",
          "text": [
            "Train: 100% 2000/2000 [00:37<00:00, 53.59 step/s, accuracy=1.00, loss=0.01, step=572000]\n",
            "Valid: 100% 5664/5667 [00:01<00:00, 4734.99 uttr/s, accuracy=0.85, loss=0.72]\n",
            "Train: 100% 2000/2000 [00:37<00:00, 53.89 step/s, accuracy=1.00, loss=0.02, step=574000]\n",
            "Valid: 100% 5664/5667 [00:01<00:00, 4735.47 uttr/s, accuracy=0.86, loss=0.68]\n",
            "Train: 100% 2000/2000 [00:37<00:00, 53.89 step/s, accuracy=1.00, loss=0.00, step=576000]\n",
            "Valid: 100% 5664/5667 [00:01<00:00, 4730.01 uttr/s, accuracy=0.86, loss=0.72]\n",
            "Train: 100% 2000/2000 [00:37<00:00, 53.91 step/s, accuracy=1.00, loss=0.01, step=578000]\n",
            "Valid: 100% 5664/5667 [00:01<00:00, 4738.66 uttr/s, accuracy=0.85, loss=0.74]\n",
            "Train: 100% 2000/2000 [00:37<00:00, 53.63 step/s, accuracy=1.00, loss=0.02, step=580000]\n",
            "Valid: 100% 5664/5667 [00:01<00:00, 4753.85 uttr/s, accuracy=0.87, loss=0.68]\n",
            "                                                                                         \n",
            "Train:   6% 123/2000 [3:08:25<00:35, 52.68 step/s, accuracy=0.47, loss=2.54, step=242123]"
          ]
        },
        {
          "name": "stdout",
          "output_type": "stream",
          "text": [
            "Step 580000, best model saved. (accuracy=0.8683)\n"
          ]
        },
        {
          "name": "stderr",
          "output_type": "stream",
          "text": [
            "Train: 100% 2000/2000 [00:37<00:00, 53.79 step/s, accuracy=0.97, loss=0.06, step=582000]\n",
            "Valid: 100% 5664/5667 [00:01<00:00, 4711.77 uttr/s, accuracy=0.86, loss=0.71]\n",
            "Train: 100% 2000/2000 [00:37<00:00, 53.89 step/s, accuracy=1.00, loss=0.03, step=584000]\n",
            "Valid: 100% 5664/5667 [00:01<00:00, 4748.19 uttr/s, accuracy=0.86, loss=0.70]\n",
            "Train: 100% 2000/2000 [00:37<00:00, 53.92 step/s, accuracy=1.00, loss=0.03, step=586000]\n",
            "Valid: 100% 5664/5667 [00:01<00:00, 4706.58 uttr/s, accuracy=0.85, loss=0.74]\n",
            "Train: 100% 2000/2000 [00:37<00:00, 53.64 step/s, accuracy=1.00, loss=0.01, step=588000]\n",
            "Valid: 100% 5664/5667 [00:01<00:00, 4744.67 uttr/s, accuracy=0.86, loss=0.69]\n",
            "Train: 100% 2000/2000 [00:37<00:00, 53.90 step/s, accuracy=1.00, loss=0.07, step=590000]\n",
            "Valid: 100% 5664/5667 [00:01<00:00, 4625.76 uttr/s, accuracy=0.85, loss=0.73]\n",
            "                                                                                         \n",
            "Train:   6% 123/2000 [3:11:37<00:35, 52.68 step/s, accuracy=0.47, loss=2.54, step=242123]"
          ]
        },
        {
          "name": "stdout",
          "output_type": "stream",
          "text": [
            "Step 590000, best model saved. (accuracy=0.8683)\n"
          ]
        },
        {
          "name": "stderr",
          "output_type": "stream",
          "text": [
            "Train: 100% 2000/2000 [00:37<00:00, 53.79 step/s, accuracy=1.00, loss=0.01, step=592000]\n",
            "Valid: 100% 5664/5667 [00:01<00:00, 4630.92 uttr/s, accuracy=0.86, loss=0.72]\n",
            "Train: 100% 2000/2000 [00:37<00:00, 53.85 step/s, accuracy=1.00, loss=0.01, step=594000]\n",
            "Valid: 100% 5664/5667 [00:01<00:00, 4723.00 uttr/s, accuracy=0.85, loss=0.73]\n",
            "Train: 100% 2000/2000 [00:37<00:00, 53.63 step/s, accuracy=1.00, loss=0.02, step=596000]\n",
            "Valid: 100% 5664/5667 [00:01<00:00, 4675.27 uttr/s, accuracy=0.86, loss=0.71]\n",
            "Train: 100% 2000/2000 [00:37<00:00, 53.89 step/s, accuracy=0.97, loss=0.07, step=598000]\n",
            "Valid: 100% 5664/5667 [00:01<00:00, 4708.26 uttr/s, accuracy=0.87, loss=0.69]\n",
            "Train: 100% 2000/2000 [00:37<00:00, 53.90 step/s, accuracy=1.00, loss=0.02, step=6e+5]\n",
            "Valid: 100% 5664/5667 [00:01<00:00, 4637.54 uttr/s, accuracy=0.86, loss=0.71]\n",
            "                                                                                         \n",
            "Train:   6% 123/2000 [3:14:49<00:35, 52.68 step/s, accuracy=0.47, loss=2.54, step=242123]"
          ]
        },
        {
          "name": "stdout",
          "output_type": "stream",
          "text": [
            "Step 600000, best model saved. (accuracy=0.8683)\n"
          ]
        },
        {
          "name": "stderr",
          "output_type": "stream",
          "text": [
            "Train: 100% 2000/2000 [00:37<00:00, 53.85 step/s, accuracy=1.00, loss=0.01, step=602000]\n",
            "Valid: 100% 5664/5667 [00:01<00:00, 4667.36 uttr/s, accuracy=0.87, loss=0.68]\n",
            "Train: 100% 2000/2000 [00:37<00:00, 53.66 step/s, accuracy=1.00, loss=0.02, step=604000]\n",
            "Valid: 100% 5664/5667 [00:01<00:00, 4724.26 uttr/s, accuracy=0.86, loss=0.71]\n",
            "Train: 100% 2000/2000 [00:37<00:00, 53.89 step/s, accuracy=1.00, loss=0.04, step=606000]\n",
            "Valid: 100% 5664/5667 [00:01<00:00, 4714.45 uttr/s, accuracy=0.87, loss=0.70]\n",
            "Train: 100% 2000/2000 [00:37<00:00, 53.91 step/s, accuracy=0.97, loss=0.06, step=608000]\n",
            "Valid: 100% 5664/5667 [00:01<00:00, 4740.61 uttr/s, accuracy=0.86, loss=0.70]\n",
            "Train: 100% 2000/2000 [00:37<00:00, 53.91 step/s, accuracy=1.00, loss=0.01, step=610000]\n",
            "Valid: 100% 5664/5667 [00:01<00:00, 4713.00 uttr/s, accuracy=0.86, loss=0.70]\n",
            "                                                                                         \n",
            "Train:   6% 123/2000 [3:18:01<00:35, 52.68 step/s, accuracy=0.47, loss=2.54, step=242123]"
          ]
        },
        {
          "name": "stdout",
          "output_type": "stream",
          "text": [
            "Step 610000, best model saved. (accuracy=0.8685)\n"
          ]
        },
        {
          "name": "stderr",
          "output_type": "stream",
          "text": [
            "Train: 100% 2000/2000 [00:37<00:00, 53.58 step/s, accuracy=1.00, loss=0.02, step=612000]\n",
            "Valid: 100% 5664/5667 [00:01<00:00, 4733.96 uttr/s, accuracy=0.87, loss=0.68]\n",
            "Train: 100% 2000/2000 [00:37<00:00, 53.88 step/s, accuracy=1.00, loss=0.04, step=614000]\n",
            "Valid: 100% 5664/5667 [00:01<00:00, 4746.00 uttr/s, accuracy=0.87, loss=0.72]\n",
            "Train: 100% 2000/2000 [00:37<00:00, 53.89 step/s, accuracy=1.00, loss=0.00, step=616000]\n",
            "Valid: 100% 5664/5667 [00:01<00:00, 4720.66 uttr/s, accuracy=0.86, loss=0.69]\n",
            "Train: 100% 2000/2000 [00:37<00:00, 53.86 step/s, accuracy=1.00, loss=0.04, step=618000]\n",
            "Valid: 100% 5664/5667 [00:01<00:00, 4717.46 uttr/s, accuracy=0.86, loss=0.71]\n",
            "Train: 100% 2000/2000 [00:37<00:00, 53.63 step/s, accuracy=1.00, loss=0.00, step=620000]\n",
            "Valid: 100% 5664/5667 [00:01<00:00, 4692.17 uttr/s, accuracy=0.86, loss=0.70]\n",
            "                                                                                         \n",
            "Train:   6% 123/2000 [3:21:13<00:35, 52.68 step/s, accuracy=0.47, loss=2.54, step=242123]"
          ]
        },
        {
          "name": "stdout",
          "output_type": "stream",
          "text": [
            "Step 620000, best model saved. (accuracy=0.8685)\n"
          ]
        },
        {
          "name": "stderr",
          "output_type": "stream",
          "text": [
            "Train: 100% 2000/2000 [00:37<00:00, 53.82 step/s, accuracy=1.00, loss=0.01, step=622000]\n",
            "Valid: 100% 5664/5667 [00:01<00:00, 4680.81 uttr/s, accuracy=0.87, loss=0.67]\n",
            "Train: 100% 2000/2000 [00:37<00:00, 53.92 step/s, accuracy=1.00, loss=0.01, step=624000]\n",
            "Valid: 100% 5664/5667 [00:01<00:00, 4678.40 uttr/s, accuracy=0.87, loss=0.68]\n",
            "Train: 100% 2000/2000 [00:37<00:00, 53.85 step/s, accuracy=1.00, loss=0.01, step=626000]\n",
            "Valid: 100% 5664/5667 [00:01<00:00, 4726.98 uttr/s, accuracy=0.86, loss=0.69]\n",
            "Train: 100% 2000/2000 [00:37<00:00, 53.63 step/s, accuracy=1.00, loss=0.01, step=628000]\n",
            "Valid: 100% 5664/5667 [00:01<00:00, 4727.72 uttr/s, accuracy=0.86, loss=0.70]\n",
            "Train: 100% 2000/2000 [00:37<00:00, 53.88 step/s, accuracy=1.00, loss=0.01, step=630000]\n",
            "Valid: 100% 5664/5667 [00:01<00:00, 4719.71 uttr/s, accuracy=0.87, loss=0.71]\n",
            "                                                                                         \n",
            "Train:   6% 123/2000 [3:24:25<00:35, 52.68 step/s, accuracy=0.47, loss=2.54, step=242123]"
          ]
        },
        {
          "name": "stdout",
          "output_type": "stream",
          "text": [
            "Step 630000, best model saved. (accuracy=0.8704)\n"
          ]
        },
        {
          "name": "stderr",
          "output_type": "stream",
          "text": [
            "Train: 100% 2000/2000 [00:37<00:00, 53.83 step/s, accuracy=1.00, loss=0.01, step=632000]\n",
            "Valid: 100% 5664/5667 [00:01<00:00, 4672.73 uttr/s, accuracy=0.87, loss=0.67]\n",
            "Train: 100% 2000/2000 [00:37<00:00, 53.88 step/s, accuracy=1.00, loss=0.01, step=634000]\n",
            "Valid: 100% 5664/5667 [00:01<00:00, 4698.47 uttr/s, accuracy=0.86, loss=0.70]\n",
            "Train: 100% 2000/2000 [00:37<00:00, 53.64 step/s, accuracy=1.00, loss=0.01, step=636000]\n",
            "Valid: 100% 5664/5667 [00:01<00:00, 4742.11 uttr/s, accuracy=0.86, loss=0.70]\n",
            "Train: 100% 2000/2000 [00:37<00:00, 53.91 step/s, accuracy=1.00, loss=0.00, step=638000]\n",
            "Valid: 100% 5664/5667 [00:01<00:00, 4716.18 uttr/s, accuracy=0.86, loss=0.72]\n",
            "Train: 100% 2000/2000 [00:37<00:00, 53.88 step/s, accuracy=0.97, loss=0.06, step=640000]\n",
            "Valid: 100% 5664/5667 [00:01<00:00, 4707.47 uttr/s, accuracy=0.87, loss=0.69]\n",
            "                                                                                         \n",
            "Train:   6% 123/2000 [3:27:37<00:35, 52.68 step/s, accuracy=0.47, loss=2.54, step=242123]"
          ]
        },
        {
          "name": "stdout",
          "output_type": "stream",
          "text": [
            "Step 640000, best model saved. (accuracy=0.8704)\n"
          ]
        },
        {
          "name": "stderr",
          "output_type": "stream",
          "text": [
            "Train: 100% 2000/2000 [00:37<00:00, 53.60 step/s, accuracy=1.00, loss=0.01, step=642000]\n",
            "Valid: 100% 5664/5667 [00:01<00:00, 4670.83 uttr/s, accuracy=0.86, loss=0.69]\n",
            "Train: 100% 2000/2000 [00:37<00:00, 53.90 step/s, accuracy=1.00, loss=0.02, step=644000]\n",
            "Valid: 100% 5664/5667 [00:01<00:00, 4722.93 uttr/s, accuracy=0.87, loss=0.66]\n",
            "Train: 100% 2000/2000 [00:37<00:00, 53.90 step/s, accuracy=1.00, loss=0.00, step=646000]\n",
            "Valid: 100% 5664/5667 [00:01<00:00, 4743.29 uttr/s, accuracy=0.86, loss=0.67]\n",
            "Train: 100% 2000/2000 [00:37<00:00, 53.80 step/s, accuracy=1.00, loss=0.02, step=648000]\n",
            "Valid: 100% 5664/5667 [00:01<00:00, 4690.78 uttr/s, accuracy=0.87, loss=0.66]\n",
            "Train: 100% 2000/2000 [00:37<00:00, 53.62 step/s, accuracy=1.00, loss=0.03, step=650000]\n",
            "Valid: 100% 5664/5667 [00:01<00:00, 4721.80 uttr/s, accuracy=0.87, loss=0.68]\n",
            "                                                                                         \n",
            "Train:   6% 123/2000 [3:30:49<00:35, 52.68 step/s, accuracy=0.47, loss=2.54, step=242123]"
          ]
        },
        {
          "name": "stdout",
          "output_type": "stream",
          "text": [
            "Step 650000, best model saved. (accuracy=0.8713)\n"
          ]
        },
        {
          "name": "stderr",
          "output_type": "stream",
          "text": [
            "Train: 100% 2000/2000 [00:37<00:00, 53.83 step/s, accuracy=1.00, loss=0.00, step=652000]\n",
            "Valid: 100% 5664/5667 [00:01<00:00, 4723.47 uttr/s, accuracy=0.87, loss=0.66]\n",
            "Train: 100% 2000/2000 [00:37<00:00, 53.90 step/s, accuracy=0.97, loss=0.07, step=654000]\n",
            "Valid: 100% 5664/5667 [00:01<00:00, 4720.53 uttr/s, accuracy=0.86, loss=0.71]\n",
            "Train: 100% 2000/2000 [00:37<00:00, 53.89 step/s, accuracy=0.97, loss=0.04, step=656000]\n",
            "Valid: 100% 5664/5667 [00:01<00:00, 4717.63 uttr/s, accuracy=0.86, loss=0.69]\n",
            "Train: 100% 2000/2000 [00:37<00:00, 53.68 step/s, accuracy=1.00, loss=0.01, step=658000]\n",
            "Valid: 100% 5664/5667 [00:01<00:00, 4725.40 uttr/s, accuracy=0.86, loss=0.69]\n",
            "Train: 100% 2000/2000 [00:37<00:00, 53.90 step/s, accuracy=1.00, loss=0.02, step=660000]\n",
            "Valid: 100% 5664/5667 [00:01<00:00, 4749.66 uttr/s, accuracy=0.87, loss=0.68]\n",
            "                                                                                         \n",
            "Train:   6% 123/2000 [3:34:00<00:35, 52.68 step/s, accuracy=0.47, loss=2.54, step=242123]"
          ]
        },
        {
          "name": "stdout",
          "output_type": "stream",
          "text": [
            "Step 660000, best model saved. (accuracy=0.8713)\n"
          ]
        },
        {
          "name": "stderr",
          "output_type": "stream",
          "text": [
            "Train: 100% 2000/2000 [00:37<00:00, 53.85 step/s, accuracy=1.00, loss=0.02, step=662000]\n",
            "Valid: 100% 5664/5667 [00:01<00:00, 4702.38 uttr/s, accuracy=0.87, loss=0.64]\n",
            "Train: 100% 2000/2000 [00:37<00:00, 53.92 step/s, accuracy=0.97, loss=0.06, step=664000]\n",
            "Valid: 100% 5664/5667 [00:01<00:00, 4675.33 uttr/s, accuracy=0.87, loss=0.66]\n",
            "Train: 100% 2000/2000 [00:37<00:00, 53.58 step/s, accuracy=1.00, loss=0.01, step=666000]\n",
            "Valid: 100% 5664/5667 [00:01<00:00, 4694.89 uttr/s, accuracy=0.87, loss=0.66]\n",
            "Train: 100% 2000/2000 [00:37<00:00, 53.81 step/s, accuracy=1.00, loss=0.03, step=668000]\n",
            "Valid: 100% 5664/5667 [00:01<00:00, 4723.80 uttr/s, accuracy=0.87, loss=0.70]\n",
            "Train: 100% 2000/2000 [00:37<00:00, 53.90 step/s, accuracy=1.00, loss=0.01, step=670000]\n",
            "Valid: 100% 5664/5667 [00:01<00:00, 4725.27 uttr/s, accuracy=0.87, loss=0.67]\n",
            "                                                                                         \n",
            "Train:   6% 123/2000 [3:37:12<00:35, 52.68 step/s, accuracy=0.47, loss=2.54, step=242123]"
          ]
        },
        {
          "name": "stdout",
          "output_type": "stream",
          "text": [
            "Step 670000, best model saved. (accuracy=0.8741)\n"
          ]
        },
        {
          "name": "stderr",
          "output_type": "stream",
          "text": [
            "Train: 100% 2000/2000 [00:37<00:00, 53.89 step/s, accuracy=1.00, loss=0.00, step=672000]\n",
            "Valid: 100% 5664/5667 [00:01<00:00, 4689.40 uttr/s, accuracy=0.87, loss=0.67]\n",
            "Train: 100% 2000/2000 [00:37<00:00, 53.65 step/s, accuracy=0.97, loss=0.04, step=674000]\n",
            "Valid: 100% 5664/5667 [00:01<00:00, 4719.83 uttr/s, accuracy=0.87, loss=0.66]\n",
            "Train: 100% 2000/2000 [00:37<00:00, 53.86 step/s, accuracy=1.00, loss=0.03, step=676000]\n",
            "Valid: 100% 5664/5667 [00:01<00:00, 4747.54 uttr/s, accuracy=0.87, loss=0.68]\n",
            "Train: 100% 2000/2000 [00:37<00:00, 53.89 step/s, accuracy=1.00, loss=0.01, step=678000]\n",
            "Valid: 100% 5664/5667 [00:01<00:00, 4725.36 uttr/s, accuracy=0.87, loss=0.66]\n",
            "Train: 100% 2000/2000 [00:37<00:00, 53.89 step/s, accuracy=1.00, loss=0.00, step=680000]\n",
            "Valid: 100% 5664/5667 [00:01<00:00, 4742.05 uttr/s, accuracy=0.87, loss=0.65]\n",
            "                                                                                         \n",
            "Train:   6% 123/2000 [3:40:24<00:35, 52.68 step/s, accuracy=0.47, loss=2.54, step=242123]"
          ]
        },
        {
          "name": "stdout",
          "output_type": "stream",
          "text": [
            "Step 680000, best model saved. (accuracy=0.8741)\n"
          ]
        },
        {
          "name": "stderr",
          "output_type": "stream",
          "text": [
            "Train: 100% 2000/2000 [00:37<00:00, 53.58 step/s, accuracy=1.00, loss=0.01, step=682000]\n",
            "Valid: 100% 5664/5667 [00:01<00:00, 4720.14 uttr/s, accuracy=0.87, loss=0.67]\n",
            "Train: 100% 2000/2000 [00:37<00:00, 53.90 step/s, accuracy=1.00, loss=0.00, step=684000]\n",
            "Valid: 100% 5664/5667 [00:01<00:00, 4753.96 uttr/s, accuracy=0.87, loss=0.69]\n",
            "Train: 100% 2000/2000 [00:37<00:00, 53.91 step/s, accuracy=1.00, loss=0.01, step=686000]\n",
            "Valid: 100% 5664/5667 [00:01<00:00, 4716.70 uttr/s, accuracy=0.87, loss=0.65]\n",
            "Train: 100% 2000/2000 [00:37<00:00, 53.91 step/s, accuracy=1.00, loss=0.00, step=688000]\n",
            "Valid: 100% 5664/5667 [00:01<00:00, 4730.17 uttr/s, accuracy=0.87, loss=0.66]\n",
            "Train: 100% 2000/2000 [00:37<00:00, 53.69 step/s, accuracy=0.97, loss=0.05, step=690000]\n",
            "Valid: 100% 5664/5667 [00:01<00:00, 4732.59 uttr/s, accuracy=0.88, loss=0.64]\n",
            "                                                                                         \n",
            "Train:   6% 123/2000 [3:43:36<00:35, 52.68 step/s, accuracy=0.47, loss=2.54, step=242123]"
          ]
        },
        {
          "name": "stdout",
          "output_type": "stream",
          "text": [
            "Step 690000, best model saved. (accuracy=0.8768)\n"
          ]
        },
        {
          "name": "stderr",
          "output_type": "stream",
          "text": [
            "Train: 100% 2000/2000 [00:37<00:00, 53.80 step/s, accuracy=1.00, loss=0.01, step=692000]\n",
            "Valid: 100% 5664/5667 [00:01<00:00, 4704.24 uttr/s, accuracy=0.87, loss=0.64]\n",
            "Train: 100% 2000/2000 [00:37<00:00, 53.95 step/s, accuracy=1.00, loss=0.01, step=694000]\n",
            "Valid: 100% 5664/5667 [00:01<00:00, 4703.63 uttr/s, accuracy=0.87, loss=0.64]\n",
            "Train: 100% 2000/2000 [00:37<00:00, 53.91 step/s, accuracy=1.00, loss=0.00, step=696000]\n",
            "Valid: 100% 5664/5667 [00:01<00:00, 4736.06 uttr/s, accuracy=0.87, loss=0.68]\n",
            "Train: 100% 2000/2000 [00:37<00:00, 53.60 step/s, accuracy=1.00, loss=0.00, step=698000]\n",
            "Valid: 100% 5664/5667 [00:01<00:00, 4729.64 uttr/s, accuracy=0.87, loss=0.66]\n",
            "Train: 100% 2000/2000 [00:37<00:00, 53.89 step/s, accuracy=1.00, loss=0.01, step=7e+5]\n",
            "Valid: 100% 5664/5667 [00:01<00:00, 4716.56 uttr/s, accuracy=0.87, loss=0.66]\n",
            "                                                                                         \n",
            "Train:   6% 123/2000 [3:46:48<00:35, 52.68 step/s, accuracy=0.47, loss=2.54, step=242123]"
          ]
        },
        {
          "name": "stdout",
          "output_type": "stream",
          "text": [
            "Step 700000, best model saved. (accuracy=0.8768)\n"
          ]
        },
        {
          "name": "stderr",
          "output_type": "stream",
          "text": [
            "Train: 100% 2000/2000 [00:37<00:00, 53.85 step/s, accuracy=1.00, loss=0.00, step=702000]\n",
            "Valid: 100% 5664/5667 [00:01<00:00, 4715.32 uttr/s, accuracy=0.87, loss=0.64]\n",
            "Train: 100% 2000/2000 [00:37<00:00, 53.91 step/s, accuracy=1.00, loss=0.01, step=704000]\n",
            "Valid: 100% 5664/5667 [00:01<00:00, 4704.36 uttr/s, accuracy=0.87, loss=0.67]\n",
            "Train: 100% 2000/2000 [00:37<00:00, 53.66 step/s, accuracy=1.00, loss=0.00, step=706000]\n",
            "Valid: 100% 5664/5667 [00:01<00:00, 4727.91 uttr/s, accuracy=0.87, loss=0.67]\n",
            "Train: 100% 2000/2000 [00:37<00:00, 53.86 step/s, accuracy=1.00, loss=0.01, step=708000]\n",
            "Valid: 100% 5664/5667 [00:01<00:00, 4717.41 uttr/s, accuracy=0.88, loss=0.64]\n",
            "Train: 100% 2000/2000 [00:37<00:00, 53.88 step/s, accuracy=1.00, loss=0.03, step=710000]\n",
            "Valid: 100% 5664/5667 [00:01<00:00, 4732.87 uttr/s, accuracy=0.86, loss=0.72]\n",
            "                                                                                         \n",
            "Train:   6% 123/2000 [3:49:59<00:35, 52.68 step/s, accuracy=0.47, loss=2.54, step=242123]"
          ]
        },
        {
          "name": "stdout",
          "output_type": "stream",
          "text": [
            "Step 710000, best model saved. (accuracy=0.8792)\n"
          ]
        },
        {
          "name": "stderr",
          "output_type": "stream",
          "text": [
            "Train: 100% 2000/2000 [00:37<00:00, 53.87 step/s, accuracy=1.00, loss=0.01, step=712000]\n",
            "Valid: 100% 5664/5667 [00:01<00:00, 4733.46 uttr/s, accuracy=0.87, loss=0.66]\n",
            "Train: 100% 2000/2000 [00:37<00:00, 53.67 step/s, accuracy=1.00, loss=0.00, step=714000]\n",
            "Valid: 100% 5664/5667 [00:01<00:00, 4722.44 uttr/s, accuracy=0.87, loss=0.66]\n",
            "Train: 100% 2000/2000 [00:37<00:00, 53.88 step/s, accuracy=1.00, loss=0.01, step=716000]\n",
            "Valid: 100% 5664/5667 [00:01<00:00, 4734.91 uttr/s, accuracy=0.88, loss=0.65]\n",
            "Train: 100% 2000/2000 [00:37<00:00, 53.89 step/s, accuracy=1.00, loss=0.01, step=718000]\n",
            "Valid: 100% 5664/5667 [00:01<00:00, 4724.59 uttr/s, accuracy=0.87, loss=0.68]\n",
            "Train: 100% 2000/2000 [00:37<00:00, 53.90 step/s, accuracy=1.00, loss=0.00, step=720000]\n",
            "Valid: 100% 5664/5667 [00:01<00:00, 4729.14 uttr/s, accuracy=0.88, loss=0.65]\n",
            "                                                                                         \n",
            "Train:   6% 123/2000 [3:53:11<00:35, 52.68 step/s, accuracy=0.47, loss=2.54, step=242123]"
          ]
        },
        {
          "name": "stdout",
          "output_type": "stream",
          "text": [
            "Step 720000, best model saved. (accuracy=0.8792)\n"
          ]
        },
        {
          "name": "stderr",
          "output_type": "stream",
          "text": [
            "Train: 100% 2000/2000 [00:37<00:00, 53.60 step/s, accuracy=1.00, loss=0.00, step=722000]\n",
            "Valid: 100% 5664/5667 [00:01<00:00, 4723.24 uttr/s, accuracy=0.87, loss=0.66]\n",
            "Train: 100% 2000/2000 [00:37<00:00, 53.90 step/s, accuracy=1.00, loss=0.02, step=724000]\n",
            "Valid: 100% 5664/5667 [00:01<00:00, 4677.96 uttr/s, accuracy=0.87, loss=0.67]\n",
            "Train: 100% 2000/2000 [00:37<00:00, 53.90 step/s, accuracy=1.00, loss=0.00, step=726000]\n",
            "Valid: 100% 5664/5667 [00:01<00:00, 4722.58 uttr/s, accuracy=0.87, loss=0.66]\n",
            "Train: 100% 2000/2000 [00:37<00:00, 53.90 step/s, accuracy=1.00, loss=0.00, step=728000]\n",
            "Valid: 100% 5664/5667 [00:01<00:00, 4710.28 uttr/s, accuracy=0.88, loss=0.63]\n",
            "Train: 100% 2000/2000 [00:37<00:00, 53.66 step/s, accuracy=1.00, loss=0.00, step=730000]\n",
            "Valid: 100% 5664/5667 [00:01<00:00, 4718.65 uttr/s, accuracy=0.88, loss=0.63]\n",
            "                                                                                         \n",
            "Train:   6% 123/2000 [3:56:23<00:35, 52.68 step/s, accuracy=0.47, loss=2.54, step=242123]"
          ]
        },
        {
          "name": "stdout",
          "output_type": "stream",
          "text": [
            "Step 730000, best model saved. (accuracy=0.8792)\n"
          ]
        },
        {
          "name": "stderr",
          "output_type": "stream",
          "text": [
            "Train: 100% 2000/2000 [00:37<00:00, 53.88 step/s, accuracy=1.00, loss=0.00, step=732000]\n",
            "Valid: 100% 5664/5667 [00:01<00:00, 4722.11 uttr/s, accuracy=0.87, loss=0.67]\n",
            "Train: 100% 2000/2000 [00:37<00:00, 53.92 step/s, accuracy=1.00, loss=0.01, step=734000]\n",
            "Valid: 100% 5664/5667 [00:01<00:00, 4698.73 uttr/s, accuracy=0.87, loss=0.64]\n",
            "Train: 100% 2000/2000 [00:37<00:00, 53.68 step/s, accuracy=1.00, loss=0.00, step=736000]\n",
            "Valid: 100% 5664/5667 [00:01<00:00, 4740.16 uttr/s, accuracy=0.88, loss=0.66]\n",
            "Train: 100% 2000/2000 [00:37<00:00, 53.92 step/s, accuracy=1.00, loss=0.00, step=738000]\n",
            "Valid: 100% 5664/5667 [00:01<00:00, 4723.27 uttr/s, accuracy=0.88, loss=0.64]\n",
            "Train: 100% 2000/2000 [00:37<00:00, 53.91 step/s, accuracy=1.00, loss=0.01, step=740000]\n",
            "Valid: 100% 5664/5667 [00:01<00:00, 4732.16 uttr/s, accuracy=0.88, loss=0.64]\n",
            "                                                                                         \n",
            "Train:   6% 123/2000 [3:59:35<00:35, 52.68 step/s, accuracy=0.47, loss=2.54, step=242123]"
          ]
        },
        {
          "name": "stdout",
          "output_type": "stream",
          "text": [
            "Step 740000, best model saved. (accuracy=0.8792)\n"
          ]
        },
        {
          "name": "stderr",
          "output_type": "stream",
          "text": [
            "Train: 100% 2000/2000 [00:37<00:00, 53.84 step/s, accuracy=1.00, loss=0.02, step=742000]\n",
            "Valid: 100% 5664/5667 [00:01<00:00, 4713.79 uttr/s, accuracy=0.87, loss=0.64]\n",
            "Train: 100% 2000/2000 [00:37<00:00, 53.66 step/s, accuracy=1.00, loss=0.01, step=744000]\n",
            "Valid: 100% 5664/5667 [00:01<00:00, 4708.89 uttr/s, accuracy=0.88, loss=0.61]\n",
            "Train: 100% 2000/2000 [00:37<00:00, 53.90 step/s, accuracy=1.00, loss=0.00, step=746000]\n",
            "Valid: 100% 5664/5667 [00:01<00:00, 4704.70 uttr/s, accuracy=0.88, loss=0.66]\n",
            "Train: 100% 2000/2000 [00:37<00:00, 53.90 step/s, accuracy=1.00, loss=0.00, step=748000]\n",
            "Valid: 100% 5664/5667 [00:01<00:00, 4732.12 uttr/s, accuracy=0.88, loss=0.62]\n",
            "Train: 100% 2000/2000 [00:37<00:00, 53.84 step/s, accuracy=1.00, loss=0.00, step=750000]\n",
            "Valid: 100% 5664/5667 [00:01<00:00, 4718.48 uttr/s, accuracy=0.87, loss=0.64]\n",
            "                                                                                         \n",
            "Train:   6% 123/2000 [4:02:47<00:35, 52.68 step/s, accuracy=0.47, loss=2.54, step=242123]"
          ]
        },
        {
          "name": "stdout",
          "output_type": "stream",
          "text": [
            "Step 750000, best model saved. (accuracy=0.8835)\n"
          ]
        },
        {
          "name": "stderr",
          "output_type": "stream",
          "text": [
            "Train: 100% 2000/2000 [00:37<00:00, 53.59 step/s, accuracy=1.00, loss=0.00, step=752000]\n",
            "Valid: 100% 5664/5667 [00:01<00:00, 4688.71 uttr/s, accuracy=0.88, loss=0.63]\n",
            "Train: 100% 2000/2000 [00:37<00:00, 53.88 step/s, accuracy=1.00, loss=0.01, step=754000]\n",
            "Valid: 100% 5664/5667 [00:01<00:00, 4733.50 uttr/s, accuracy=0.88, loss=0.65]\n",
            "Train: 100% 2000/2000 [00:37<00:00, 53.87 step/s, accuracy=1.00, loss=0.00, step=756000]\n",
            "Valid: 100% 5664/5667 [00:01<00:00, 4666.46 uttr/s, accuracy=0.88, loss=0.63]\n",
            "Train: 100% 2000/2000 [00:37<00:00, 53.90 step/s, accuracy=0.97, loss=0.03, step=758000]\n",
            "Valid: 100% 5664/5667 [00:01<00:00, 4710.20 uttr/s, accuracy=0.87, loss=0.68]\n",
            "Train: 100% 2000/2000 [00:37<00:00, 53.67 step/s, accuracy=1.00, loss=0.00, step=760000]\n",
            "Valid: 100% 5664/5667 [00:01<00:00, 4662.26 uttr/s, accuracy=0.88, loss=0.63]\n",
            "                                                                                         \n",
            "Train:   6% 123/2000 [4:05:59<00:35, 52.68 step/s, accuracy=0.47, loss=2.54, step=242123]"
          ]
        },
        {
          "name": "stdout",
          "output_type": "stream",
          "text": [
            "Step 760000, best model saved. (accuracy=0.8835)\n"
          ]
        },
        {
          "name": "stderr",
          "output_type": "stream",
          "text": [
            "Train: 100% 2000/2000 [00:37<00:00, 53.88 step/s, accuracy=1.00, loss=0.00, step=762000]\n",
            "Valid: 100% 5664/5667 [00:01<00:00, 4702.76 uttr/s, accuracy=0.88, loss=0.64]\n",
            "Train: 100% 2000/2000 [00:37<00:00, 53.88 step/s, accuracy=1.00, loss=0.00, step=764000]\n",
            "Valid: 100% 5664/5667 [00:01<00:00, 4724.76 uttr/s, accuracy=0.89, loss=0.62]\n",
            "Train: 100% 2000/2000 [00:37<00:00, 53.87 step/s, accuracy=1.00, loss=0.00, step=766000]\n",
            "Valid: 100% 5664/5667 [00:01<00:00, 4710.37 uttr/s, accuracy=0.88, loss=0.62]\n",
            "Train: 100% 2000/2000 [00:37<00:00, 53.65 step/s, accuracy=1.00, loss=0.01, step=768000]\n",
            "Valid: 100% 5664/5667 [00:01<00:00, 4712.29 uttr/s, accuracy=0.88, loss=0.65]\n",
            "Train: 100% 2000/2000 [00:37<00:00, 53.92 step/s, accuracy=1.00, loss=0.00, step=770000]\n",
            "Valid: 100% 5664/5667 [00:01<00:00, 4708.30 uttr/s, accuracy=0.88, loss=0.65]\n",
            "                                                                                         \n",
            "Train:   6% 123/2000 [4:09:10<00:35, 52.68 step/s, accuracy=0.47, loss=2.54, step=242123]"
          ]
        },
        {
          "name": "stdout",
          "output_type": "stream",
          "text": [
            "Step 770000, best model saved. (accuracy=0.8851)\n"
          ]
        },
        {
          "name": "stderr",
          "output_type": "stream",
          "text": [
            "Train: 100% 2000/2000 [00:37<00:00, 53.83 step/s, accuracy=1.00, loss=0.00, step=772000]\n",
            "Valid: 100% 5664/5667 [00:01<00:00, 4655.34 uttr/s, accuracy=0.88, loss=0.65]\n",
            "Train: 100% 2000/2000 [00:37<00:00, 53.92 step/s, accuracy=0.97, loss=0.05, step=774000]\n",
            "Valid: 100% 5664/5667 [00:01<00:00, 4729.60 uttr/s, accuracy=0.88, loss=0.59]\n",
            "Train: 100% 2000/2000 [00:37<00:00, 53.68 step/s, accuracy=1.00, loss=0.01, step=776000]\n",
            "Valid: 100% 5664/5667 [00:01<00:00, 4691.45 uttr/s, accuracy=0.88, loss=0.64]\n",
            "Train: 100% 2000/2000 [00:37<00:00, 53.93 step/s, accuracy=1.00, loss=0.01, step=778000]\n",
            "Valid: 100% 5664/5667 [00:01<00:00, 4750.92 uttr/s, accuracy=0.88, loss=0.63]\n",
            "Train: 100% 2000/2000 [00:37<00:00, 53.92 step/s, accuracy=1.00, loss=0.00, step=780000]\n",
            "Valid: 100% 5664/5667 [00:01<00:00, 4722.77 uttr/s, accuracy=0.88, loss=0.62]\n",
            "                                                                                         \n",
            "Train:   6% 123/2000 [4:12:22<00:35, 52.68 step/s, accuracy=0.47, loss=2.54, step=242123]"
          ]
        },
        {
          "name": "stdout",
          "output_type": "stream",
          "text": [
            "Step 780000, best model saved. (accuracy=0.8851)\n"
          ]
        },
        {
          "name": "stderr",
          "output_type": "stream",
          "text": [
            "Train: 100% 2000/2000 [00:37<00:00, 53.82 step/s, accuracy=1.00, loss=0.01, step=782000]\n",
            "Valid: 100% 5664/5667 [00:01<00:00, 4699.19 uttr/s, accuracy=0.88, loss=0.63]\n",
            "Train: 100% 2000/2000 [00:37<00:00, 53.63 step/s, accuracy=1.00, loss=0.00, step=784000]\n",
            "Valid: 100% 5664/5667 [00:01<00:00, 4727.79 uttr/s, accuracy=0.88, loss=0.62]\n",
            "Train: 100% 2000/2000 [00:37<00:00, 53.91 step/s, accuracy=1.00, loss=0.00, step=786000]\n",
            "Valid: 100% 5664/5667 [00:01<00:00, 4717.22 uttr/s, accuracy=0.89, loss=0.64]\n",
            "Train: 100% 2000/2000 [00:37<00:00, 53.86 step/s, accuracy=1.00, loss=0.00, step=788000]\n",
            "Valid: 100% 5664/5667 [00:01<00:00, 4733.36 uttr/s, accuracy=0.88, loss=0.62]\n",
            "Train: 100% 2000/2000 [00:37<00:00, 53.89 step/s, accuracy=1.00, loss=0.00, step=790000]\n",
            "Valid: 100% 5664/5667 [00:01<00:00, 4705.63 uttr/s, accuracy=0.88, loss=0.68]\n",
            "                                                                                         \n",
            "Train:   6% 123/2000 [4:15:34<00:35, 52.68 step/s, accuracy=0.47, loss=2.54, step=242123]"
          ]
        },
        {
          "name": "stdout",
          "output_type": "stream",
          "text": [
            "Step 790000, best model saved. (accuracy=0.8858)\n"
          ]
        },
        {
          "name": "stderr",
          "output_type": "stream",
          "text": [
            "Train: 100% 2000/2000 [00:37<00:00, 53.57 step/s, accuracy=0.97, loss=0.04, step=792000]\n",
            "Valid: 100% 5664/5667 [00:01<00:00, 4714.69 uttr/s, accuracy=0.87, loss=0.69]\n",
            "Train: 100% 2000/2000 [00:37<00:00, 53.87 step/s, accuracy=1.00, loss=0.00, step=794000]\n",
            "Valid: 100% 5664/5667 [00:01<00:00, 4691.36 uttr/s, accuracy=0.89, loss=0.62]\n",
            "Train: 100% 2000/2000 [00:37<00:00, 53.90 step/s, accuracy=1.00, loss=0.00, step=796000]\n",
            "Valid: 100% 5664/5667 [00:01<00:00, 4747.64 uttr/s, accuracy=0.88, loss=0.63]\n",
            "Train: 100% 2000/2000 [00:37<00:00, 53.89 step/s, accuracy=1.00, loss=0.01, step=798000]\n",
            "Valid: 100% 5664/5667 [00:01<00:00, 4728.46 uttr/s, accuracy=0.88, loss=0.63]\n",
            "Train: 100% 2000/2000 [00:37<00:00, 53.57 step/s, accuracy=1.00, loss=0.00, step=8e+5]\n",
            "Valid: 100% 5664/5667 [00:01<00:00, 4687.21 uttr/s, accuracy=0.88, loss=0.64]\n",
            "                                                                                         \n",
            "Train:   6% 123/2000 [4:18:46<00:35, 52.68 step/s, accuracy=0.47, loss=2.54, step=242123]"
          ]
        },
        {
          "name": "stdout",
          "output_type": "stream",
          "text": [
            "Step 800000, best model saved. (accuracy=0.8858)\n"
          ]
        },
        {
          "name": "stderr",
          "output_type": "stream",
          "text": [
            "Train: 100% 2000/2000 [00:37<00:00, 53.84 step/s, accuracy=1.00, loss=0.00, step=802000]\n",
            "Valid: 100% 5664/5667 [00:01<00:00, 4734.07 uttr/s, accuracy=0.88, loss=0.63]\n",
            "Train: 100% 2000/2000 [00:37<00:00, 53.93 step/s, accuracy=1.00, loss=0.00, step=804000]\n",
            "Valid: 100% 5664/5667 [00:01<00:00, 4737.31 uttr/s, accuracy=0.88, loss=0.62]\n",
            "Train: 100% 2000/2000 [00:37<00:00, 53.92 step/s, accuracy=1.00, loss=0.00, step=806000]\n",
            "Valid: 100% 5664/5667 [00:01<00:00, 4664.79 uttr/s, accuracy=0.88, loss=0.62]\n",
            "Train: 100% 2000/2000 [00:37<00:00, 53.65 step/s, accuracy=1.00, loss=0.01, step=808000]\n",
            "Valid: 100% 5664/5667 [00:01<00:00, 4746.00 uttr/s, accuracy=0.88, loss=0.61]\n",
            "Train: 100% 2000/2000 [00:37<00:00, 53.91 step/s, accuracy=1.00, loss=0.00, step=810000]\n",
            "Valid: 100% 5664/5667 [00:01<00:00, 4735.44 uttr/s, accuracy=0.88, loss=0.66]\n",
            "                                                                                         \n",
            "Train:   6% 123/2000 [4:21:58<00:35, 52.68 step/s, accuracy=0.47, loss=2.54, step=242123]"
          ]
        },
        {
          "name": "stdout",
          "output_type": "stream",
          "text": [
            "Step 810000, best model saved. (accuracy=0.8858)\n"
          ]
        },
        {
          "name": "stderr",
          "output_type": "stream",
          "text": [
            "Train: 100% 2000/2000 [00:37<00:00, 53.84 step/s, accuracy=1.00, loss=0.02, step=812000]\n",
            "Valid: 100% 5664/5667 [00:01<00:00, 4722.88 uttr/s, accuracy=0.88, loss=0.63]\n",
            "Train: 100% 2000/2000 [00:37<00:00, 53.89 step/s, accuracy=1.00, loss=0.00, step=814000]\n",
            "Valid: 100% 5664/5667 [00:01<00:00, 4767.37 uttr/s, accuracy=0.89, loss=0.61]\n",
            "Train: 100% 2000/2000 [00:37<00:00, 53.66 step/s, accuracy=1.00, loss=0.00, step=816000]\n",
            "Valid: 100% 5664/5667 [00:01<00:00, 4711.21 uttr/s, accuracy=0.88, loss=0.62]\n",
            "Train: 100% 2000/2000 [00:37<00:00, 53.88 step/s, accuracy=1.00, loss=0.02, step=818000]\n",
            "Valid: 100% 5664/5667 [00:01<00:00, 4721.84 uttr/s, accuracy=0.88, loss=0.63]\n",
            "Train: 100% 2000/2000 [00:37<00:00, 53.88 step/s, accuracy=1.00, loss=0.00, step=820000]\n",
            "Valid: 100% 5664/5667 [00:01<00:00, 4741.56 uttr/s, accuracy=0.88, loss=0.62]\n",
            "                                                                                         \n",
            "Train:   6% 123/2000 [4:25:09<00:35, 52.68 step/s, accuracy=0.47, loss=2.54, step=242123]"
          ]
        },
        {
          "name": "stdout",
          "output_type": "stream",
          "text": [
            "Step 820000, best model saved. (accuracy=0.8858)\n"
          ]
        },
        {
          "name": "stderr",
          "output_type": "stream",
          "text": [
            "Train: 100% 2000/2000 [00:37<00:00, 53.60 step/s, accuracy=1.00, loss=0.00, step=822000]\n",
            "Valid: 100% 5664/5667 [00:01<00:00, 4740.11 uttr/s, accuracy=0.88, loss=0.60]\n",
            "Train: 100% 2000/2000 [00:37<00:00, 53.88 step/s, accuracy=1.00, loss=0.00, step=824000]\n",
            "Valid: 100% 5664/5667 [00:01<00:00, 4711.64 uttr/s, accuracy=0.89, loss=0.62]\n",
            "Train: 100% 2000/2000 [00:37<00:00, 53.91 step/s, accuracy=1.00, loss=0.00, step=826000]\n",
            "Valid: 100% 5664/5667 [00:01<00:00, 4738.23 uttr/s, accuracy=0.89, loss=0.61]\n",
            "Train: 100% 2000/2000 [00:37<00:00, 53.91 step/s, accuracy=1.00, loss=0.01, step=828000]\n",
            "Valid: 100% 5664/5667 [00:01<00:00, 4680.89 uttr/s, accuracy=0.88, loss=0.64]\n",
            "Train: 100% 2000/2000 [00:37<00:00, 53.64 step/s, accuracy=1.00, loss=0.00, step=830000]\n",
            "Valid: 100% 5664/5667 [00:01<00:00, 4709.04 uttr/s, accuracy=0.89, loss=0.61]\n",
            "                                                                                         \n",
            "Train:   6% 123/2000 [4:28:21<00:35, 52.68 step/s, accuracy=0.47, loss=2.54, step=242123]"
          ]
        },
        {
          "name": "stdout",
          "output_type": "stream",
          "text": [
            "Step 830000, best model saved. (accuracy=0.8898)\n"
          ]
        },
        {
          "name": "stderr",
          "output_type": "stream",
          "text": [
            "Train: 100% 2000/2000 [00:37<00:00, 53.84 step/s, accuracy=1.00, loss=0.00, step=832000]\n",
            "Valid: 100% 5664/5667 [00:01<00:00, 4741.80 uttr/s, accuracy=0.88, loss=0.65]\n",
            "Train: 100% 2000/2000 [00:37<00:00, 53.90 step/s, accuracy=1.00, loss=0.00, step=834000]\n",
            "Valid: 100% 5664/5667 [00:01<00:00, 4634.74 uttr/s, accuracy=0.88, loss=0.64]\n",
            "Train: 100% 2000/2000 [00:37<00:00, 53.86 step/s, accuracy=1.00, loss=0.00, step=836000]\n",
            "Valid: 100% 5664/5667 [00:01<00:00, 4707.05 uttr/s, accuracy=0.89, loss=0.62]\n",
            "Train: 100% 2000/2000 [00:37<00:00, 53.66 step/s, accuracy=1.00, loss=0.00, step=838000]\n",
            "Valid: 100% 5664/5667 [00:01<00:00, 4721.94 uttr/s, accuracy=0.89, loss=0.62]\n",
            "Train: 100% 2000/2000 [00:37<00:00, 53.91 step/s, accuracy=1.00, loss=0.00, step=840000]\n",
            "Valid: 100% 5664/5667 [00:01<00:00, 4729.70 uttr/s, accuracy=0.89, loss=0.64]\n",
            "                                                                                         \n",
            "Train:   6% 123/2000 [4:31:33<00:35, 52.68 step/s, accuracy=0.47, loss=2.54, step=242123]"
          ]
        },
        {
          "name": "stdout",
          "output_type": "stream",
          "text": [
            "Step 840000, best model saved. (accuracy=0.8898)\n"
          ]
        },
        {
          "name": "stderr",
          "output_type": "stream",
          "text": [
            "Train: 100% 2000/2000 [00:37<00:00, 53.83 step/s, accuracy=1.00, loss=0.00, step=842000]\n",
            "Valid: 100% 5664/5667 [00:01<00:00, 4750.65 uttr/s, accuracy=0.89, loss=0.63]\n",
            "Train: 100% 2000/2000 [00:37<00:00, 53.84 step/s, accuracy=1.00, loss=0.00, step=844000]\n",
            "Valid: 100% 5664/5667 [00:01<00:00, 4711.85 uttr/s, accuracy=0.88, loss=0.66]\n",
            "Train: 100% 2000/2000 [00:37<00:00, 53.68 step/s, accuracy=1.00, loss=0.00, step=846000]\n",
            "Valid: 100% 5664/5667 [00:01<00:00, 4728.80 uttr/s, accuracy=0.89, loss=0.62]\n",
            "Train: 100% 2000/2000 [00:37<00:00, 53.91 step/s, accuracy=1.00, loss=0.00, step=848000]\n",
            "Valid: 100% 5664/5667 [00:01<00:00, 4714.23 uttr/s, accuracy=0.89, loss=0.59]\n",
            "Train: 100% 2000/2000 [00:37<00:00, 53.91 step/s, accuracy=1.00, loss=0.01, step=850000]\n",
            "Valid: 100% 5664/5667 [00:01<00:00, 4716.58 uttr/s, accuracy=0.88, loss=0.64]\n",
            "                                                                                         \n",
            "Train:   6% 123/2000 [4:34:45<00:35, 52.68 step/s, accuracy=0.47, loss=2.54, step=242123]"
          ]
        },
        {
          "name": "stdout",
          "output_type": "stream",
          "text": [
            "Step 850000, best model saved. (accuracy=0.8939)\n"
          ]
        },
        {
          "name": "stderr",
          "output_type": "stream",
          "text": [
            "Train: 100% 2000/2000 [00:37<00:00, 53.80 step/s, accuracy=1.00, loss=0.00, step=852000]\n",
            "Valid: 100% 5664/5667 [00:01<00:00, 4684.60 uttr/s, accuracy=0.89, loss=0.62]\n",
            "Train: 100% 2000/2000 [00:37<00:00, 53.56 step/s, accuracy=1.00, loss=0.00, step=854000]\n",
            "Valid: 100% 5664/5667 [00:01<00:00, 4735.39 uttr/s, accuracy=0.88, loss=0.60]\n",
            "Train: 100% 2000/2000 [00:37<00:00, 53.90 step/s, accuracy=1.00, loss=0.00, step=856000]\n",
            "Valid: 100% 5664/5667 [00:01<00:00, 4740.03 uttr/s, accuracy=0.89, loss=0.61]\n",
            "Train: 100% 2000/2000 [00:37<00:00, 53.90 step/s, accuracy=1.00, loss=0.00, step=858000]\n",
            "Valid: 100% 5664/5667 [00:01<00:00, 4732.72 uttr/s, accuracy=0.89, loss=0.62]\n",
            "Train: 100% 2000/2000 [00:37<00:00, 53.89 step/s, accuracy=1.00, loss=0.00, step=860000]\n",
            "Valid: 100% 5664/5667 [00:01<00:00, 4657.31 uttr/s, accuracy=0.88, loss=0.62]\n",
            "                                                                                         \n",
            "Train:   6% 123/2000 [4:37:57<00:35, 52.68 step/s, accuracy=0.47, loss=2.54, step=242123]"
          ]
        },
        {
          "name": "stdout",
          "output_type": "stream",
          "text": [
            "Step 860000, best model saved. (accuracy=0.8939)\n"
          ]
        },
        {
          "name": "stderr",
          "output_type": "stream",
          "text": [
            "Train: 100% 2000/2000 [00:37<00:00, 53.59 step/s, accuracy=1.00, loss=0.00, step=862000]\n",
            "Valid: 100% 5664/5667 [00:01<00:00, 4749.13 uttr/s, accuracy=0.89, loss=0.60]\n",
            "Train: 100% 2000/2000 [00:37<00:00, 53.92 step/s, accuracy=1.00, loss=0.00, step=864000]\n",
            "Valid: 100% 5664/5667 [00:01<00:00, 4717.76 uttr/s, accuracy=0.89, loss=0.60]\n",
            "Train: 100% 2000/2000 [00:37<00:00, 53.92 step/s, accuracy=0.97, loss=0.03, step=866000]\n",
            "Valid: 100% 5664/5667 [00:01<00:00, 4718.37 uttr/s, accuracy=0.89, loss=0.61]\n",
            "Train: 100% 2000/2000 [00:37<00:00, 53.91 step/s, accuracy=1.00, loss=0.00, step=868000]\n",
            "Valid: 100% 5664/5667 [00:01<00:00, 4659.17 uttr/s, accuracy=0.89, loss=0.61]\n",
            "Train: 100% 2000/2000 [00:37<00:00, 53.64 step/s, accuracy=1.00, loss=0.00, step=870000]\n",
            "Valid: 100% 5664/5667 [00:01<00:00, 4716.86 uttr/s, accuracy=0.89, loss=0.62]\n",
            "                                                                                         \n",
            "Train:   6% 123/2000 [4:41:09<00:35, 52.68 step/s, accuracy=0.47, loss=2.54, step=242123]"
          ]
        },
        {
          "name": "stdout",
          "output_type": "stream",
          "text": [
            "Step 870000, best model saved. (accuracy=0.8939)\n"
          ]
        },
        {
          "name": "stderr",
          "output_type": "stream",
          "text": [
            "Train: 100% 2000/2000 [00:37<00:00, 53.90 step/s, accuracy=1.00, loss=0.00, step=872000]\n",
            "Valid: 100% 5664/5667 [00:01<00:00, 4727.02 uttr/s, accuracy=0.89, loss=0.62]\n",
            "Train: 100% 2000/2000 [00:37<00:00, 53.90 step/s, accuracy=1.00, loss=0.00, step=874000]\n",
            "Valid: 100% 5664/5667 [00:01<00:00, 4682.50 uttr/s, accuracy=0.88, loss=0.64]\n",
            "Train: 100% 2000/2000 [00:37<00:00, 53.86 step/s, accuracy=1.00, loss=0.00, step=876000]\n",
            "Valid: 100% 5664/5667 [00:01<00:00, 4704.54 uttr/s, accuracy=0.89, loss=0.62]\n",
            "Train: 100% 2000/2000 [00:37<00:00, 53.69 step/s, accuracy=1.00, loss=0.00, step=878000]\n",
            "Valid: 100% 5664/5667 [00:01<00:00, 4665.79 uttr/s, accuracy=0.89, loss=0.62]\n",
            "Train: 100% 2000/2000 [00:37<00:00, 53.92 step/s, accuracy=1.00, loss=0.00, step=880000]\n",
            "Valid: 100% 5664/5667 [00:01<00:00, 4710.73 uttr/s, accuracy=0.89, loss=0.63]\n",
            "                                                                                         \n",
            "Train:   6% 123/2000 [4:44:20<00:35, 52.68 step/s, accuracy=0.47, loss=2.54, step=242123]"
          ]
        },
        {
          "name": "stdout",
          "output_type": "stream",
          "text": [
            "Step 880000, best model saved. (accuracy=0.8939)\n"
          ]
        },
        {
          "name": "stderr",
          "output_type": "stream",
          "text": [
            "Train: 100% 2000/2000 [00:37<00:00, 53.87 step/s, accuracy=1.00, loss=0.01, step=882000]\n",
            "Valid: 100% 5664/5667 [00:01<00:00, 4731.44 uttr/s, accuracy=0.89, loss=0.64]\n",
            "Train: 100% 2000/2000 [00:37<00:00, 53.92 step/s, accuracy=0.97, loss=0.03, step=884000]\n",
            "Valid: 100% 5664/5667 [00:01<00:00, 4753.74 uttr/s, accuracy=0.89, loss=0.62]\n",
            "Train: 100% 2000/2000 [00:37<00:00, 53.69 step/s, accuracy=1.00, loss=0.00, step=886000]\n",
            "Valid: 100% 5664/5667 [00:01<00:00, 4642.46 uttr/s, accuracy=0.89, loss=0.62]\n",
            "Train: 100% 2000/2000 [00:37<00:00, 53.93 step/s, accuracy=1.00, loss=0.00, step=888000]\n",
            "Valid: 100% 5664/5667 [00:01<00:00, 4733.78 uttr/s, accuracy=0.89, loss=0.59]\n",
            "Train: 100% 2000/2000 [00:37<00:00, 53.91 step/s, accuracy=1.00, loss=0.00, step=890000]\n",
            "Valid: 100% 5664/5667 [00:01<00:00, 4709.73 uttr/s, accuracy=0.89, loss=0.61]\n",
            "                                                                                         \n",
            "Train:   6% 123/2000 [4:47:32<00:35, 52.68 step/s, accuracy=0.47, loss=2.54, step=242123]"
          ]
        },
        {
          "name": "stdout",
          "output_type": "stream",
          "text": [
            "Step 890000, best model saved. (accuracy=0.8939)\n"
          ]
        },
        {
          "name": "stderr",
          "output_type": "stream",
          "text": [
            "Train: 100% 2000/2000 [00:37<00:00, 53.80 step/s, accuracy=1.00, loss=0.00, step=892000]\n",
            "Valid: 100% 5664/5667 [00:01<00:00, 4720.75 uttr/s, accuracy=0.90, loss=0.61]\n",
            "Train: 100% 2000/2000 [00:37<00:00, 53.64 step/s, accuracy=0.97, loss=0.03, step=894000]\n",
            "Valid: 100% 5664/5667 [00:01<00:00, 4702.39 uttr/s, accuracy=0.88, loss=0.62]\n",
            "Train: 100% 2000/2000 [00:37<00:00, 53.88 step/s, accuracy=1.00, loss=0.00, step=896000]\n",
            "Valid: 100% 5664/5667 [00:01<00:00, 4704.51 uttr/s, accuracy=0.89, loss=0.62]\n",
            "Train: 100% 2000/2000 [00:37<00:00, 53.90 step/s, accuracy=1.00, loss=0.00, step=898000]\n",
            "Valid: 100% 5664/5667 [00:01<00:00, 4723.40 uttr/s, accuracy=0.89, loss=0.63]\n",
            "Train: 100% 2000/2000 [00:37<00:00, 53.94 step/s, accuracy=1.00, loss=0.00, step=9e+5]\n",
            "Valid: 100% 5664/5667 [00:01<00:00, 4718.13 uttr/s, accuracy=0.89, loss=0.63]\n",
            "                                                                                         \n",
            "Train:   6% 123/2000 [4:50:44<00:35, 52.68 step/s, accuracy=0.47, loss=2.54, step=242123]"
          ]
        },
        {
          "name": "stdout",
          "output_type": "stream",
          "text": [
            "Step 900000, best model saved. (accuracy=0.8953)\n"
          ]
        },
        {
          "name": "stderr",
          "output_type": "stream",
          "text": [
            "Train: 100% 2000/2000 [00:37<00:00, 53.61 step/s, accuracy=1.00, loss=0.00, step=902000]\n",
            "Valid: 100% 5664/5667 [00:01<00:00, 4755.05 uttr/s, accuracy=0.88, loss=0.64]\n",
            "Train: 100% 2000/2000 [00:37<00:00, 53.91 step/s, accuracy=1.00, loss=0.00, step=904000]\n",
            "Valid: 100% 5664/5667 [00:01<00:00, 4732.66 uttr/s, accuracy=0.90, loss=0.60]\n",
            "Train: 100% 2000/2000 [00:37<00:00, 53.91 step/s, accuracy=1.00, loss=0.00, step=906000]\n",
            "Valid: 100% 5664/5667 [00:01<00:00, 4600.11 uttr/s, accuracy=0.89, loss=0.62]\n",
            "Train: 100% 2000/2000 [00:37<00:00, 53.86 step/s, accuracy=1.00, loss=0.00, step=908000]\n",
            "Valid: 100% 5664/5667 [00:01<00:00, 4694.34 uttr/s, accuracy=0.89, loss=0.63]\n",
            "Train: 100% 2000/2000 [00:37<00:00, 53.67 step/s, accuracy=1.00, loss=0.00, step=910000]\n",
            "Valid: 100% 5664/5667 [00:01<00:00, 4727.47 uttr/s, accuracy=0.89, loss=0.63]\n",
            "                                                                                         \n",
            "Train:   6% 123/2000 [4:53:56<00:35, 52.68 step/s, accuracy=0.47, loss=2.54, step=242123]"
          ]
        },
        {
          "name": "stdout",
          "output_type": "stream",
          "text": [
            "Step 910000, best model saved. (accuracy=0.8953)\n"
          ]
        },
        {
          "name": "stderr",
          "output_type": "stream",
          "text": [
            "Train: 100% 2000/2000 [00:37<00:00, 53.84 step/s, accuracy=1.00, loss=0.00, step=912000]\n",
            "Valid: 100% 5664/5667 [00:01<00:00, 4646.32 uttr/s, accuracy=0.89, loss=0.62]\n",
            "Train: 100% 2000/2000 [00:37<00:00, 53.92 step/s, accuracy=1.00, loss=0.00, step=914000]\n",
            "Valid: 100% 5664/5667 [00:01<00:00, 4650.08 uttr/s, accuracy=0.89, loss=0.61]\n",
            "Train: 100% 2000/2000 [00:37<00:00, 53.68 step/s, accuracy=1.00, loss=0.00, step=916000]\n",
            "Valid: 100% 5664/5667 [00:01<00:00, 4689.42 uttr/s, accuracy=0.89, loss=0.61]\n",
            "Train: 100% 2000/2000 [00:37<00:00, 53.88 step/s, accuracy=1.00, loss=0.03, step=918000]\n",
            "Valid: 100% 5664/5667 [00:01<00:00, 4720.76 uttr/s, accuracy=0.89, loss=0.63]\n",
            "Train: 100% 2000/2000 [00:37<00:00, 53.91 step/s, accuracy=1.00, loss=0.00, step=920000]\n",
            "Valid: 100% 5664/5667 [00:01<00:00, 4686.25 uttr/s, accuracy=0.89, loss=0.60]\n",
            "                                                                                         \n",
            "Train:   6% 123/2000 [4:57:07<00:35, 52.68 step/s, accuracy=0.47, loss=2.54, step=242123]"
          ]
        },
        {
          "name": "stdout",
          "output_type": "stream",
          "text": [
            "Step 920000, best model saved. (accuracy=0.8953)\n"
          ]
        },
        {
          "name": "stderr",
          "output_type": "stream",
          "text": [
            "Train: 100% 2000/2000 [00:37<00:00, 53.86 step/s, accuracy=1.00, loss=0.00, step=922000]\n",
            "Valid: 100% 5664/5667 [00:01<00:00, 4711.38 uttr/s, accuracy=0.89, loss=0.60]\n",
            "Train: 100% 2000/2000 [00:37<00:00, 53.64 step/s, accuracy=1.00, loss=0.00, step=924000]\n",
            "Valid: 100% 5664/5667 [00:01<00:00, 4737.35 uttr/s, accuracy=0.89, loss=0.62]\n",
            "Train: 100% 2000/2000 [00:37<00:00, 53.92 step/s, accuracy=1.00, loss=0.00, step=926000]\n",
            "Valid: 100% 5664/5667 [00:01<00:00, 4723.56 uttr/s, accuracy=0.89, loss=0.61]\n",
            "Train: 100% 2000/2000 [00:37<00:00, 53.91 step/s, accuracy=1.00, loss=0.00, step=928000]\n",
            "Valid: 100% 5664/5667 [00:01<00:00, 4742.38 uttr/s, accuracy=0.89, loss=0.62]\n",
            "Train: 100% 2000/2000 [00:37<00:00, 53.92 step/s, accuracy=1.00, loss=0.00, step=930000]\n",
            "Valid: 100% 5664/5667 [00:01<00:00, 4756.18 uttr/s, accuracy=0.90, loss=0.59]\n",
            "                                                                                         \n",
            "Train:   6% 123/2000 [5:00:19<00:35, 52.68 step/s, accuracy=0.47, loss=2.54, step=242123]"
          ]
        },
        {
          "name": "stdout",
          "output_type": "stream",
          "text": [
            "Step 930000, best model saved. (accuracy=0.8988)\n"
          ]
        },
        {
          "name": "stderr",
          "output_type": "stream",
          "text": [
            "Train: 100% 2000/2000 [00:37<00:00, 53.62 step/s, accuracy=1.00, loss=0.00, step=932000]\n",
            "Valid: 100% 5664/5667 [00:01<00:00, 4753.79 uttr/s, accuracy=0.89, loss=0.63]\n",
            "Train: 100% 2000/2000 [00:37<00:00, 53.90 step/s, accuracy=1.00, loss=0.00, step=934000]\n",
            "Valid: 100% 5664/5667 [00:01<00:00, 4667.65 uttr/s, accuracy=0.90, loss=0.58]\n",
            "Train: 100% 2000/2000 [00:37<00:00, 53.89 step/s, accuracy=1.00, loss=0.00, step=936000]\n",
            "Valid: 100% 5664/5667 [00:01<00:00, 4697.70 uttr/s, accuracy=0.89, loss=0.63]\n",
            "Train: 100% 2000/2000 [00:37<00:00, 53.91 step/s, accuracy=1.00, loss=0.00, step=938000]\n",
            "Valid: 100% 5664/5667 [00:01<00:00, 4736.90 uttr/s, accuracy=0.89, loss=0.61]\n",
            "Train: 100% 2000/2000 [00:37<00:00, 53.66 step/s, accuracy=1.00, loss=0.00, step=940000]\n",
            "Valid: 100% 5664/5667 [00:01<00:00, 4737.79 uttr/s, accuracy=0.89, loss=0.61]\n",
            "                                                                                         \n",
            "Train:   6% 123/2000 [5:03:31<00:35, 52.68 step/s, accuracy=0.47, loss=2.54, step=242123]"
          ]
        },
        {
          "name": "stdout",
          "output_type": "stream",
          "text": [
            "Step 940000, best model saved. (accuracy=0.8988)\n"
          ]
        },
        {
          "name": "stderr",
          "output_type": "stream",
          "text": [
            "Train: 100% 2000/2000 [00:37<00:00, 53.85 step/s, accuracy=1.00, loss=0.00, step=942000]\n",
            "Valid: 100% 5664/5667 [00:01<00:00, 4747.72 uttr/s, accuracy=0.90, loss=0.60]\n",
            "Train: 100% 2000/2000 [00:37<00:00, 53.89 step/s, accuracy=1.00, loss=0.00, step=944000]\n",
            "Valid: 100% 5664/5667 [00:01<00:00, 4745.31 uttr/s, accuracy=0.89, loss=0.61]\n",
            "Train: 100% 2000/2000 [00:37<00:00, 53.89 step/s, accuracy=1.00, loss=0.00, step=946000]\n",
            "Valid: 100% 5664/5667 [00:01<00:00, 4671.87 uttr/s, accuracy=0.89, loss=0.60]\n",
            "Train: 100% 2000/2000 [00:37<00:00, 53.65 step/s, accuracy=1.00, loss=0.00, step=948000]\n",
            "Valid: 100% 5664/5667 [00:01<00:00, 4733.83 uttr/s, accuracy=0.89, loss=0.62]\n",
            "Train: 100% 2000/2000 [00:37<00:00, 53.90 step/s, accuracy=1.00, loss=0.00, step=950000]\n",
            "Valid: 100% 5664/5667 [00:01<00:00, 4712.00 uttr/s, accuracy=0.89, loss=0.62]\n",
            "                                                                                         \n",
            "Train:   6% 123/2000 [5:06:43<00:35, 52.68 step/s, accuracy=0.47, loss=2.54, step=242123]"
          ]
        },
        {
          "name": "stdout",
          "output_type": "stream",
          "text": [
            "Step 950000, best model saved. (accuracy=0.8988)\n"
          ]
        },
        {
          "name": "stderr",
          "output_type": "stream",
          "text": [
            "Train: 100% 2000/2000 [00:37<00:00, 53.84 step/s, accuracy=1.00, loss=0.00, step=952000]\n",
            "Valid: 100% 5664/5667 [00:01<00:00, 4715.52 uttr/s, accuracy=0.89, loss=0.61]\n",
            "Train: 100% 2000/2000 [00:37<00:00, 53.88 step/s, accuracy=1.00, loss=0.00, step=954000]\n",
            "Valid: 100% 5664/5667 [00:01<00:00, 4741.25 uttr/s, accuracy=0.89, loss=0.63]\n",
            "Train: 100% 2000/2000 [00:37<00:00, 53.69 step/s, accuracy=1.00, loss=0.00, step=956000]\n",
            "Valid: 100% 5664/5667 [00:01<00:00, 4736.04 uttr/s, accuracy=0.89, loss=0.62]\n",
            "Train: 100% 2000/2000 [00:37<00:00, 53.88 step/s, accuracy=1.00, loss=0.00, step=958000]\n",
            "Valid: 100% 5664/5667 [00:01<00:00, 4743.02 uttr/s, accuracy=0.89, loss=0.61]\n",
            "Train: 100% 2000/2000 [00:37<00:00, 53.84 step/s, accuracy=1.00, loss=0.00, step=960000]\n",
            "Valid: 100% 5664/5667 [00:01<00:00, 4746.97 uttr/s, accuracy=0.89, loss=0.61]\n",
            "                                                                                         \n",
            "Train:   6% 123/2000 [5:09:55<00:35, 52.68 step/s, accuracy=0.47, loss=2.54, step=242123]"
          ]
        },
        {
          "name": "stdout",
          "output_type": "stream",
          "text": [
            "Step 960000, best model saved. (accuracy=0.8988)\n"
          ]
        },
        {
          "name": "stderr",
          "output_type": "stream",
          "text": [
            "Train: 100% 2000/2000 [00:37<00:00, 53.82 step/s, accuracy=1.00, loss=0.00, step=962000]\n",
            "Valid: 100% 5664/5667 [00:01<00:00, 4667.78 uttr/s, accuracy=0.89, loss=0.61]\n",
            "Train: 100% 2000/2000 [00:37<00:00, 53.66 step/s, accuracy=1.00, loss=0.04, step=964000]\n",
            "Valid: 100% 5664/5667 [00:01<00:00, 4657.03 uttr/s, accuracy=0.89, loss=0.60]\n",
            "Train: 100% 2000/2000 [00:37<00:00, 53.91 step/s, accuracy=1.00, loss=0.00, step=966000]\n",
            "Valid: 100% 5664/5667 [00:01<00:00, 4727.27 uttr/s, accuracy=0.89, loss=0.62]\n",
            "Train: 100% 2000/2000 [00:37<00:00, 53.92 step/s, accuracy=1.00, loss=0.00, step=968000]\n",
            "Valid: 100% 5664/5667 [00:01<00:00, 4740.53 uttr/s, accuracy=0.89, loss=0.61]\n",
            "Train: 100% 2000/2000 [00:37<00:00, 53.89 step/s, accuracy=1.00, loss=0.00, step=970000]\n",
            "Valid: 100% 5664/5667 [00:01<00:00, 4737.75 uttr/s, accuracy=0.89, loss=0.62]\n",
            "                                                                                         \n",
            "Train:   6% 123/2000 [5:13:06<00:35, 52.68 step/s, accuracy=0.47, loss=2.54, step=242123]"
          ]
        },
        {
          "name": "stdout",
          "output_type": "stream",
          "text": [
            "Step 970000, best model saved. (accuracy=0.8988)\n"
          ]
        },
        {
          "name": "stderr",
          "output_type": "stream",
          "text": [
            "Train: 100% 2000/2000 [00:37<00:00, 53.62 step/s, accuracy=1.00, loss=0.00, step=972000]\n",
            "Valid: 100% 5664/5667 [00:01<00:00, 4711.49 uttr/s, accuracy=0.89, loss=0.62]\n",
            "Train: 100% 2000/2000 [00:37<00:00, 53.88 step/s, accuracy=1.00, loss=0.00, step=974000]\n",
            "Valid: 100% 5664/5667 [00:01<00:00, 4610.94 uttr/s, accuracy=0.90, loss=0.59]\n",
            "Train: 100% 2000/2000 [00:37<00:00, 53.89 step/s, accuracy=1.00, loss=0.00, step=976000]\n",
            "Valid: 100% 5664/5667 [00:01<00:00, 4737.65 uttr/s, accuracy=0.89, loss=0.60]\n",
            "Train: 100% 2000/2000 [00:37<00:00, 53.58 step/s, accuracy=1.00, loss=0.00, step=978000]\n",
            "Valid: 100% 5664/5667 [00:01<00:00, 4561.08 uttr/s, accuracy=0.89, loss=0.61]\n",
            "Train: 100% 2000/2000 [00:38<00:00, 52.53 step/s, accuracy=1.00, loss=0.00, step=980000]\n",
            "Valid: 100% 5664/5667 [00:01<00:00, 3667.12 uttr/s, accuracy=0.90, loss=0.61]\n",
            "                                                                                         \n",
            "Train:   6% 123/2000 [5:16:20<00:35, 52.68 step/s, accuracy=0.47, loss=2.54, step=242123]"
          ]
        },
        {
          "name": "stdout",
          "output_type": "stream",
          "text": [
            "Step 980000, best model saved. (accuracy=0.8988)\n"
          ]
        },
        {
          "name": "stderr",
          "output_type": "stream",
          "text": [
            "Train: 100% 2000/2000 [00:37<00:00, 53.74 step/s, accuracy=1.00, loss=0.00, step=982000]\n",
            "Valid: 100% 5664/5667 [00:01<00:00, 4630.91 uttr/s, accuracy=0.90, loss=0.60]\n",
            "Train: 100% 2000/2000 [00:59<00:00, 33.54 step/s, accuracy=1.00, loss=0.00, step=984000]\n",
            "Valid: 100% 5664/5667 [00:02<00:00, 2065.58 uttr/s, accuracy=0.89, loss=0.61]\n",
            "Train: 100% 2000/2000 [01:27<00:00, 22.81 step/s, accuracy=1.00, loss=0.00, step=986000]\n",
            "Valid: 100% 5664/5667 [00:02<00:00, 2053.74 uttr/s, accuracy=0.89, loss=0.61]\n",
            "Train: 100% 2000/2000 [01:27<00:00, 22.77 step/s, accuracy=1.00, loss=0.00, step=988000]\n",
            "Valid: 100% 5664/5667 [00:02<00:00, 2058.60 uttr/s, accuracy=0.90, loss=0.59]\n",
            "Train: 100% 2000/2000 [01:27<00:00, 22.80 step/s, accuracy=1.00, loss=0.00, step=990000]\n",
            "Valid: 100% 5664/5667 [00:02<00:00, 2069.29 uttr/s, accuracy=0.89, loss=0.63]\n",
            "                                                                                         \n",
            "Train:   6% 123/2000 [5:22:32<00:35, 52.68 step/s, accuracy=0.47, loss=2.54, step=242123]"
          ]
        },
        {
          "name": "stdout",
          "output_type": "stream",
          "text": [
            "Step 990000, best model saved. (accuracy=0.8988)\n"
          ]
        },
        {
          "name": "stderr",
          "output_type": "stream",
          "text": [
            "Train: 100% 2000/2000 [01:27<00:00, 22.82 step/s, accuracy=1.00, loss=0.00, step=992000]\n",
            "Valid: 100% 5664/5667 [00:02<00:00, 2061.79 uttr/s, accuracy=0.90, loss=0.60]\n",
            "Train: 100% 2000/2000 [01:27<00:00, 22.82 step/s, accuracy=1.00, loss=0.00, step=994000]\n",
            "Valid: 100% 5664/5667 [00:02<00:00, 2062.94 uttr/s, accuracy=0.89, loss=0.63]\n",
            "Train: 100% 2000/2000 [01:27<00:00, 22.78 step/s, accuracy=1.00, loss=0.00, step=996000]\n",
            "Valid: 100% 5664/5667 [00:02<00:00, 2061.52 uttr/s, accuracy=0.89, loss=0.64]\n",
            "Train: 100% 2000/2000 [01:27<00:00, 22.82 step/s, accuracy=1.00, loss=0.00, step=998000]\n",
            "Valid: 100% 5664/5667 [00:02<00:00, 2058.87 uttr/s, accuracy=0.89, loss=0.63]\n",
            "Train: 100% 2000/2000 [01:27<00:00, 22.82 step/s, accuracy=1.00, loss=0.00, step=1e+6]\n",
            "Valid: 100% 5664/5667 [00:02<00:00, 2066.32 uttr/s, accuracy=0.89, loss=0.61]\n",
            "                                                                                         \n",
            "Train:   0% 0/2000 [00:00<?, ? step/s]2.68 step/s, accuracy=0.47, loss=2.54, step=242123]\n"
          ]
        },
        {
          "name": "stdout",
          "output_type": "stream",
          "text": [
            "Step 1000000, best model saved. (accuracy=0.8988)\n"
          ]
        }
      ],
      "source": [
        "from tqdm import tqdm\n",
        "\n",
        "import torch\n",
        "import torch.nn as nn\n",
        "from torch.optim import AdamW\n",
        "from torch.utils.data import DataLoader, random_split\n",
        "from torchaudio.models import Conformer\n",
        "\n",
        "def parse_args():\n",
        "\t\"\"\"arguments\"\"\"\n",
        "\tconfig = {\n",
        "\t\t\"data_dir\": \"./Dataset\",\n",
        "\t\t\"save_path\": \"model.ckpt\",\n",
        "\t\t\"batch_size\": 32,\n",
        "\t\t\"n_workers\": 8,\n",
        "\t\t\"valid_steps\": 2000,\n",
        "\t\t\"warmup_steps\": 1000,\n",
        "\t\t\"save_steps\": 10000,\n",
        "\t\t\"total_steps\": 1000000,\n",
        "\t}\n",
        "\n",
        "\treturn config\n",
        "\n",
        "\n",
        "def main(\n",
        "\tdata_dir,\n",
        "\tsave_path,\n",
        "\tbatch_size,\n",
        "\tn_workers,\n",
        "\tvalid_steps,\n",
        "\twarmup_steps,\n",
        "\ttotal_steps,\n",
        "\tsave_steps,\n",
        "):\n",
        "\t\"\"\"Main function.\"\"\"\n",
        "\tdevice = torch.device(\"cuda\" if torch.cuda.is_available() else \"cpu\")\n",
        "\tprint(f\"[Info]: Use {device} now!\")\n",
        "\n",
        "\ttrain_loader, valid_loader, speaker_num = get_dataloader(data_dir, batch_size, n_workers)\n",
        "\t# print(speaker_num)\n",
        "\ttrain_iterator = iter(train_loader)\n",
        "\tprint(f\"[Info]: Finish loading data!\",flush = True)\n",
        "\n",
        "\t# input size : (128, 32, 40)\n",
        "\tmodel = Classifier(n_spks=speaker_num).to(device)\n",
        "\tcriterion = nn.CrossEntropyLoss()\n",
        "\toptimizer = AdamW(model.parameters(), lr=1e-3)\n",
        "\tscheduler = get_cosine_schedule_with_warmup(optimizer, warmup_steps, total_steps)\n",
        "\tprint(f\"[Info]: Finish creating model!\",flush = True)\n",
        "\n",
        "\tbest_accuracy = -1.0\n",
        "\tbest_state_dict = None\n",
        "\n",
        "\tpbar = tqdm(total=valid_steps, ncols=0, desc=\"Train\", unit=\" step\")\n",
        "\n",
        "\tfor step in range(total_steps):\n",
        "\t\t# Get data\n",
        "\t\ttry:\n",
        "\t\t\tbatch = next(train_iterator)\n",
        "\t\texcept StopIteration:\n",
        "\t\t\ttrain_iterator = iter(train_loader)\n",
        "\t\t\tbatch = next(train_iterator)\n",
        "\n",
        "\t\tloss, accuracy = model_fn(batch, model, criterion, device)\n",
        "\t\tbatch_loss = loss.item()\n",
        "\t\tbatch_accuracy = accuracy.item()\n",
        "\n",
        "\t\t# Updata model\n",
        "\t\tloss.backward()\n",
        "\t\toptimizer.step()\n",
        "\t\tscheduler.step()\n",
        "\t\toptimizer.zero_grad()\n",
        "\n",
        "\t\t# Log\n",
        "\t\tpbar.update()\n",
        "\t\tpbar.set_postfix(\n",
        "\t\t\tloss=f\"{batch_loss:.2f}\",\n",
        "\t\t\taccuracy=f\"{batch_accuracy:.2f}\",\n",
        "\t\t\tstep=step + 1,\n",
        "\t\t)\n",
        "\n",
        "\t\t# Do validation\n",
        "\t\tif (step + 1) % valid_steps == 0:\n",
        "\t\t\tpbar.close()\n",
        "\n",
        "\t\t\tvalid_accuracy = valid(valid_loader, model, criterion, device)\n",
        "\n",
        "\t\t\t# keep the best model\n",
        "\t\t\tif valid_accuracy > best_accuracy:\n",
        "\t\t\t\tbest_accuracy = valid_accuracy\n",
        "\t\t\t\tbest_state_dict = model.state_dict()\n",
        "\n",
        "\t\t\tpbar = tqdm(total=valid_steps, ncols=0, desc=\"Train\", unit=\" step\")\n",
        "\n",
        "\t\t# Save the best model so far.\n",
        "\t\tif (step + 1) % save_steps == 0 and best_state_dict is not None:\n",
        "\t\t\ttorch.save(best_state_dict, save_path)\n",
        "\t\t\tpbar.write(f\"Step {step + 1}, best model saved. (accuracy={best_accuracy:.4f})\")\n",
        "\n",
        "\tpbar.close()\n",
        "\n",
        "\n",
        "if __name__ == \"__main__\":\n",
        "\tmain(**parse_args())"
      ]
    },
    {
      "cell_type": "markdown",
      "metadata": {
        "id": "NLatBYAhNNMx"
      },
      "source": [
        "# Inference\n",
        "\n",
        "## Dataset of inference"
      ]
    },
    {
      "cell_type": "code",
      "execution_count": 18,
      "metadata": {
        "id": "efS4pCmAJXJH"
      },
      "outputs": [],
      "source": [
        "import os\n",
        "import json\n",
        "import torch\n",
        "from pathlib import Path\n",
        "from torch.utils.data import Dataset\n",
        "\n",
        "\n",
        "class InferenceDataset(Dataset):\n",
        "\tdef __init__(self, data_dir):\n",
        "\t\ttestdata_path = Path(data_dir) / \"testdata.json\"\n",
        "\t\tmetadata = json.load(testdata_path.open())\n",
        "\t\tself.data_dir = data_dir\n",
        "\t\tself.data = metadata[\"utterances\"]\n",
        "\n",
        "\tdef __len__(self):\n",
        "\t\treturn len(self.data)\n",
        "\n",
        "\tdef __getitem__(self, index):\n",
        "\t\tutterance = self.data[index]\n",
        "\t\tfeat_path = utterance[\"feature_path\"]\n",
        "\t\tmel = torch.load(os.path.join(self.data_dir, feat_path))\n",
        "\n",
        "\t\treturn feat_path, mel\n",
        "\n",
        "\n",
        "def inference_collate_batch(batch):\n",
        "\t\"\"\"Collate a batch of data.\"\"\"\n",
        "\tfeat_paths, mels = zip(*batch)\n",
        "\n",
        "\treturn feat_paths, torch.stack(mels)"
      ]
    },
    {
      "cell_type": "markdown",
      "metadata": {
        "id": "tl0WnYwxNK_S"
      },
      "source": [
        "## Main funcrion of Inference"
      ]
    },
    {
      "cell_type": "code",
      "execution_count": 19,
      "metadata": {
        "colab": {
          "base_uri": "https://localhost:8080/",
          "height": 103,
          "referenced_widgets": [
            "6786c2b0e2614ad389620246cb2178f2",
            "0d592098920140dab61aac5410568c36",
            "da681e3cc353420cb142d56df0fce231",
            "401ae722b95c4ff59b836422dbe71edc",
            "4efbfb7c7cb54276862e5321209d57fa",
            "f6dcb3ec9c624171966bb889808dbcb3",
            "100abf072991474abfcee871d2b83f37",
            "decc12da6f5742ec8b7ec7789ee434ab",
            "0117ac88c98440b29ab1f452107cbe1a",
            "3d64942a0eaa409a93df049bb594c062",
            "8c8721e504cf434eb9e263fb9983969a"
          ]
        },
        "id": "i8SAbuXEJb2A",
        "outputId": "3808f409-19c9-426c-dc15-1b88b0c21645"
      },
      "outputs": [
        {
          "name": "stdout",
          "output_type": "stream",
          "text": [
            "[Info]: Use cuda now!\n",
            "[Info]: Finish loading data!\n",
            "[Info]: Finish creating model!\n"
          ]
        },
        {
          "data": {
            "application/vnd.jupyter.widget-view+json": {
              "model_id": "92677dc32ffa4e5a912fae466494487d",
              "version_major": 2,
              "version_minor": 0
            },
            "text/plain": [
              "  0%|          | 0/8000 [00:00<?, ?it/s]"
            ]
          },
          "metadata": {},
          "output_type": "display_data"
        }
      ],
      "source": [
        "import json\n",
        "import csv\n",
        "from pathlib import Path\n",
        "from tqdm.notebook import tqdm\n",
        "\n",
        "import torch\n",
        "from torch.utils.data import DataLoader\n",
        "\n",
        "def parse_args():\n",
        "\t\"\"\"arguments\"\"\"\n",
        "\tconfig = {\n",
        "\t\t\"data_dir\": \"./Dataset\",\n",
        "\t\t\"model_path\": \"./model.ckpt\",\n",
        "\t\t\"output_path\": \"./output.csv\",\n",
        "\t}\n",
        "\n",
        "\treturn config\n",
        "\n",
        "\n",
        "def main(\n",
        "\tdata_dir,\n",
        "\tmodel_path,\n",
        "\toutput_path,\n",
        "):\n",
        "\t\"\"\"Main function.\"\"\"\n",
        "\tdevice = torch.device(\"cuda\" if torch.cuda.is_available() else \"cpu\")\n",
        "\tprint(f\"[Info]: Use {device} now!\")\n",
        "\n",
        "\tmapping_path = Path(data_dir) / \"mapping.json\"\n",
        "\tmapping = json.load(mapping_path.open())\n",
        "\n",
        "\tdataset = InferenceDataset(data_dir)\n",
        "\tdataloader = DataLoader(\n",
        "\t\tdataset,\n",
        "\t\tbatch_size=1,\n",
        "\t\tshuffle=False,\n",
        "\t\tdrop_last=False,\n",
        "\t\tnum_workers=8,\n",
        "\t\tcollate_fn=inference_collate_batch,\n",
        "\t)\n",
        "\tprint(f\"[Info]: Finish loading data!\",flush = True)\n",
        "\n",
        "\tspeaker_num = len(mapping[\"id2speaker\"])\n",
        "\tmodel = Classifier(n_spks=speaker_num).to(device)\n",
        "\tmodel.load_state_dict(torch.load(model_path))\n",
        "\tmodel.eval()\n",
        "\tprint(f\"[Info]: Finish creating model!\",flush = True)\n",
        "\n",
        "\tresults = [[\"Id\", \"Category\"]]\n",
        "\tfor feat_paths, mels in tqdm(dataloader):\n",
        "\t\twith torch.no_grad():\n",
        "\t\t\tmels = mels.to(device)\n",
        "\t\t\touts = model(mels)\n",
        "\t\t\tpreds = outs.argmax(1).cpu().numpy()\n",
        "\t\t\tfor feat_path, pred in zip(feat_paths, preds):\n",
        "\t\t\t\tresults.append([feat_path, mapping[\"id2speaker\"][str(pred)]])\n",
        "\n",
        "\twith open(output_path, 'w', newline='') as csvfile:\n",
        "\t\twriter = csv.writer(csvfile)\n",
        "\t\twriter.writerows(results)\n",
        "\n",
        "\n",
        "if __name__ == \"__main__\":\n",
        "\tmain(**parse_args())"
      ]
    }
  ],
  "metadata": {
    "accelerator": "GPU",
    "colab": {
      "provenance": []
    },
    "gpuClass": "standard",
    "kernelspec": {
      "display_name": "ML",
      "language": "python",
      "name": "python3"
    },
    "language_info": {
      "codemirror_mode": {
        "name": "ipython",
        "version": 3
      },
      "file_extension": ".py",
      "mimetype": "text/x-python",
      "name": "python",
      "nbconvert_exporter": "python",
      "pygments_lexer": "ipython3",
      "version": "3.9.16"
    },
    "vscode": {
      "interpreter": {
        "hash": "9a17ee0de420e52fa97e4db7aa81638ec7ea46147f3562eb9297ca4cdfe70d01"
      }
    },
    "widgets": {
      "application/vnd.jupyter.widget-state+json": {
        "0117ac88c98440b29ab1f452107cbe1a": {
          "model_module": "@jupyter-widgets/controls",
          "model_module_version": "1.5.0",
          "model_name": "ProgressStyleModel",
          "state": {
            "_model_module": "@jupyter-widgets/controls",
            "_model_module_version": "1.5.0",
            "_model_name": "ProgressStyleModel",
            "_view_count": null,
            "_view_module": "@jupyter-widgets/base",
            "_view_module_version": "1.2.0",
            "_view_name": "StyleView",
            "bar_color": null,
            "description_width": ""
          }
        },
        "0d592098920140dab61aac5410568c36": {
          "model_module": "@jupyter-widgets/controls",
          "model_module_version": "1.5.0",
          "model_name": "HTMLModel",
          "state": {
            "_dom_classes": [],
            "_model_module": "@jupyter-widgets/controls",
            "_model_module_version": "1.5.0",
            "_model_name": "HTMLModel",
            "_view_count": null,
            "_view_module": "@jupyter-widgets/controls",
            "_view_module_version": "1.5.0",
            "_view_name": "HTMLView",
            "description": "",
            "description_tooltip": null,
            "layout": "IPY_MODEL_f6dcb3ec9c624171966bb889808dbcb3",
            "placeholder": "​",
            "style": "IPY_MODEL_100abf072991474abfcee871d2b83f37",
            "value": "100%"
          }
        },
        "100abf072991474abfcee871d2b83f37": {
          "model_module": "@jupyter-widgets/controls",
          "model_module_version": "1.5.0",
          "model_name": "DescriptionStyleModel",
          "state": {
            "_model_module": "@jupyter-widgets/controls",
            "_model_module_version": "1.5.0",
            "_model_name": "DescriptionStyleModel",
            "_view_count": null,
            "_view_module": "@jupyter-widgets/base",
            "_view_module_version": "1.2.0",
            "_view_name": "StyleView",
            "description_width": ""
          }
        },
        "3d64942a0eaa409a93df049bb594c062": {
          "model_module": "@jupyter-widgets/base",
          "model_module_version": "1.2.0",
          "model_name": "LayoutModel",
          "state": {
            "_model_module": "@jupyter-widgets/base",
            "_model_module_version": "1.2.0",
            "_model_name": "LayoutModel",
            "_view_count": null,
            "_view_module": "@jupyter-widgets/base",
            "_view_module_version": "1.2.0",
            "_view_name": "LayoutView",
            "align_content": null,
            "align_items": null,
            "align_self": null,
            "border": null,
            "bottom": null,
            "display": null,
            "flex": null,
            "flex_flow": null,
            "grid_area": null,
            "grid_auto_columns": null,
            "grid_auto_flow": null,
            "grid_auto_rows": null,
            "grid_column": null,
            "grid_gap": null,
            "grid_row": null,
            "grid_template_areas": null,
            "grid_template_columns": null,
            "grid_template_rows": null,
            "height": null,
            "justify_content": null,
            "justify_items": null,
            "left": null,
            "margin": null,
            "max_height": null,
            "max_width": null,
            "min_height": null,
            "min_width": null,
            "object_fit": null,
            "object_position": null,
            "order": null,
            "overflow": null,
            "overflow_x": null,
            "overflow_y": null,
            "padding": null,
            "right": null,
            "top": null,
            "visibility": null,
            "width": null
          }
        },
        "401ae722b95c4ff59b836422dbe71edc": {
          "model_module": "@jupyter-widgets/controls",
          "model_module_version": "1.5.0",
          "model_name": "HTMLModel",
          "state": {
            "_dom_classes": [],
            "_model_module": "@jupyter-widgets/controls",
            "_model_module_version": "1.5.0",
            "_model_name": "HTMLModel",
            "_view_count": null,
            "_view_module": "@jupyter-widgets/controls",
            "_view_module_version": "1.5.0",
            "_view_name": "HTMLView",
            "description": "",
            "description_tooltip": null,
            "layout": "IPY_MODEL_3d64942a0eaa409a93df049bb594c062",
            "placeholder": "​",
            "style": "IPY_MODEL_8c8721e504cf434eb9e263fb9983969a",
            "value": " 8000/8000 [00:33&lt;00:00, 256.07it/s]"
          }
        },
        "4efbfb7c7cb54276862e5321209d57fa": {
          "model_module": "@jupyter-widgets/base",
          "model_module_version": "1.2.0",
          "model_name": "LayoutModel",
          "state": {
            "_model_module": "@jupyter-widgets/base",
            "_model_module_version": "1.2.0",
            "_model_name": "LayoutModel",
            "_view_count": null,
            "_view_module": "@jupyter-widgets/base",
            "_view_module_version": "1.2.0",
            "_view_name": "LayoutView",
            "align_content": null,
            "align_items": null,
            "align_self": null,
            "border": null,
            "bottom": null,
            "display": null,
            "flex": null,
            "flex_flow": null,
            "grid_area": null,
            "grid_auto_columns": null,
            "grid_auto_flow": null,
            "grid_auto_rows": null,
            "grid_column": null,
            "grid_gap": null,
            "grid_row": null,
            "grid_template_areas": null,
            "grid_template_columns": null,
            "grid_template_rows": null,
            "height": null,
            "justify_content": null,
            "justify_items": null,
            "left": null,
            "margin": null,
            "max_height": null,
            "max_width": null,
            "min_height": null,
            "min_width": null,
            "object_fit": null,
            "object_position": null,
            "order": null,
            "overflow": null,
            "overflow_x": null,
            "overflow_y": null,
            "padding": null,
            "right": null,
            "top": null,
            "visibility": null,
            "width": null
          }
        },
        "6786c2b0e2614ad389620246cb2178f2": {
          "model_module": "@jupyter-widgets/controls",
          "model_module_version": "1.5.0",
          "model_name": "HBoxModel",
          "state": {
            "_dom_classes": [],
            "_model_module": "@jupyter-widgets/controls",
            "_model_module_version": "1.5.0",
            "_model_name": "HBoxModel",
            "_view_count": null,
            "_view_module": "@jupyter-widgets/controls",
            "_view_module_version": "1.5.0",
            "_view_name": "HBoxView",
            "box_style": "",
            "children": [
              "IPY_MODEL_0d592098920140dab61aac5410568c36",
              "IPY_MODEL_da681e3cc353420cb142d56df0fce231",
              "IPY_MODEL_401ae722b95c4ff59b836422dbe71edc"
            ],
            "layout": "IPY_MODEL_4efbfb7c7cb54276862e5321209d57fa"
          }
        },
        "8c8721e504cf434eb9e263fb9983969a": {
          "model_module": "@jupyter-widgets/controls",
          "model_module_version": "1.5.0",
          "model_name": "DescriptionStyleModel",
          "state": {
            "_model_module": "@jupyter-widgets/controls",
            "_model_module_version": "1.5.0",
            "_model_name": "DescriptionStyleModel",
            "_view_count": null,
            "_view_module": "@jupyter-widgets/base",
            "_view_module_version": "1.2.0",
            "_view_name": "StyleView",
            "description_width": ""
          }
        },
        "da681e3cc353420cb142d56df0fce231": {
          "model_module": "@jupyter-widgets/controls",
          "model_module_version": "1.5.0",
          "model_name": "FloatProgressModel",
          "state": {
            "_dom_classes": [],
            "_model_module": "@jupyter-widgets/controls",
            "_model_module_version": "1.5.0",
            "_model_name": "FloatProgressModel",
            "_view_count": null,
            "_view_module": "@jupyter-widgets/controls",
            "_view_module_version": "1.5.0",
            "_view_name": "ProgressView",
            "bar_style": "success",
            "description": "",
            "description_tooltip": null,
            "layout": "IPY_MODEL_decc12da6f5742ec8b7ec7789ee434ab",
            "max": 8000,
            "min": 0,
            "orientation": "horizontal",
            "style": "IPY_MODEL_0117ac88c98440b29ab1f452107cbe1a",
            "value": 8000
          }
        },
        "decc12da6f5742ec8b7ec7789ee434ab": {
          "model_module": "@jupyter-widgets/base",
          "model_module_version": "1.2.0",
          "model_name": "LayoutModel",
          "state": {
            "_model_module": "@jupyter-widgets/base",
            "_model_module_version": "1.2.0",
            "_model_name": "LayoutModel",
            "_view_count": null,
            "_view_module": "@jupyter-widgets/base",
            "_view_module_version": "1.2.0",
            "_view_name": "LayoutView",
            "align_content": null,
            "align_items": null,
            "align_self": null,
            "border": null,
            "bottom": null,
            "display": null,
            "flex": null,
            "flex_flow": null,
            "grid_area": null,
            "grid_auto_columns": null,
            "grid_auto_flow": null,
            "grid_auto_rows": null,
            "grid_column": null,
            "grid_gap": null,
            "grid_row": null,
            "grid_template_areas": null,
            "grid_template_columns": null,
            "grid_template_rows": null,
            "height": null,
            "justify_content": null,
            "justify_items": null,
            "left": null,
            "margin": null,
            "max_height": null,
            "max_width": null,
            "min_height": null,
            "min_width": null,
            "object_fit": null,
            "object_position": null,
            "order": null,
            "overflow": null,
            "overflow_x": null,
            "overflow_y": null,
            "padding": null,
            "right": null,
            "top": null,
            "visibility": null,
            "width": null
          }
        },
        "f6dcb3ec9c624171966bb889808dbcb3": {
          "model_module": "@jupyter-widgets/base",
          "model_module_version": "1.2.0",
          "model_name": "LayoutModel",
          "state": {
            "_model_module": "@jupyter-widgets/base",
            "_model_module_version": "1.2.0",
            "_model_name": "LayoutModel",
            "_view_count": null,
            "_view_module": "@jupyter-widgets/base",
            "_view_module_version": "1.2.0",
            "_view_name": "LayoutView",
            "align_content": null,
            "align_items": null,
            "align_self": null,
            "border": null,
            "bottom": null,
            "display": null,
            "flex": null,
            "flex_flow": null,
            "grid_area": null,
            "grid_auto_columns": null,
            "grid_auto_flow": null,
            "grid_auto_rows": null,
            "grid_column": null,
            "grid_gap": null,
            "grid_row": null,
            "grid_template_areas": null,
            "grid_template_columns": null,
            "grid_template_rows": null,
            "height": null,
            "justify_content": null,
            "justify_items": null,
            "left": null,
            "margin": null,
            "max_height": null,
            "max_width": null,
            "min_height": null,
            "min_width": null,
            "object_fit": null,
            "object_position": null,
            "order": null,
            "overflow": null,
            "overflow_x": null,
            "overflow_y": null,
            "padding": null,
            "right": null,
            "top": null,
            "visibility": null,
            "width": null
          }
        }
      }
    }
  },
  "nbformat": 4,
  "nbformat_minor": 0
}
