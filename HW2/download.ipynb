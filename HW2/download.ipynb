{
 "cells": [
  {
   "cell_type": "code",
   "execution_count": 1,
   "metadata": {},
   "outputs": [
    {
     "name": "stdout",
     "output_type": "stream",
     "text": [
      "Requirement already satisfied: gdown in /home/nlpserver/anaconda3/envs/adl-hw3.2/lib/python3.9/site-packages (4.5.3)\n",
      "Collecting gdown\n",
      "  Downloading gdown-4.6.4-py3-none-any.whl (14 kB)\n",
      "Requirement already satisfied: beautifulsoup4 in /home/nlpserver/anaconda3/envs/adl-hw3.2/lib/python3.9/site-packages (from gdown) (4.11.1)\n",
      "Requirement already satisfied: filelock in /home/nlpserver/anaconda3/envs/adl-hw3.2/lib/python3.9/site-packages (from gdown) (3.8.0)\n",
      "Requirement already satisfied: tqdm in /home/nlpserver/anaconda3/envs/adl-hw3.2/lib/python3.9/site-packages (from gdown) (4.64.1)\n",
      "Requirement already satisfied: six in /home/nlpserver/.local/lib/python3.9/site-packages (from gdown) (1.16.0)\n",
      "Requirement already satisfied: requests[socks] in /home/nlpserver/anaconda3/envs/adl-hw3.2/lib/python3.9/site-packages (from gdown) (2.28.1)\n",
      "Requirement already satisfied: soupsieve>1.2 in /home/nlpserver/anaconda3/envs/adl-hw3.2/lib/python3.9/site-packages (from beautifulsoup4->gdown) (2.3.2.post1)\n",
      "Requirement already satisfied: urllib3<1.27,>=1.21.1 in /home/nlpserver/anaconda3/envs/adl-hw3.2/lib/python3.9/site-packages (from requests[socks]->gdown) (1.26.12)\n",
      "Requirement already satisfied: charset-normalizer<3,>=2 in /home/nlpserver/anaconda3/envs/adl-hw3.2/lib/python3.9/site-packages (from requests[socks]->gdown) (2.0.4)\n",
      "Requirement already satisfied: certifi>=2017.4.17 in /home/nlpserver/anaconda3/envs/adl-hw3.2/lib/python3.9/site-packages (from requests[socks]->gdown) (2022.9.24)\n",
      "Requirement already satisfied: idna<4,>=2.5 in /home/nlpserver/anaconda3/envs/adl-hw3.2/lib/python3.9/site-packages (from requests[socks]->gdown) (3.4)\n",
      "Requirement already satisfied: PySocks!=1.5.7,>=1.5.6 in /home/nlpserver/anaconda3/envs/adl-hw3.2/lib/python3.9/site-packages (from requests[socks]->gdown) (1.7.1)\n",
      "Installing collected packages: gdown\n",
      "  Attempting uninstall: gdown\n",
      "    Found existing installation: gdown 4.5.3\n",
      "    Uninstalling gdown-4.5.3:\n",
      "      Successfully uninstalled gdown-4.5.3\n",
      "Successfully installed gdown-4.6.4\n",
      "/home/nlpserver/anaconda3/envs/adl-hw3.2/lib/python3.9/site-packages/gdown/cli.py:121: FutureWarning: Option `--id` was deprecated in version 4.3.1 and will be removed in 5.0. You don't need to pass it anymore to use a file ID.\n",
      "  warnings.warn(\n",
      "Access denied with the following error:\n",
      "\n",
      " \tToo many users have viewed or downloaded this file recently. Please\n",
      "\ttry accessing the file again later. If the file you are trying to\n",
      "\taccess is particularly large or is shared with many people, it may\n",
      "\ttake up to 24 hours to be able to view or download the file. If you\n",
      "\tstill can't access a file after 24 hours, contact your domain\n",
      "\tadministrator. \n",
      "\n",
      "You may still be able to access the file from the browser:\n",
      "\n",
      "\t https://drive.google.com/uc?id=1N1eVIDe9hKM5uiNRGmifBlwSDGiVXPJe \n",
      "\n",
      "unzip:  cannot find or open libriphone.zip, libriphone.zip.zip or libriphone.zip.ZIP.\n",
      "ls: cannot access 'libriphone': No such file or directory\n"
     ]
    }
   ],
   "source": [
    "!pip install --upgrade gdown\n",
    "\n",
    "# Main link\n",
    "!gdown --id '1N1eVIDe9hKM5uiNRGmifBlwSDGiVXPJe' --output libriphone.zip\n",
    "# !gdown --id '1qzCRnywKh30mTbWUEjXuNT2isOCAPdO1' --output libriphone.zip\n",
    "\n",
    "!unzip -q libriphone.zip\n",
    "!ls libriphone"
   ]
  }
 ],
 "metadata": {
  "kernelspec": {
   "display_name": "adl-hw3.2",
   "language": "python",
   "name": "python3"
  },
  "language_info": {
   "codemirror_mode": {
    "name": "ipython",
    "version": 3
   },
   "file_extension": ".py",
   "mimetype": "text/x-python",
   "name": "python",
   "nbconvert_exporter": "python",
   "pygments_lexer": "ipython3",
   "version": "3.9.15"
  },
  "orig_nbformat": 4
 },
 "nbformat": 4,
 "nbformat_minor": 2
}
