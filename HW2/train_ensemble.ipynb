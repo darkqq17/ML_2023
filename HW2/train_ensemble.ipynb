{
  "cells": [
    {
      "cell_type": "markdown",
      "metadata": {
        "id": "KVUGfWTo7_Oj"
      },
      "source": [
        "# Download Data\n",
        "Download data from google drive, then unzip it.\n",
        "\n",
        "You should have\n",
        "- `libriphone/train_split.txt`: training metadata\n",
        "- `libriphone/train_labels`: training labels\n",
        "- `libriphone/test_split.txt`: testing metadata\n",
        "- `libriphone/feat/train/*.pt`: training feature\n",
        "- `libriphone/feat/test/*.pt`:  testing feature\n",
        "\n",
        "after running the following block.\n",
        "\n",
        "> **Notes: if the google drive link is dead, you can download the data directly from [Kaggle](https://www.kaggle.com/c/ml2023spring-hw2/data) and upload it to the workspace.**\n"
      ]
    },
    {
      "cell_type": "markdown",
      "metadata": {},
      "source": [
        "!pip install --upgrade gdown\n",
        "\n",
        "# Main link\n",
        "!gdown --id '1N1eVIDe9hKM5uiNRGmifBlwSDGiVXPJe' --output libriphone.zip\n",
        "# !gdown --id '1qzCRnywKh30mTbWUEjXuNT2isOCAPdO1' --output libriphone.zip\n",
        "\n",
        "!unzip -q libriphone.zip\n",
        "!ls libriphone"
      ]
    },
    {
      "cell_type": "markdown",
      "metadata": {
        "id": "pADUiYODJE1O"
      },
      "source": [
        "# Some Utility Functions\n",
        "**Fixes random number generator seeds for reproducibility.**"
      ]
    },
    {
      "cell_type": "code",
      "execution_count": 1,
      "metadata": {
        "id": "BsZKgBZQJjaE"
      },
      "outputs": [
        {
          "name": "stderr",
          "output_type": "stream",
          "text": [
            "/home/darkqq/miniconda3/envs/ML/lib/python3.9/site-packages/tqdm/auto.py:21: TqdmWarning: IProgress not found. Please update jupyter and ipywidgets. See https://ipywidgets.readthedocs.io/en/stable/user_install.html\n",
            "  from .autonotebook import tqdm as notebook_tqdm\n"
          ]
        }
      ],
      "source": [
        "import numpy as np\n",
        "import torch\n",
        "import random\n",
        "\n",
        "def same_seeds(seed):\n",
        "    random.seed(seed) \n",
        "    np.random.seed(seed)  \n",
        "    torch.manual_seed(seed)\n",
        "    if torch.cuda.is_available():\n",
        "        torch.cuda.manual_seed(seed)\n",
        "        torch.cuda.manual_seed_all(seed) \n",
        "    torch.backends.cudnn.benchmark = False\n",
        "    torch.backends.cudnn.deterministic = True"
      ]
    },
    {
      "cell_type": "markdown",
      "metadata": {
        "id": "_L_4anls8Drv"
      },
      "source": [
        "**Helper functions to pre-process the training data from raw MFCC features of each utterance.**\n",
        "\n",
        "A phoneme may span several frames and is dependent to past and future frames. \\\n",
        "Hence we concatenate neighboring phonemes for training to achieve higher accuracy. The **concat_feat** function concatenates past and future k frames (total 2k+1 = n frames), and we predict the center frame.\n",
        "\n",
        "Feel free to modify the data preprocess functions, but **do not drop any frame** (if you modify the functions, remember to check that the number of frames are the same as mentioned in the slides)"
      ]
    },
    {
      "cell_type": "code",
      "execution_count": 2,
      "metadata": {
        "id": "IJjLT8em-y9G"
      },
      "outputs": [],
      "source": [
        "import os\n",
        "import torch\n",
        "from tqdm import tqdm\n",
        "\n",
        "def load_feat(path):\n",
        "    feat = torch.load(path)\n",
        "    return feat\n",
        "\n",
        "def shift(x, n):\n",
        "    if n < 0:\n",
        "        left = x[0].repeat(-n, 1)\n",
        "        right = x[:n]\n",
        "    elif n > 0:\n",
        "        right = x[-1].repeat(n, 1)\n",
        "        left = x[n:]\n",
        "    else:\n",
        "        return x\n",
        "\n",
        "    return torch.cat((left, right), dim=0)\n",
        "\n",
        "def concat_feat(x, concat_n):\n",
        "    assert concat_n % 2 == 1 # n must be odd\n",
        "    if concat_n < 2:\n",
        "        return x\n",
        "    seq_len, feature_dim = x.size(0), x.size(1)\n",
        "    x = x.repeat(1, concat_n) \n",
        "    x = x.view(seq_len, concat_n, feature_dim).permute(1, 0, 2) # concat_n, seq_len, feature_dim\n",
        "    mid = (concat_n // 2)\n",
        "    for r_idx in range(1, mid+1):\n",
        "        x[mid + r_idx, :] = shift(x[mid + r_idx], r_idx)\n",
        "        x[mid - r_idx, :] = shift(x[mid - r_idx], -r_idx)\n",
        "\n",
        "    return x.permute(1, 0, 2).view(seq_len, concat_n * feature_dim)\n",
        "\n",
        "def preprocess_data(split, feat_dir, phone_path, concat_nframes, train_ratio=0.8, random_seed=1213):\n",
        "    class_num = 41 # NOTE: pre-computed, should not need change\n",
        "\n",
        "    if split == 'train' or split == 'val':\n",
        "        mode = 'train'\n",
        "    elif split == 'test':\n",
        "        mode = 'test'\n",
        "    else:\n",
        "        raise ValueError('Invalid \\'split\\' argument for dataset: PhoneDataset!')\n",
        "\n",
        "    label_dict = {}\n",
        "    if mode == 'train':\n",
        "        for line in open(os.path.join(phone_path, f'{mode}_labels.txt')).readlines():\n",
        "            line = line.strip('\\n').split(' ')\n",
        "            label_dict[line[0]] = [int(p) for p in line[1:]]\n",
        "        \n",
        "        # split training and validation data\n",
        "        usage_list = open(os.path.join(phone_path, 'train_split.txt')).readlines()\n",
        "        random.seed(random_seed)\n",
        "        random.shuffle(usage_list)\n",
        "        train_len = int(len(usage_list) * train_ratio)\n",
        "        usage_list = usage_list[:train_len] if split == 'train' else usage_list[train_len:]\n",
        "\n",
        "    elif mode == 'test':\n",
        "        usage_list = open(os.path.join(phone_path, 'test_split.txt')).readlines()\n",
        "\n",
        "    usage_list = [line.strip('\\n') for line in usage_list]\n",
        "    print('[Dataset] - # phone classes: ' + str(class_num) + ', number of utterances for ' + split + ': ' + str(len(usage_list)))\n",
        "\n",
        "    max_len = 3000000\n",
        "    X = torch.empty(max_len, 39 * concat_nframes)\n",
        "    if mode == 'train':\n",
        "        y = torch.empty(max_len, dtype=torch.long)\n",
        "\n",
        "    idx = 0\n",
        "    for i, fname in tqdm(enumerate(usage_list)):\n",
        "        feat = load_feat(os.path.join(feat_dir, mode, f'{fname}.pt'))\n",
        "        cur_len = len(feat)\n",
        "        # print(cur_len)\n",
        "        feat = concat_feat(feat, concat_nframes)\n",
        "        if mode == 'train':\n",
        "          label = torch.LongTensor(label_dict[fname])\n",
        "\n",
        "        X[idx: idx + cur_len, :] = feat\n",
        "        if mode == 'train':\n",
        "          y[idx: idx + cur_len] = label\n",
        "\n",
        "        idx += cur_len\n",
        "\n",
        "    X = X[:idx, :]\n",
        "    if mode == 'train':\n",
        "      y = y[:idx]\n",
        "\n",
        "    print(f'[INFO] {split} set')\n",
        "    print(X.shape)\n",
        "    if mode == 'train':\n",
        "      print(y.shape)\n",
        "      return X, y\n",
        "    else:\n",
        "      return X\n"
      ]
    },
    {
      "cell_type": "markdown",
      "metadata": {
        "id": "us5XW_x6udZQ"
      },
      "source": [
        "# Dataset"
      ]
    },
    {
      "cell_type": "code",
      "execution_count": 3,
      "metadata": {
        "id": "Fjf5EcmJtf4e"
      },
      "outputs": [],
      "source": [
        "import torch\n",
        "from torch.utils.data import Dataset\n",
        "\n",
        "class LibriDataset(Dataset):\n",
        "    def __init__(self, X, y=None):\n",
        "        self.data = X\n",
        "        if y is not None:\n",
        "            self.label = torch.LongTensor(y)\n",
        "        else:\n",
        "            self.label = None\n",
        "\n",
        "    def __getitem__(self, idx):\n",
        "        if self.label is not None:\n",
        "            return self.data[idx], self.label[idx]\n",
        "        else:\n",
        "            return self.data[idx]\n",
        "\n",
        "    def __len__(self):\n",
        "        return len(self.data)\n"
      ]
    },
    {
      "cell_type": "markdown",
      "metadata": {
        "id": "IRqKNvNZwe3V"
      },
      "source": [
        "# Model\n",
        "Feel free to modify the structure of the model."
      ]
    },
    {
      "cell_type": "code",
      "execution_count": 4,
      "metadata": {
        "id": "Bg-GRd7ywdrL"
      },
      "outputs": [],
      "source": [
        "import torch.nn as nn\n",
        "\n",
        "class Classifier(nn.Module):\n",
        "    def __init__(self, \n",
        "            input_dim: int, \n",
        "            num_layers: int, \n",
        "            concat_nframes: int, \n",
        "            bidirectional: bool, \n",
        "            output_dim: int, \n",
        "            hidden_dim: int, \n",
        "            dropout: float,\n",
        "        ) -> None:\n",
        "        super(Classifier, self).__init__()\n",
        "\n",
        "        # TODO: apply batch normalization and dropout for strong baseline.\n",
        "        self.input_dim = input_dim\n",
        "        self.seq_length = concat_nframes\n",
        "        self.dropout = nn.Dropout(p=dropout)\n",
        "        self.relu = torch.nn.LeakyReLU(0.1)\n",
        "        self.batchNorm1 = nn.BatchNorm1d(4*hidden_dim)\n",
        "        self.batchNorm2 = nn.BatchNorm1d(hidden_dim)\n",
        "\n",
        "        self.lstm = nn.LSTM(\n",
        "            input_size = input_dim,\n",
        "            num_layers = num_layers,\n",
        "            dropout = dropout,\n",
        "            bidirectional = bidirectional,\n",
        "            hidden_size = hidden_dim,\n",
        "            batch_first = True # input/output as (batch,seq,feature)\n",
        "        )\n",
        "        self.relu = nn.ReLU()\n",
        "        if bidirectional == True:\n",
        "            self.classifier_1 =  torch.nn.Linear(hidden_dim*4, hidden_dim)\n",
        "        elif bidirectional == False:\n",
        "            self.classifier_1 =  torch.nn.Linear(hidden_dim, hidden_dim)\n",
        "        \n",
        "        self.classifer_2 = torch.nn.Linear(hidden_dim, output_dim)\n",
        "        # self.layer_norm = torch.nn.LayerNorm([128, 150, 150])\n",
        "\n",
        "    # Reference : https://blog.csdn.net/qq_43613342/article/details/127007955\n",
        "    def forward(self, x):\n",
        "        x = x.view(-1, self.seq_length, self.input_dim) # reshape for lstm input\n",
        "        lstm_out, _ = self.lstm(x) # lstm output\n",
        "        # hidden_state = lstm_out[:,-1,:]\n",
        "        lstm_forward, lstm_backword = lstm_out[:, -1, :], lstm_out[:, 0, :]\n",
        "        hidden_state = torch.cat((lstm_forward, lstm_backword), dim=1)\n",
        "        hidden_state = self.relu(hidden_state)\n",
        "        hidden_state = self.batchNorm1(hidden_state)\n",
        "        hidden_state = self.dropout(hidden_state)\n",
        "        output = self.classifier_1(hidden_state)\n",
        "        output = self.relu(output)\n",
        "        output = self.batchNorm2(output)\n",
        "        output = self.dropout(output)\n",
        "        output = self.classifer_2(output)\n",
        "\n",
        "        return output"
      ]
    },
    {
      "cell_type": "markdown",
      "metadata": {
        "id": "TlIq8JeqvvHC"
      },
      "source": [
        "# Hyper-parameters"
      ]
    },
    {
      "cell_type": "code",
      "execution_count": 5,
      "metadata": {
        "id": "iIHn79Iav1ri"
      },
      "outputs": [],
      "source": [
        "# data prarameters\n",
        "# TODO: change the value of \"concat_nframes\" for medium baseline\n",
        "concat_nframes = 49   # the number of frames to concat with, n must be odd (total 2k+1 = n frames)  # Current best : 49\n",
        "train_ratio = 0.99   # the ratio of data used for training, the rest will be used for validation\n",
        "\n",
        "# training parameters\n",
        "seed = 1777          # random seed\n",
        "batch_size = 512        # batch size, Current best : 2048\n",
        "num_epoch = 30         # the number of training epoch, Current best : 20\n",
        "learning_rate = 1e-3      # learning rate, Current best : le-3\n",
        "model_path = './'  # the path where the checkpoint will be saved\n",
        "n_estimators = 15        # Current best : 15\n",
        "\n",
        "# model parameters\n",
        "# TODO: change the value of \"hidden_layers\" or \"hidden_dim\" for medium baseline\n",
        "# input_dim = 39 * concat_nframes  # the input dim of the model, you should not change the value\n",
        "input_dim = 39\n",
        "hidden_dim = 512        # the hidden dim, Current best : 256\n",
        "# hidden_layers = 3        # Current best : 3\n",
        "dropout = 0.5        # Current best : 0.7\n",
        "bidirectional = True\n",
        "num_layers = 2\n",
        "output_dim = 41        # 41 classes\n"
      ]
    },
    {
      "cell_type": "markdown",
      "metadata": {
        "id": "IIUFRgG5yoDn"
      },
      "source": [
        "# Dataloader"
      ]
    },
    {
      "cell_type": "code",
      "execution_count": 6,
      "metadata": {
        "id": "c1zI3v5jyrDn"
      },
      "outputs": [
        {
          "name": "stdout",
          "output_type": "stream",
          "text": [
            "DEVICE: cuda\n",
            "[Dataset] - # phone classes: 41, number of utterances for train: 3394\n"
          ]
        },
        {
          "name": "stderr",
          "output_type": "stream",
          "text": [
            "3394it [00:45, 74.39it/s] \n"
          ]
        },
        {
          "name": "stdout",
          "output_type": "stream",
          "text": [
            "[INFO] train set\n",
            "torch.Size([2096655, 1911])\n",
            "torch.Size([2096655])\n",
            "[Dataset] - # phone classes: 41, number of utterances for val: 35\n"
          ]
        },
        {
          "name": "stderr",
          "output_type": "stream",
          "text": [
            "35it [00:00, 568.31it/s]"
          ]
        },
        {
          "name": "stdout",
          "output_type": "stream",
          "text": [
            "[INFO] val set\n",
            "torch.Size([20139, 1911])\n",
            "torch.Size([20139])\n"
          ]
        },
        {
          "name": "stderr",
          "output_type": "stream",
          "text": [
            "\n"
          ]
        }
      ],
      "source": [
        "from torch.utils.data import DataLoader\n",
        "import gc\n",
        "\n",
        "same_seeds(seed)\n",
        "device = 'cuda' if torch.cuda.is_available() else 'cpu'\n",
        "print(f'DEVICE: {device}')\n",
        "\n",
        "# preprocess data\n",
        "train_X, train_y = preprocess_data(split='train', feat_dir='./libriphone/feat', phone_path='./libriphone', concat_nframes=concat_nframes, train_ratio=train_ratio, random_seed=seed)\n",
        "val_X, val_y = preprocess_data(split='val', feat_dir='./libriphone/feat', phone_path='./libriphone', concat_nframes=concat_nframes, train_ratio=train_ratio, random_seed=seed)\n",
        "\n",
        "# get dataset\n",
        "train_set = LibriDataset(train_X, train_y)\n",
        "val_set = LibriDataset(val_X, val_y)\n",
        "\n",
        "# remove raw feature to save memory\n",
        "del train_X, train_y, val_X, val_y\n",
        "gc.collect()\n",
        "\n",
        "# get dataloader\n",
        "train_loader = DataLoader(train_set, batch_size=batch_size, shuffle=True)\n",
        "val_loader = DataLoader(val_set, batch_size=batch_size, shuffle=False)\n"
      ]
    },
    {
      "attachments": {},
      "cell_type": "markdown",
      "metadata": {
        "id": "pwWH1KIqzxEr"
      },
      "source": [
        "# Training with Esemble Learning"
      ]
    },
    {
      "cell_type": "code",
      "execution_count": 7,
      "metadata": {
        "id": "CdMWsBs7zzNs"
      },
      "outputs": [
        {
          "name": "stdout",
          "output_type": "stream",
          "text": [
            "Log will be saved in '/home/darkqq/LAB/robert/ML/HW2/logs'.\n",
            "Start logging into file /home/darkqq/LAB/robert/ML/HW2/logs/acc_BaggingClassifier-2023_03_24_14_58.log...\n",
            "Estimator: 000 | Epoch: 000 | Batch: 000 | Loss: 4.07741 | Correct: 8/512\n",
            "Estimator: 001 | Epoch: 000 | Batch: 000 | Loss: 3.96762 | Correct: 14/512\n",
            "Estimator: 002 | Epoch: 000 | Batch: 000 | Loss: 4.02998 | Correct: 7/512\n",
            "Estimator: 003 | Epoch: 000 | Batch: 000 | Loss: 4.01291 | Correct: 12/512\n",
            "Estimator: 004 | Epoch: 000 | Batch: 000 | Loss: 4.04795 | Correct: 7/512\n",
            "Estimator: 005 | Epoch: 000 | Batch: 000 | Loss: 3.97559 | Correct: 12/512\n",
            "Estimator: 006 | Epoch: 000 | Batch: 000 | Loss: 3.99244 | Correct: 11/512\n",
            "Estimator: 007 | Epoch: 000 | Batch: 000 | Loss: 4.07953 | Correct: 10/512\n",
            "Estimator: 008 | Epoch: 000 | Batch: 000 | Loss: 3.99123 | Correct: 10/512\n",
            "Estimator: 009 | Epoch: 000 | Batch: 000 | Loss: 4.01495 | Correct: 10/512\n",
            "Estimator: 010 | Epoch: 000 | Batch: 000 | Loss: 4.01808 | Correct: 10/512\n",
            "Estimator: 011 | Epoch: 000 | Batch: 000 | Loss: 4.07321 | Correct: 7/512\n",
            "Estimator: 012 | Epoch: 000 | Batch: 000 | Loss: 3.99191 | Correct: 13/512\n",
            "Estimator: 013 | Epoch: 000 | Batch: 000 | Loss: 4.03706 | Correct: 17/512\n",
            "Estimator: 014 | Epoch: 000 | Batch: 000 | Loss: 3.94811 | Correct: 15/512\n"
          ]
        },
        {
          "name": "stderr",
          "output_type": "stream",
          "text": [
            "2023-03-24 16:07:17,584 - INFO: Saving the model to `./BaggingClassifier_Classifier_15_ckpt.pth`\n",
            "2023-03-24 16:07:18,192 - INFO: Epoch: 000 | Validation Acc: 79.329 % | Historical Best: 79.329 %\n"
          ]
        },
        {
          "name": "stdout",
          "output_type": "stream",
          "text": [
            "Estimator: 000 | Epoch: 001 | Batch: 000 | Loss: 0.63056 | Correct: 409/512\n",
            "Estimator: 001 | Epoch: 001 | Batch: 000 | Loss: 0.73969 | Correct: 387/512\n",
            "Estimator: 002 | Epoch: 001 | Batch: 000 | Loss: 0.76731 | Correct: 389/512\n",
            "Estimator: 003 | Epoch: 001 | Batch: 000 | Loss: 0.71254 | Correct: 398/512\n",
            "Estimator: 004 | Epoch: 001 | Batch: 000 | Loss: 0.76016 | Correct: 404/512\n",
            "Estimator: 005 | Epoch: 001 | Batch: 000 | Loss: 0.61754 | Correct: 421/512\n",
            "Estimator: 006 | Epoch: 001 | Batch: 000 | Loss: 0.66790 | Correct: 408/512\n",
            "Estimator: 007 | Epoch: 001 | Batch: 000 | Loss: 0.67146 | Correct: 408/512\n",
            "Estimator: 008 | Epoch: 001 | Batch: 000 | Loss: 0.64322 | Correct: 420/512\n",
            "Estimator: 009 | Epoch: 001 | Batch: 000 | Loss: 0.63161 | Correct: 420/512\n",
            "Estimator: 010 | Epoch: 001 | Batch: 000 | Loss: 0.72106 | Correct: 407/512\n",
            "Estimator: 011 | Epoch: 001 | Batch: 000 | Loss: 0.79079 | Correct: 383/512\n",
            "Estimator: 012 | Epoch: 001 | Batch: 000 | Loss: 0.67201 | Correct: 406/512\n",
            "Estimator: 013 | Epoch: 001 | Batch: 000 | Loss: 0.63739 | Correct: 404/512\n",
            "Estimator: 014 | Epoch: 001 | Batch: 000 | Loss: 0.62438 | Correct: 418/512\n"
          ]
        },
        {
          "name": "stderr",
          "output_type": "stream",
          "text": [
            "2023-03-24 17:02:58,883 - INFO: Saving the model to `./BaggingClassifier_Classifier_15_ckpt.pth`\n",
            "2023-03-24 17:02:59,516 - INFO: Epoch: 001 | Validation Acc: 81.826 % | Historical Best: 81.826 %\n"
          ]
        },
        {
          "name": "stdout",
          "output_type": "stream",
          "text": [
            "Estimator: 000 | Epoch: 002 | Batch: 000 | Loss: 0.37870 | Correct: 447/512\n",
            "Estimator: 001 | Epoch: 002 | Batch: 000 | Loss: 0.36994 | Correct: 446/512\n",
            "Estimator: 002 | Epoch: 002 | Batch: 000 | Loss: 0.40869 | Correct: 449/512\n",
            "Estimator: 003 | Epoch: 002 | Batch: 000 | Loss: 0.37168 | Correct: 443/512\n",
            "Estimator: 004 | Epoch: 002 | Batch: 000 | Loss: 0.40595 | Correct: 453/512\n",
            "Estimator: 005 | Epoch: 002 | Batch: 000 | Loss: 0.43186 | Correct: 440/512\n",
            "Estimator: 006 | Epoch: 002 | Batch: 000 | Loss: 0.49730 | Correct: 436/512\n",
            "Estimator: 007 | Epoch: 002 | Batch: 000 | Loss: 0.41565 | Correct: 441/512\n",
            "Estimator: 008 | Epoch: 002 | Batch: 000 | Loss: 0.42179 | Correct: 441/512\n",
            "Estimator: 009 | Epoch: 002 | Batch: 000 | Loss: 0.45980 | Correct: 448/512\n",
            "Estimator: 010 | Epoch: 002 | Batch: 000 | Loss: 0.44734 | Correct: 438/512\n",
            "Estimator: 011 | Epoch: 002 | Batch: 000 | Loss: 0.44019 | Correct: 447/512\n",
            "Estimator: 012 | Epoch: 002 | Batch: 000 | Loss: 0.49316 | Correct: 437/512\n",
            "Estimator: 013 | Epoch: 002 | Batch: 000 | Loss: 0.45002 | Correct: 440/512\n",
            "Estimator: 014 | Epoch: 002 | Batch: 000 | Loss: 0.33851 | Correct: 461/512\n"
          ]
        },
        {
          "name": "stderr",
          "output_type": "stream",
          "text": [
            "2023-03-24 17:58:40,678 - INFO: Saving the model to `./BaggingClassifier_Classifier_15_ckpt.pth`\n",
            "2023-03-24 17:58:41,290 - INFO: Epoch: 002 | Validation Acc: 82.382 % | Historical Best: 82.382 %\n"
          ]
        },
        {
          "name": "stdout",
          "output_type": "stream",
          "text": [
            "Estimator: 000 | Epoch: 003 | Batch: 000 | Loss: 0.39632 | Correct: 452/512\n",
            "Estimator: 001 | Epoch: 003 | Batch: 000 | Loss: 0.33025 | Correct: 459/512\n",
            "Estimator: 002 | Epoch: 003 | Batch: 000 | Loss: 0.36605 | Correct: 451/512\n",
            "Estimator: 003 | Epoch: 003 | Batch: 000 | Loss: 0.35565 | Correct: 456/512\n",
            "Estimator: 004 | Epoch: 003 | Batch: 000 | Loss: 0.36697 | Correct: 453/512\n",
            "Estimator: 005 | Epoch: 003 | Batch: 000 | Loss: 0.33914 | Correct: 457/512\n",
            "Estimator: 006 | Epoch: 003 | Batch: 000 | Loss: 0.33273 | Correct: 461/512\n",
            "Estimator: 007 | Epoch: 003 | Batch: 000 | Loss: 0.22191 | Correct: 476/512\n",
            "Estimator: 008 | Epoch: 003 | Batch: 000 | Loss: 0.42907 | Correct: 447/512\n",
            "Estimator: 009 | Epoch: 003 | Batch: 000 | Loss: 0.32245 | Correct: 464/512\n",
            "Estimator: 010 | Epoch: 003 | Batch: 000 | Loss: 0.29903 | Correct: 458/512\n",
            "Estimator: 011 | Epoch: 003 | Batch: 000 | Loss: 0.32784 | Correct: 453/512\n",
            "Estimator: 012 | Epoch: 003 | Batch: 000 | Loss: 0.30639 | Correct: 466/512\n",
            "Estimator: 013 | Epoch: 003 | Batch: 000 | Loss: 0.33278 | Correct: 459/512\n",
            "Estimator: 014 | Epoch: 003 | Batch: 000 | Loss: 0.32890 | Correct: 457/512\n"
          ]
        },
        {
          "name": "stderr",
          "output_type": "stream",
          "text": [
            "2023-03-24 18:54:21,236 - INFO: Saving the model to `./BaggingClassifier_Classifier_15_ckpt.pth`\n",
            "2023-03-24 18:54:21,843 - INFO: Epoch: 003 | Validation Acc: 82.487 % | Historical Best: 82.487 %\n"
          ]
        },
        {
          "name": "stdout",
          "output_type": "stream",
          "text": [
            "Estimator: 000 | Epoch: 004 | Batch: 000 | Loss: 0.31189 | Correct: 470/512\n",
            "Estimator: 001 | Epoch: 004 | Batch: 000 | Loss: 0.24015 | Correct: 469/512\n",
            "Estimator: 002 | Epoch: 004 | Batch: 000 | Loss: 0.31112 | Correct: 463/512\n",
            "Estimator: 003 | Epoch: 004 | Batch: 000 | Loss: 0.22092 | Correct: 473/512\n",
            "Estimator: 004 | Epoch: 004 | Batch: 000 | Loss: 0.24531 | Correct: 473/512\n",
            "Estimator: 005 | Epoch: 004 | Batch: 000 | Loss: 0.27936 | Correct: 472/512\n",
            "Estimator: 006 | Epoch: 004 | Batch: 000 | Loss: 0.23653 | Correct: 471/512\n",
            "Estimator: 007 | Epoch: 004 | Batch: 000 | Loss: 0.30046 | Correct: 461/512\n",
            "Estimator: 008 | Epoch: 004 | Batch: 000 | Loss: 0.27658 | Correct: 472/512\n",
            "Estimator: 009 | Epoch: 004 | Batch: 000 | Loss: 0.32351 | Correct: 464/512\n",
            "Estimator: 010 | Epoch: 004 | Batch: 000 | Loss: 0.22027 | Correct: 475/512\n",
            "Estimator: 011 | Epoch: 004 | Batch: 000 | Loss: 0.28720 | Correct: 456/512\n",
            "Estimator: 012 | Epoch: 004 | Batch: 000 | Loss: 0.26471 | Correct: 472/512\n",
            "Estimator: 013 | Epoch: 004 | Batch: 000 | Loss: 0.27377 | Correct: 471/512\n",
            "Estimator: 014 | Epoch: 004 | Batch: 000 | Loss: 0.21147 | Correct: 475/512\n"
          ]
        },
        {
          "name": "stderr",
          "output_type": "stream",
          "text": [
            "2023-03-24 19:50:02,373 - INFO: Saving the model to `./BaggingClassifier_Classifier_15_ckpt.pth`\n",
            "2023-03-24 19:50:02,987 - INFO: Epoch: 004 | Validation Acc: 82.725 % | Historical Best: 82.725 %\n"
          ]
        },
        {
          "name": "stdout",
          "output_type": "stream",
          "text": [
            "Estimator: 000 | Epoch: 005 | Batch: 000 | Loss: 0.20986 | Correct: 477/512\n",
            "Estimator: 001 | Epoch: 005 | Batch: 000 | Loss: 0.20931 | Correct: 480/512\n",
            "Estimator: 002 | Epoch: 005 | Batch: 000 | Loss: 0.22891 | Correct: 467/512\n",
            "Estimator: 003 | Epoch: 005 | Batch: 000 | Loss: 0.23277 | Correct: 477/512\n",
            "Estimator: 004 | Epoch: 005 | Batch: 000 | Loss: 0.23307 | Correct: 476/512\n",
            "Estimator: 005 | Epoch: 005 | Batch: 000 | Loss: 0.17423 | Correct: 479/512\n",
            "Estimator: 006 | Epoch: 005 | Batch: 000 | Loss: 0.20362 | Correct: 479/512\n",
            "Estimator: 007 | Epoch: 005 | Batch: 000 | Loss: 0.23071 | Correct: 465/512\n",
            "Estimator: 008 | Epoch: 005 | Batch: 000 | Loss: 0.19326 | Correct: 480/512\n",
            "Estimator: 009 | Epoch: 005 | Batch: 000 | Loss: 0.17258 | Correct: 480/512\n",
            "Estimator: 010 | Epoch: 005 | Batch: 000 | Loss: 0.20394 | Correct: 479/512\n",
            "Estimator: 011 | Epoch: 005 | Batch: 000 | Loss: 0.20457 | Correct: 474/512\n",
            "Estimator: 012 | Epoch: 005 | Batch: 000 | Loss: 0.24732 | Correct: 470/512\n",
            "Estimator: 013 | Epoch: 005 | Batch: 000 | Loss: 0.22330 | Correct: 475/512\n",
            "Estimator: 014 | Epoch: 005 | Batch: 000 | Loss: 0.23465 | Correct: 469/512\n"
          ]
        },
        {
          "name": "stderr",
          "output_type": "stream",
          "text": [
            "2023-03-24 20:45:44,138 - INFO: Saving the model to `./BaggingClassifier_Classifier_15_ckpt.pth`\n",
            "2023-03-24 20:45:44,776 - INFO: Epoch: 005 | Validation Acc: 82.834 % | Historical Best: 82.834 %\n"
          ]
        },
        {
          "name": "stdout",
          "output_type": "stream",
          "text": [
            "Estimator: 000 | Epoch: 006 | Batch: 000 | Loss: 0.16909 | Correct: 488/512\n",
            "Estimator: 001 | Epoch: 006 | Batch: 000 | Loss: 0.20142 | Correct: 480/512\n",
            "Estimator: 002 | Epoch: 006 | Batch: 000 | Loss: 0.24860 | Correct: 478/512\n",
            "Estimator: 003 | Epoch: 006 | Batch: 000 | Loss: 0.19785 | Correct: 477/512\n",
            "Estimator: 004 | Epoch: 006 | Batch: 000 | Loss: 0.16612 | Correct: 482/512\n",
            "Estimator: 005 | Epoch: 006 | Batch: 000 | Loss: 0.16564 | Correct: 480/512\n",
            "Estimator: 006 | Epoch: 006 | Batch: 000 | Loss: 0.15580 | Correct: 484/512\n",
            "Estimator: 007 | Epoch: 006 | Batch: 000 | Loss: 0.16321 | Correct: 483/512\n",
            "Estimator: 008 | Epoch: 006 | Batch: 000 | Loss: 0.21117 | Correct: 474/512\n",
            "Estimator: 009 | Epoch: 006 | Batch: 000 | Loss: 0.17356 | Correct: 487/512\n",
            "Estimator: 010 | Epoch: 006 | Batch: 000 | Loss: 0.20726 | Correct: 478/512\n",
            "Estimator: 011 | Epoch: 006 | Batch: 000 | Loss: 0.14322 | Correct: 484/512\n",
            "Estimator: 012 | Epoch: 006 | Batch: 000 | Loss: 0.16429 | Correct: 485/512\n",
            "Estimator: 013 | Epoch: 006 | Batch: 000 | Loss: 0.20343 | Correct: 477/512\n",
            "Estimator: 014 | Epoch: 006 | Batch: 000 | Loss: 0.19505 | Correct: 471/512\n"
          ]
        },
        {
          "name": "stderr",
          "output_type": "stream",
          "text": [
            "2023-03-24 21:41:27,878 - INFO: Saving the model to `./BaggingClassifier_Classifier_15_ckpt.pth`\n",
            "2023-03-24 21:41:28,496 - INFO: Epoch: 006 | Validation Acc: 82.968 % | Historical Best: 82.968 %\n"
          ]
        },
        {
          "name": "stdout",
          "output_type": "stream",
          "text": [
            "Estimator: 000 | Epoch: 007 | Batch: 000 | Loss: 0.13205 | Correct: 494/512\n",
            "Estimator: 001 | Epoch: 007 | Batch: 000 | Loss: 0.13796 | Correct: 487/512\n",
            "Estimator: 002 | Epoch: 007 | Batch: 000 | Loss: 0.15539 | Correct: 490/512\n",
            "Estimator: 003 | Epoch: 007 | Batch: 000 | Loss: 0.09907 | Correct: 495/512\n",
            "Estimator: 004 | Epoch: 007 | Batch: 000 | Loss: 0.13719 | Correct: 484/512\n",
            "Estimator: 005 | Epoch: 007 | Batch: 000 | Loss: 0.15581 | Correct: 488/512\n",
            "Estimator: 006 | Epoch: 007 | Batch: 000 | Loss: 0.20655 | Correct: 476/512\n",
            "Estimator: 007 | Epoch: 007 | Batch: 000 | Loss: 0.11277 | Correct: 487/512\n",
            "Estimator: 008 | Epoch: 007 | Batch: 000 | Loss: 0.18436 | Correct: 480/512\n",
            "Estimator: 009 | Epoch: 007 | Batch: 000 | Loss: 0.21889 | Correct: 480/512\n",
            "Estimator: 010 | Epoch: 007 | Batch: 000 | Loss: 0.14836 | Correct: 485/512\n",
            "Estimator: 011 | Epoch: 007 | Batch: 000 | Loss: 0.18898 | Correct: 480/512\n",
            "Estimator: 012 | Epoch: 007 | Batch: 000 | Loss: 0.25544 | Correct: 475/512\n",
            "Estimator: 013 | Epoch: 007 | Batch: 000 | Loss: 0.17548 | Correct: 482/512\n",
            "Estimator: 014 | Epoch: 007 | Batch: 000 | Loss: 0.16646 | Correct: 489/512\n"
          ]
        },
        {
          "name": "stderr",
          "output_type": "stream",
          "text": [
            "2023-03-24 22:37:15,029 - INFO: Saving the model to `./BaggingClassifier_Classifier_15_ckpt.pth`\n",
            "2023-03-24 22:37:15,640 - INFO: Epoch: 007 | Validation Acc: 83.023 % | Historical Best: 83.023 %\n"
          ]
        },
        {
          "name": "stdout",
          "output_type": "stream",
          "text": [
            "Estimator: 000 | Epoch: 008 | Batch: 000 | Loss: 0.13101 | Correct: 484/512\n",
            "Estimator: 001 | Epoch: 008 | Batch: 000 | Loss: 0.14794 | Correct: 482/512\n",
            "Estimator: 002 | Epoch: 008 | Batch: 000 | Loss: 0.15411 | Correct: 490/512\n",
            "Estimator: 003 | Epoch: 008 | Batch: 000 | Loss: 0.16178 | Correct: 480/512\n",
            "Estimator: 004 | Epoch: 008 | Batch: 000 | Loss: 0.11231 | Correct: 493/512\n",
            "Estimator: 005 | Epoch: 008 | Batch: 000 | Loss: 0.13924 | Correct: 484/512\n",
            "Estimator: 006 | Epoch: 008 | Batch: 000 | Loss: 0.11262 | Correct: 489/512\n",
            "Estimator: 007 | Epoch: 008 | Batch: 000 | Loss: 0.13476 | Correct: 489/512\n",
            "Estimator: 008 | Epoch: 008 | Batch: 000 | Loss: 0.10568 | Correct: 497/512\n",
            "Estimator: 009 | Epoch: 008 | Batch: 000 | Loss: 0.11625 | Correct: 488/512\n",
            "Estimator: 010 | Epoch: 008 | Batch: 000 | Loss: 0.13157 | Correct: 485/512\n",
            "Estimator: 011 | Epoch: 008 | Batch: 000 | Loss: 0.17686 | Correct: 484/512\n",
            "Estimator: 012 | Epoch: 008 | Batch: 000 | Loss: 0.13409 | Correct: 494/512\n",
            "Estimator: 013 | Epoch: 008 | Batch: 000 | Loss: 0.17612 | Correct: 481/512\n",
            "Estimator: 014 | Epoch: 008 | Batch: 000 | Loss: 0.26009 | Correct: 476/512\n"
          ]
        },
        {
          "name": "stderr",
          "output_type": "stream",
          "text": [
            "2023-03-24 23:33:01,714 - INFO: Epoch: 008 | Validation Acc: 82.993 % | Historical Best: 83.023 %\n"
          ]
        },
        {
          "name": "stdout",
          "output_type": "stream",
          "text": [
            "Estimator: 000 | Epoch: 009 | Batch: 000 | Loss: 0.13942 | Correct: 488/512\n"
          ]
        },
        {
          "ename": "KeyboardInterrupt",
          "evalue": "",
          "output_type": "error",
          "traceback": [
            "\u001b[0;31m---------------------------------------------------------------------------\u001b[0m",
            "\u001b[0;31mKeyboardInterrupt\u001b[0m                         Traceback (most recent call last)",
            "Cell \u001b[0;32mIn[7], line 29\u001b[0m\n\u001b[1;32m     26\u001b[0m model\u001b[39m.\u001b[39mset_optimizer(\u001b[39m'\u001b[39m\u001b[39mAdam\u001b[39m\u001b[39m'\u001b[39m, lr\u001b[39m=\u001b[39mlearning_rate)\n\u001b[1;32m     27\u001b[0m model\u001b[39m.\u001b[39mset_scheduler(\u001b[39m'\u001b[39m\u001b[39mCosineAnnealingLR\u001b[39m\u001b[39m'\u001b[39m, T_max\u001b[39m=\u001b[39m\u001b[39m20\u001b[39m, eta_min\u001b[39m=\u001b[39m\u001b[39m0\u001b[39m)\n\u001b[0;32m---> 29\u001b[0m model\u001b[39m.\u001b[39;49mfit(\n\u001b[1;32m     30\u001b[0m     train_loader,\n\u001b[1;32m     31\u001b[0m     epochs\u001b[39m=\u001b[39;49mnum_epoch,\n\u001b[1;32m     32\u001b[0m     test_loader\u001b[39m=\u001b[39;49mval_loader,\n\u001b[1;32m     33\u001b[0m     log_interval\u001b[39m=\u001b[39;49m\u001b[39mlen\u001b[39;49m(train_set)\u001b[39m/\u001b[39;49mbatch_size\n\u001b[1;32m     34\u001b[0m )\n",
            "File \u001b[0;32m~/miniconda3/envs/ML/lib/python3.9/site-packages/torchensemble/bagging.py:196\u001b[0m, in \u001b[0;36mBaggingClassifier.fit\u001b[0;34m(self, train_loader, epochs, log_interval, test_loader, save_model, save_dir)\u001b[0m\n\u001b[1;32m    193\u001b[0m     msg \u001b[39m=\u001b[39m \u001b[39m\"\u001b[39m\u001b[39mParallelization on the training epoch: \u001b[39m\u001b[39m{:03d}\u001b[39;00m\u001b[39m\"\u001b[39m\n\u001b[1;32m    194\u001b[0m     \u001b[39mself\u001b[39m\u001b[39m.\u001b[39mlogger\u001b[39m.\u001b[39minfo(msg\u001b[39m.\u001b[39mformat(epoch))\n\u001b[0;32m--> 196\u001b[0m rets \u001b[39m=\u001b[39m parallel(\n\u001b[1;32m    197\u001b[0m     delayed(_parallel_fit_per_epoch)(\n\u001b[1;32m    198\u001b[0m         dataloader,\n\u001b[1;32m    199\u001b[0m         estimator,\n\u001b[1;32m    200\u001b[0m         cur_lr,\n\u001b[1;32m    201\u001b[0m         optimizer,\n\u001b[1;32m    202\u001b[0m         \u001b[39mself\u001b[39;49m\u001b[39m.\u001b[39;49m_criterion,\n\u001b[1;32m    203\u001b[0m         idx,\n\u001b[1;32m    204\u001b[0m         epoch,\n\u001b[1;32m    205\u001b[0m         log_interval,\n\u001b[1;32m    206\u001b[0m         \u001b[39mself\u001b[39;49m\u001b[39m.\u001b[39;49mdevice,\n\u001b[1;32m    207\u001b[0m         \u001b[39mTrue\u001b[39;49;00m,\n\u001b[1;32m    208\u001b[0m     )\n\u001b[1;32m    209\u001b[0m     \u001b[39mfor\u001b[39;49;00m idx, (estimator, optimizer, dataloader) \u001b[39min\u001b[39;49;00m \u001b[39menumerate\u001b[39;49m(\n\u001b[1;32m    210\u001b[0m         \u001b[39mzip\u001b[39;49m(estimators, optimizers, train_loader)\n\u001b[1;32m    211\u001b[0m     )\n\u001b[1;32m    212\u001b[0m )\n\u001b[1;32m    214\u001b[0m estimators, optimizers \u001b[39m=\u001b[39m [], []\n\u001b[1;32m    215\u001b[0m \u001b[39mfor\u001b[39;00m estimator, optimizer \u001b[39min\u001b[39;00m rets:\n",
            "File \u001b[0;32m~/miniconda3/envs/ML/lib/python3.9/site-packages/joblib/parallel.py:1048\u001b[0m, in \u001b[0;36mParallel.__call__\u001b[0;34m(self, iterable)\u001b[0m\n\u001b[1;32m   1039\u001b[0m \u001b[39mtry\u001b[39;00m:\n\u001b[1;32m   1040\u001b[0m     \u001b[39m# Only set self._iterating to True if at least a batch\u001b[39;00m\n\u001b[1;32m   1041\u001b[0m     \u001b[39m# was dispatched. In particular this covers the edge\u001b[39;00m\n\u001b[0;32m   (...)\u001b[0m\n\u001b[1;32m   1045\u001b[0m     \u001b[39m# was very quick and its callback already dispatched all the\u001b[39;00m\n\u001b[1;32m   1046\u001b[0m     \u001b[39m# remaining jobs.\u001b[39;00m\n\u001b[1;32m   1047\u001b[0m     \u001b[39mself\u001b[39m\u001b[39m.\u001b[39m_iterating \u001b[39m=\u001b[39m \u001b[39mFalse\u001b[39;00m\n\u001b[0;32m-> 1048\u001b[0m     \u001b[39mif\u001b[39;00m \u001b[39mself\u001b[39;49m\u001b[39m.\u001b[39;49mdispatch_one_batch(iterator):\n\u001b[1;32m   1049\u001b[0m         \u001b[39mself\u001b[39m\u001b[39m.\u001b[39m_iterating \u001b[39m=\u001b[39m \u001b[39mself\u001b[39m\u001b[39m.\u001b[39m_original_iterator \u001b[39mis\u001b[39;00m \u001b[39mnot\u001b[39;00m \u001b[39mNone\u001b[39;00m\n\u001b[1;32m   1051\u001b[0m     \u001b[39mwhile\u001b[39;00m \u001b[39mself\u001b[39m\u001b[39m.\u001b[39mdispatch_one_batch(iterator):\n",
            "File \u001b[0;32m~/miniconda3/envs/ML/lib/python3.9/site-packages/joblib/parallel.py:864\u001b[0m, in \u001b[0;36mParallel.dispatch_one_batch\u001b[0;34m(self, iterator)\u001b[0m\n\u001b[1;32m    862\u001b[0m     \u001b[39mreturn\u001b[39;00m \u001b[39mFalse\u001b[39;00m\n\u001b[1;32m    863\u001b[0m \u001b[39melse\u001b[39;00m:\n\u001b[0;32m--> 864\u001b[0m     \u001b[39mself\u001b[39;49m\u001b[39m.\u001b[39;49m_dispatch(tasks)\n\u001b[1;32m    865\u001b[0m     \u001b[39mreturn\u001b[39;00m \u001b[39mTrue\u001b[39;00m\n",
            "File \u001b[0;32m~/miniconda3/envs/ML/lib/python3.9/site-packages/joblib/parallel.py:782\u001b[0m, in \u001b[0;36mParallel._dispatch\u001b[0;34m(self, batch)\u001b[0m\n\u001b[1;32m    780\u001b[0m \u001b[39mwith\u001b[39;00m \u001b[39mself\u001b[39m\u001b[39m.\u001b[39m_lock:\n\u001b[1;32m    781\u001b[0m     job_idx \u001b[39m=\u001b[39m \u001b[39mlen\u001b[39m(\u001b[39mself\u001b[39m\u001b[39m.\u001b[39m_jobs)\n\u001b[0;32m--> 782\u001b[0m     job \u001b[39m=\u001b[39m \u001b[39mself\u001b[39;49m\u001b[39m.\u001b[39;49m_backend\u001b[39m.\u001b[39;49mapply_async(batch, callback\u001b[39m=\u001b[39;49mcb)\n\u001b[1;32m    783\u001b[0m     \u001b[39m# A job can complete so quickly than its callback is\u001b[39;00m\n\u001b[1;32m    784\u001b[0m     \u001b[39m# called before we get here, causing self._jobs to\u001b[39;00m\n\u001b[1;32m    785\u001b[0m     \u001b[39m# grow. To ensure correct results ordering, .insert is\u001b[39;00m\n\u001b[1;32m    786\u001b[0m     \u001b[39m# used (rather than .append) in the following line\u001b[39;00m\n\u001b[1;32m    787\u001b[0m     \u001b[39mself\u001b[39m\u001b[39m.\u001b[39m_jobs\u001b[39m.\u001b[39minsert(job_idx, job)\n",
            "File \u001b[0;32m~/miniconda3/envs/ML/lib/python3.9/site-packages/joblib/_parallel_backends.py:208\u001b[0m, in \u001b[0;36mSequentialBackend.apply_async\u001b[0;34m(self, func, callback)\u001b[0m\n\u001b[1;32m    206\u001b[0m \u001b[39mdef\u001b[39;00m \u001b[39mapply_async\u001b[39m(\u001b[39mself\u001b[39m, func, callback\u001b[39m=\u001b[39m\u001b[39mNone\u001b[39;00m):\n\u001b[1;32m    207\u001b[0m \u001b[39m    \u001b[39m\u001b[39m\"\"\"Schedule a func to be run\"\"\"\u001b[39;00m\n\u001b[0;32m--> 208\u001b[0m     result \u001b[39m=\u001b[39m ImmediateResult(func)\n\u001b[1;32m    209\u001b[0m     \u001b[39mif\u001b[39;00m callback:\n\u001b[1;32m    210\u001b[0m         callback(result)\n",
            "File \u001b[0;32m~/miniconda3/envs/ML/lib/python3.9/site-packages/joblib/_parallel_backends.py:572\u001b[0m, in \u001b[0;36mImmediateResult.__init__\u001b[0;34m(self, batch)\u001b[0m\n\u001b[1;32m    569\u001b[0m \u001b[39mdef\u001b[39;00m \u001b[39m__init__\u001b[39m(\u001b[39mself\u001b[39m, batch):\n\u001b[1;32m    570\u001b[0m     \u001b[39m# Don't delay the application, to avoid keeping the input\u001b[39;00m\n\u001b[1;32m    571\u001b[0m     \u001b[39m# arguments in memory\u001b[39;00m\n\u001b[0;32m--> 572\u001b[0m     \u001b[39mself\u001b[39m\u001b[39m.\u001b[39mresults \u001b[39m=\u001b[39m batch()\n",
            "File \u001b[0;32m~/miniconda3/envs/ML/lib/python3.9/site-packages/joblib/parallel.py:263\u001b[0m, in \u001b[0;36mBatchedCalls.__call__\u001b[0;34m(self)\u001b[0m\n\u001b[1;32m    259\u001b[0m \u001b[39mdef\u001b[39;00m \u001b[39m__call__\u001b[39m(\u001b[39mself\u001b[39m):\n\u001b[1;32m    260\u001b[0m     \u001b[39m# Set the default nested backend to self._backend but do not set the\u001b[39;00m\n\u001b[1;32m    261\u001b[0m     \u001b[39m# change the default number of processes to -1\u001b[39;00m\n\u001b[1;32m    262\u001b[0m     \u001b[39mwith\u001b[39;00m parallel_backend(\u001b[39mself\u001b[39m\u001b[39m.\u001b[39m_backend, n_jobs\u001b[39m=\u001b[39m\u001b[39mself\u001b[39m\u001b[39m.\u001b[39m_n_jobs):\n\u001b[0;32m--> 263\u001b[0m         \u001b[39mreturn\u001b[39;00m [func(\u001b[39m*\u001b[39margs, \u001b[39m*\u001b[39m\u001b[39m*\u001b[39mkwargs)\n\u001b[1;32m    264\u001b[0m                 \u001b[39mfor\u001b[39;00m func, args, kwargs \u001b[39min\u001b[39;00m \u001b[39mself\u001b[39m\u001b[39m.\u001b[39mitems]\n",
            "File \u001b[0;32m~/miniconda3/envs/ML/lib/python3.9/site-packages/joblib/parallel.py:263\u001b[0m, in \u001b[0;36m<listcomp>\u001b[0;34m(.0)\u001b[0m\n\u001b[1;32m    259\u001b[0m \u001b[39mdef\u001b[39;00m \u001b[39m__call__\u001b[39m(\u001b[39mself\u001b[39m):\n\u001b[1;32m    260\u001b[0m     \u001b[39m# Set the default nested backend to self._backend but do not set the\u001b[39;00m\n\u001b[1;32m    261\u001b[0m     \u001b[39m# change the default number of processes to -1\u001b[39;00m\n\u001b[1;32m    262\u001b[0m     \u001b[39mwith\u001b[39;00m parallel_backend(\u001b[39mself\u001b[39m\u001b[39m.\u001b[39m_backend, n_jobs\u001b[39m=\u001b[39m\u001b[39mself\u001b[39m\u001b[39m.\u001b[39m_n_jobs):\n\u001b[0;32m--> 263\u001b[0m         \u001b[39mreturn\u001b[39;00m [func(\u001b[39m*\u001b[39;49margs, \u001b[39m*\u001b[39;49m\u001b[39m*\u001b[39;49mkwargs)\n\u001b[1;32m    264\u001b[0m                 \u001b[39mfor\u001b[39;00m func, args, kwargs \u001b[39min\u001b[39;00m \u001b[39mself\u001b[39m\u001b[39m.\u001b[39mitems]\n",
            "File \u001b[0;32m~/miniconda3/envs/ML/lib/python3.9/site-packages/torchensemble/bagging.py:50\u001b[0m, in \u001b[0;36m_parallel_fit_per_epoch\u001b[0;34m(train_loader, estimator, cur_lr, optimizer, criterion, idx, epoch, log_interval, device, is_classification)\u001b[0m\n\u001b[1;32m     46\u001b[0m     set_module\u001b[39m.\u001b[39mupdate_lr(optimizer, cur_lr)\n\u001b[1;32m     48\u001b[0m \u001b[39mfor\u001b[39;00m batch_idx, elem \u001b[39min\u001b[39;00m \u001b[39menumerate\u001b[39m(train_loader):\n\u001b[0;32m---> 50\u001b[0m     data, target \u001b[39m=\u001b[39m io\u001b[39m.\u001b[39;49msplit_data_target(elem, device)\n\u001b[1;32m     51\u001b[0m     batch_size \u001b[39m=\u001b[39m data[\u001b[39m0\u001b[39m]\u001b[39m.\u001b[39msize(\u001b[39m0\u001b[39m)\n\u001b[1;32m     53\u001b[0m     optimizer\u001b[39m.\u001b[39mzero_grad()\n",
            "File \u001b[0;32m~/miniconda3/envs/ML/lib/python3.9/site-packages/torchensemble/utils/io.py:97\u001b[0m, in \u001b[0;36msplit_data_target\u001b[0;34m(element, device, logger)\u001b[0m\n\u001b[1;32m     94\u001b[0m \u001b[39mif\u001b[39;00m \u001b[39mlen\u001b[39m(element) \u001b[39m==\u001b[39m \u001b[39m2\u001b[39m:\n\u001b[1;32m     95\u001b[0m     \u001b[39m# Dataloader with one input and one target\u001b[39;00m\n\u001b[1;32m     96\u001b[0m     data, target \u001b[39m=\u001b[39m element[\u001b[39m0\u001b[39m], element[\u001b[39m1\u001b[39m]\n\u001b[0;32m---> 97\u001b[0m     \u001b[39mreturn\u001b[39;00m [data\u001b[39m.\u001b[39;49mto(device)], target\u001b[39m.\u001b[39mto(device)  \u001b[39m# tensor -> list\u001b[39;00m\n\u001b[1;32m     98\u001b[0m \u001b[39melif\u001b[39;00m \u001b[39mlen\u001b[39m(element) \u001b[39m>\u001b[39m \u001b[39m2\u001b[39m:\n\u001b[1;32m     99\u001b[0m     \u001b[39m# Dataloader with multiple inputs and one target\u001b[39;00m\n\u001b[1;32m    100\u001b[0m     data, target \u001b[39m=\u001b[39m element[:\u001b[39m-\u001b[39m\u001b[39m1\u001b[39m], element[\u001b[39m-\u001b[39m\u001b[39m1\u001b[39m]\n",
            "\u001b[0;31mKeyboardInterrupt\u001b[0m: "
          ]
        }
      ],
      "source": [
        "from torchensemble import BaggingClassifier\n",
        "from torchensemble.utils.logging import set_logger\n",
        "\n",
        "logger = set_logger('acc_BaggingClassifier')\n",
        "\n",
        "# create model, define a loss function, and optimizer\n",
        "model = Classifier(\n",
        "    input_dim=input_dim,\n",
        "    hidden_dim=hidden_dim,\n",
        "    num_layers=num_layers, \n",
        "    bidirectional=bidirectional,\n",
        "    concat_nframes = concat_nframes,\n",
        "    output_dim=output_dim,\n",
        "    dropout=dropout\n",
        ").to(device)\n",
        "\n",
        "model = BaggingClassifier(\n",
        "    estimator = model,\n",
        "    n_estimators = n_estimators,\n",
        "    cuda = True\n",
        ")\n",
        "\n",
        "criterion = nn.CrossEntropyLoss()\n",
        "\n",
        "model.set_criterion(criterion)\n",
        "model.set_optimizer('Adam', lr=learning_rate)\n",
        "model.set_scheduler('CosineAnnealingLR', T_max=20, eta_min=0)\n",
        "\n",
        "model.fit(\n",
        "    train_loader,\n",
        "    epochs=num_epoch,\n",
        "    test_loader=val_loader,\n",
        "    log_interval=len(train_set)/batch_size\n",
        ")\n"
      ]
    },
    {
      "cell_type": "code",
      "execution_count": 8,
      "metadata": {
        "id": "ab33MxosWLmG"
      },
      "outputs": [
        {
          "data": {
            "text/plain": [
              "3030"
            ]
          },
          "execution_count": 8,
          "metadata": {},
          "output_type": "execute_result"
        }
      ],
      "source": [
        "del train_set, val_set\n",
        "del train_loader, val_loader\n",
        "gc.collect()"
      ]
    },
    {
      "cell_type": "markdown",
      "metadata": {
        "id": "1Hi7jTn3PX-m"
      },
      "source": [
        "# Testing\n",
        "Create a testing dataset, and load model from the saved checkpoint."
      ]
    },
    {
      "cell_type": "code",
      "execution_count": 9,
      "metadata": {
        "id": "VOG1Ou0PGrhc"
      },
      "outputs": [
        {
          "name": "stdout",
          "output_type": "stream",
          "text": [
            "[Dataset] - # phone classes: 41, number of utterances for test: 857\n"
          ]
        },
        {
          "name": "stderr",
          "output_type": "stream",
          "text": [
            "857it [00:01, 461.57it/s]"
          ]
        },
        {
          "name": "stdout",
          "output_type": "stream",
          "text": [
            "[INFO] test set\n",
            "torch.Size([527364, 1911])\n"
          ]
        },
        {
          "name": "stderr",
          "output_type": "stream",
          "text": [
            "\n"
          ]
        }
      ],
      "source": [
        "# load data\n",
        "test_X = preprocess_data(split='test', feat_dir='./libriphone/feat', phone_path='./libriphone', concat_nframes=concat_nframes)\n",
        "test_set = LibriDataset(test_X, None)\n",
        "test_loader = DataLoader(test_set, batch_size=batch_size, shuffle=False)"
      ]
    },
    {
      "cell_type": "code",
      "execution_count": 10,
      "metadata": {},
      "outputs": [],
      "source": [
        "from torchensemble.utils import io\n",
        "\n",
        "model = Classifier(\n",
        "    input_dim=input_dim,\n",
        "    hidden_dim=hidden_dim,\n",
        "    num_layers=num_layers, \n",
        "    bidirectional=bidirectional,\n",
        "    concat_nframes = concat_nframes,\n",
        "    output_dim=output_dim,\n",
        "    dropout=dropout\n",
        ").to(device)\n",
        "\n",
        "model = BaggingClassifier(\n",
        "    estimator = model,\n",
        "    n_estimators = n_estimators,\n",
        "    cuda = True\n",
        ")\n",
        "\n",
        "io.load(model, save_dir=model_path)"
      ]
    },
    {
      "cell_type": "markdown",
      "metadata": {
        "id": "zp-DV1p4r7Nz"
      },
      "source": [
        "Make prediction."
      ]
    },
    {
      "cell_type": "code",
      "execution_count": 11,
      "metadata": {
        "id": "84HU5GGjPqR0"
      },
      "outputs": [
        {
          "name": "stderr",
          "output_type": "stream",
          "text": [
            "100%|██████████| 1031/1031 [03:57<00:00,  4.34it/s]\n"
          ]
        }
      ],
      "source": [
        "pred = np.array([], dtype=np.int32)\n",
        "\n",
        "model.eval()\n",
        "with torch.no_grad():\n",
        "    for i, batch in enumerate(tqdm(test_loader)):\n",
        "        features = batch\n",
        "        features = features.to(device)\n",
        "\n",
        "        outputs = model(features)\n",
        "\n",
        "        _, test_pred = torch.max(outputs, 1) # get the index of the class with the highest probability\n",
        "        pred = np.concatenate((pred, test_pred.cpu().numpy()), axis=0)"
      ]
    },
    {
      "cell_type": "markdown",
      "metadata": {
        "id": "wyZqy40Prz0v"
      },
      "source": [
        "Write prediction to a CSV file.\n",
        "\n",
        "After finish running this block, download the file `prediction.csv` from the files section on the left-hand side and submit it to Kaggle."
      ]
    },
    {
      "cell_type": "code",
      "execution_count": 12,
      "metadata": {
        "id": "GuljYSPHcZir"
      },
      "outputs": [],
      "source": [
        "with open('prediction.csv', 'w') as f:\n",
        "    f.write('Id,Class\\n')\n",
        "    for i, y in enumerate(pred):\n",
        "        f.write('{},{}\\n'.format(i, y))"
      ]
    }
  ],
  "metadata": {
    "accelerator": "GPU",
    "colab": {
      "provenance": []
    },
    "kernelspec": {
      "display_name": "Python 3",
      "name": "python3"
    },
    "language_info": {
      "codemirror_mode": {
        "name": "ipython",
        "version": 3
      },
      "file_extension": ".py",
      "mimetype": "text/x-python",
      "name": "python",
      "nbconvert_exporter": "python",
      "pygments_lexer": "ipython3",
      "version": "3.9.16"
    }
  },
  "nbformat": 4,
  "nbformat_minor": 0
}
